{
 "cells": [
  {
   "cell_type": "markdown",
   "id": "8f1c5c1b-fb72-40f4-b09b-3daa57868052",
   "metadata": {},
   "source": [
    "## Ch04 중첩 조건문 nested conditional\n",
    "- if 블록 안에 if 블록\n",
    "- 구분은 들여쓰기\n",
    "- 조건이 여러개일 때 사용\n",
    "- 최대한 쉽게 코드를 짜기 위해 지양해야한다."
   ]
  },
  {
   "cell_type": "markdown",
   "id": "a7879701-89d2-4ca1-a012-9570ff3a8288",
   "metadata": {},
   "source": [
    "### 논리연산자\n",
    "- 비교연산 조건을 여러 번 사용하는 경우\n",
    "    - x > 3, x < 5\n",
    "- and, or, not\n",
    "    - A and B: A 그리고 B, 둘다 참일 때 True (&)\n",
    "    - A or B: A 혹은 B, 둘 중 하나만 참이면 True (|)\n",
    "    - not A: A 참이면 False, 거짓이면 True (~)"
   ]
  },
  {
   "cell_type": "code",
   "execution_count": 4,
   "id": "46bae3c4-5a59-4aaa-9bed-7c8cc5db17a9",
   "metadata": {},
   "outputs": [
    {
     "name": "stdout",
     "output_type": "stream",
     "text": [
      "b\n"
     ]
    }
   ],
   "source": [
    "# 3 < x < 5\n",
    "x = 1\n",
    "if x > 3:\n",
    "    if x < 5:\n",
    "        print('a')\n",
    "    else:\n",
    "        print('b')\n",
    "else:\n",
    "    print('b')\n",
    "# 너무 복잡하게 되어있음. 따라서 지양해야함."
   ]
  },
  {
   "cell_type": "code",
   "execution_count": null,
   "id": "8df3e180-4bef-4716-a774-5eca2248a054",
   "metadata": {},
   "outputs": [],
   "source": [
    "# 벙법1\n",
    "if (x > 3) and (x < 5): # 논리연산자 사용하는 방법\n",
    "    print('a')\n",
    "else:\n",
    "    print('b')\n",
    "\n",
    "# 방법2\n",
    "if 3 < x < 5: # 파이썬에서만 가능\n",
    "    print('a')\n",
    "else:\n",
    "    print('b')"
   ]
  },
  {
   "cell_type": "markdown",
   "id": "cf7f554a-3fa9-40c1-90da-a2ea5ff74436",
   "metadata": {},
   "source": [
    "### True/False\n",
    "- A = True\n",
    "- \"만약 A가 참이면, ...\""
   ]
  },
  {
   "cell_type": "code",
   "execution_count": null,
   "id": "9d549d8f-02e1-4840-a9cc-c1af6ab22062",
   "metadata": {},
   "outputs": [],
   "source": [
    "if a == True: # 아님\n",
    "\n",
    "if a: # 아무것도 없이 a만 하면 'a가 참이라면'이 된다.\n",
    "    print()"
   ]
  },
  {
   "cell_type": "markdown",
   "id": "3e50a384-8b56-4e13-a939-8002d5a45aa2",
   "metadata": {},
   "source": [
    "### in\n",
    "- membership operator\n",
    "- 요소가 안에 포함되어 있는가 or 비슷한 조건문이 여러개일 때\n",
    "- A in B = A가 B에 포함되어 있나"
   ]
  },
  {
   "cell_type": "code",
   "execution_count": 6,
   "id": "e05585a4-bd73-489a-9b32-f6579240f70a",
   "metadata": {},
   "outputs": [
    {
     "name": "stdout",
     "output_type": "stream",
     "text": [
      "yes\n"
     ]
    }
   ],
   "source": [
    "# 단어에 모음이 있냐 없냐\n",
    "word = 'lion'\n",
    "\"\"\"\n",
    "# 잘못된 예시\n",
    "if word in ['a', 'e', 'i', 'o', 'u']: # 이거는 반대로임. 모음들 안에 word가 있냐임.\n",
    "    print(\"모음이 있습니다.\")\n",
    "\n",
    "if ['a', 'e', 'i', 'o', 'u'] in word: # 타입 에러. list 와 string.\n",
    "\"\"\"    \n",
    "# 정답\n",
    "if 'a' or 'e' or 'i' or 'o' or 'u' in word:\n",
    "    print(\"yes\")"
   ]
  },
  {
   "cell_type": "markdown",
   "id": "9b005c9b-ec56-490c-818c-9d96d91614e7",
   "metadata": {},
   "source": [
    "### 코끼리연산자\n",
    "- walrus operator\n",
    "- :=\n",
    "- 할당과 테스트 동시에 하는 기능"
   ]
  },
  {
   "cell_type": "code",
   "execution_count": 7,
   "id": "3a1b2085-3be3-483d-8ad1-19df889b0fd0",
   "metadata": {},
   "outputs": [
    {
     "name": "stdout",
     "output_type": "stream",
     "text": [
      "yes\n"
     ]
    }
   ],
   "source": [
    "\"\"\"\n",
    "diff = word_limit - len(word) # len() 길이 세줌\n",
    "if diff > 0:\n",
    "    print(\"가능\")\n",
    "else:\n",
    "    print(\"불가능\")\n",
    "\"\"\"\n",
    "word_limit = 6\n",
    "if diff := word_limit - len(word) > 0:\n",
    "    print('yes')\n",
    "else: print('no')"
   ]
  },
  {
   "cell_type": "markdown",
   "id": "761a89f2-5572-40c8-b4ab-aedc38a9f0b8",
   "metadata": {},
   "source": [
    "## Ch05. String | 문자열\n",
    "- 시스템에서 가장 작은 단위 (바이트가 제일 작다)\n",
    "- 불변적. immutable\n",
    "    - 예: jack -> jeck (할 수 없음)\n",
    "- '', \"\"으로 선언한다.\n",
    "    - 예: \"5.5\"\n",
    "    - ''', \"\"\" 주석.\n",
    "- 형변환은 str()\n",
    "\n",
    "### escape character | 이스케이프문자\n",
    "- 특수한 형태의 문자열, 눈에 보이는 대로 인식되지 않는 문자\n",
    "- \\ + ch (이렇게 그대로 인식해라.)\n",
    "- 예: \\n, \\t, \\b, \\', \\\", ...\n",
    "    - \\n: 줄 바꿈\n",
    "    - \\t: tab\n",
    "    - \\b: 하나 지우기\n",
    "    - \\', \\\": ', \"을 문자열로 쓰고 싶을 때\n",
    "    - \\n 출력하고 싶다면 \\\\ 사용. or r'' 사용\n",
    "- 다른 스트링을 만드는 것이 아니라 출력의 문제."
   ]
  },
  {
   "cell_type": "code",
   "execution_count": 11,
   "id": "6503943a-0096-4a32-b35c-8ff7e8160e3c",
   "metadata": {},
   "outputs": [
    {
     "data": {
      "text/plain": [
       "'happy\\nbirthday'"
      ]
     },
     "execution_count": 11,
     "metadata": {},
     "output_type": "execute_result"
    }
   ],
   "source": [
    "sent = 'happy\\nbirthday'\n",
    "sent # \\n 보임"
   ]
  },
  {
   "cell_type": "code",
   "execution_count": 12,
   "id": "2da7e9af-30e2-4dcd-8859-fcc74ad456ab",
   "metadata": {},
   "outputs": [
    {
     "name": "stdout",
     "output_type": "stream",
     "text": [
      "happy\n",
      "birthday\n"
     ]
    }
   ],
   "source": [
    "print(sent) # \\n 적용됨."
   ]
  },
  {
   "cell_type": "markdown",
   "id": "2b40102d-da61-4d8c-8ad4-8b880dc28b5b",
   "metadata": {},
   "source": [
    "### 연산\n",
    "- concatenatation\n",
    "    - '' + '' => 공백 없이 결합하는 방법\n",
    "- 곱하기\n",
    "    - ' '*5 => 공백 없이 복제"
   ]
  },
  {
   "cell_type": "code",
   "execution_count": 15,
   "id": "fed6fd4c-2b66-4f57-82b6-ac4bb02dd4ad",
   "metadata": {},
   "outputs": [
    {
     "data": {
      "text/plain": [
       "('eunsangeunsang', 'eunsangeunsangeunsang')"
      ]
     },
     "execution_count": 15,
     "metadata": {},
     "output_type": "execute_result"
    }
   ],
   "source": [
    "name = 'eunsang'\n",
    "name + name, name * 3"
   ]
  },
  {
   "cell_type": "code",
   "execution_count": 16,
   "id": "f42a9506-7a06-40f0-933a-12732b455ea3",
   "metadata": {},
   "outputs": [
    {
     "ename": "TypeError",
     "evalue": "'str' object does not support item assignment",
     "output_type": "error",
     "traceback": [
      "\u001b[1;31m---------------------------------------------------------------------------\u001b[0m",
      "\u001b[1;31mTypeError\u001b[0m                                 Traceback (most recent call last)",
      "\u001b[1;32m~\\AppData\\Local\\Temp/ipykernel_15032/849999578.py\u001b[0m in \u001b[0;36m<module>\u001b[1;34m\u001b[0m\n\u001b[0;32m      1\u001b[0m \u001b[1;31m# immutable\u001b[0m\u001b[1;33m\u001b[0m\u001b[1;33m\u001b[0m\u001b[0m\n\u001b[1;32m----> 2\u001b[1;33m \u001b[0mname\u001b[0m\u001b[1;33m[\u001b[0m\u001b[1;36m1\u001b[0m\u001b[1;33m]\u001b[0m \u001b[1;33m=\u001b[0m \u001b[1;34m'o'\u001b[0m \u001b[1;31m# u->o 못바꾼다.\u001b[0m\u001b[1;33m\u001b[0m\u001b[1;33m\u001b[0m\u001b[0m\n\u001b[0m",
      "\u001b[1;31mTypeError\u001b[0m: 'str' object does not support item assignment"
     ]
    }
   ],
   "source": [
    "# immutable\n",
    "name[1] = 'o' # u->o 못바꾼다."
   ]
  },
  {
   "cell_type": "markdown",
   "id": "dfb005f8-dc6a-4df9-a422-c2914a667d92",
   "metadata": {},
   "source": [
    "### 슬라이싱, 추출\n",
    "- 문자열의 일부분을 떼어내는 작업\n",
    "- 대괄호 사용, 그 안에 오프셋(정해진 자리, 상대적인 주소)을 지정\n",
    "- 오프셋은 0부터 시작한다.\n",
    "    0123\n",
    "    john\n",
    "    -4 -1\n",
    "- 음수도 가능함. -1부터 시작\n",
    "- 오프셋은 [시작:끝:스텝] # step=1 이 디폴트임.\n",
    "- 시작은 포함, 끝은 포함하지 않음. (이상 ~ 미만)"
   ]
  },
  {
   "cell_type": "code",
   "execution_count": 17,
   "id": "56276849-18ca-4a2b-8dd5-f4c4d41df241",
   "metadata": {},
   "outputs": [
    {
     "data": {
      "text/plain": [
       "'p'"
      ]
     },
     "execution_count": 17,
     "metadata": {},
     "output_type": "execute_result"
    }
   ],
   "source": [
    "sent[2:3]"
   ]
  },
  {
   "cell_type": "code",
   "execution_count": 22,
   "id": "aea4170f-92ef-438a-b132-29478e517004",
   "metadata": {},
   "outputs": [
    {
     "data": {
      "text/plain": [
       "'happy'"
      ]
     },
     "execution_count": 22,
     "metadata": {},
     "output_type": "execute_result"
    }
   ],
   "source": [
    "# 처음부터 4까지 출력\n",
    "sent [:5]"
   ]
  },
  {
   "cell_type": "code",
   "execution_count": 19,
   "id": "ab1a7595-62d4-400c-ae84-35e718cf0eed",
   "metadata": {},
   "outputs": [
    {
     "data": {
      "text/plain": [
       "'hpybrha'"
      ]
     },
     "execution_count": 19,
     "metadata": {},
     "output_type": "execute_result"
    }
   ],
   "source": [
    "# 처음부터 끝까지 2스텝씩 출력\n",
    "sent[::2]"
   ]
  },
  {
   "cell_type": "code",
   "execution_count": 20,
   "id": "75fd2ec9-ce98-4806-895f-0bdf7cbebd8e",
   "metadata": {},
   "outputs": [
    {
     "data": {
      "text/plain": [
       "'yadhtrib\\nyppah'"
      ]
     },
     "execution_count": 20,
     "metadata": {},
     "output_type": "execute_result"
    }
   ],
   "source": [
    "# 모든 글자를 거꾸로 출력하세요\n",
    "sent[::-1]"
   ]
  },
  {
   "cell_type": "markdown",
   "id": "fe0436f4-13ba-4845-8788-a1d85b5c9ebe",
   "metadata": {},
   "source": [
    "## Ch05. NLTK\n",
    "- natural language toolkit\n",
    "- 자연어 분석을 위해 교육용으로 배포된 패키지\n",
    "- 내장함수, 기능들이 추가됨\n",
    "    - 토크나이즈, 파싱, 태깅, ..."
   ]
  },
  {
   "cell_type": "code",
   "execution_count": 23,
   "id": "f183382d-9e83-4530-b1d5-373767e73110",
   "metadata": {},
   "outputs": [],
   "source": [
    "# !pip install nltk # 설치"
   ]
  },
  {
   "cell_type": "code",
   "execution_count": 25,
   "id": "db14d178-381b-4d57-af17-35d8605d4e2f",
   "metadata": {},
   "outputs": [
    {
     "data": {
      "text/plain": [
       "True"
      ]
     },
     "execution_count": 25,
     "metadata": {},
     "output_type": "execute_result"
    }
   ],
   "source": [
    "import nltk # 가져오기\n",
    "nltk.download('book', quiet=True) # nltk에 접근할 때는 . 사용. 부분적으로 다운받기. quiet=true 다운로드 너무 길어서 안보이게 하기."
   ]
  },
  {
   "cell_type": "code",
   "execution_count": 26,
   "id": "8582b783-0227-48cc-891f-c4031f4dc7bc",
   "metadata": {},
   "outputs": [
    {
     "name": "stdout",
     "output_type": "stream",
     "text": [
      "*** Introductory Examples for the NLTK Book ***\n",
      "Loading text1, ..., text9 and sent1, ..., sent9\n",
      "Type the name of the text or sentence to view it.\n",
      "Type: 'texts()' or 'sents()' to list the materials.\n",
      "text1: Moby Dick by Herman Melville 1851\n",
      "text2: Sense and Sensibility by Jane Austen 1811\n",
      "text3: The Book of Genesis\n",
      "text4: Inaugural Address Corpus\n",
      "text5: Chat Corpus\n",
      "text6: Monty Python and the Holy Grail\n",
      "text7: Wall Street Journal\n",
      "text8: Personals Corpus\n",
      "text9: The Man Who Was Thursday by G . K . Chesterton 1908\n"
     ]
    },
    {
     "data": {
      "text/plain": [
       "['[',\n",
       " 'Moby',\n",
       " 'Dick',\n",
       " 'by',\n",
       " 'Herman',\n",
       " 'Melville',\n",
       " '1851',\n",
       " ']',\n",
       " 'ETYMOLOGY',\n",
       " '.']"
      ]
     },
     "execution_count": 26,
     "metadata": {},
     "output_type": "execute_result"
    }
   ],
   "source": [
    "from nltk import book #가져오기\n",
    "moby = book.text1\n",
    "moby.tokens[:10] # 토큰에 접근하는 방법\n",
    "# 토큰: 프로그래밍의 단어 단위 hello world, I'm not a coward.\n",
    "    # hello, world / I'm / I, 'm/ I, am # 이건 우리가 정함."
   ]
  },
  {
   "cell_type": "code",
   "execution_count": 27,
   "id": "e20d0df1-3182-4535-9cc4-052d25c4a090",
   "metadata": {},
   "outputs": [
    {
     "data": {
      "text/plain": [
       "260819"
      ]
     },
     "execution_count": 27,
     "metadata": {},
     "output_type": "execute_result"
    }
   ],
   "source": [
    "# 1. 길이 세기\n",
    "len(moby) # 26만자"
   ]
  },
  {
   "cell_type": "code",
   "execution_count": 28,
   "id": "021bf99f-9375-4d40-863e-d3c7cd587e5c",
   "metadata": {},
   "outputs": [
    {
     "data": {
      "text/plain": [
       "19317"
      ]
     },
     "execution_count": 28,
     "metadata": {},
     "output_type": "execute_result"
    }
   ],
   "source": [
    "# 2. 중복 없이 단어 몇 개?\n",
    "len(set(moby)) #1.9만자 list->set로 형변환시킨 것임."
   ]
  },
  {
   "cell_type": "markdown",
   "id": "94a9982d-c5d1-4d70-8d8f-0f7c28dc5b01",
   "metadata": {},
   "source": [
    "### list\n",
    "    - ['a', 2, true]\n",
    "    - 순서 o\n",
    "    - 중복 허용\n",
    "    - list()\n",
    "### set\n",
    "    - {'a', 2, True}\n",
    "    - 순서 x\n",
    "    - 중복 허용 x\n",
    "    - set()\n",
    "    - 수학의 집합 개념\n",
    "    - 인덱스 안됨."
   ]
  },
  {
   "cell_type": "code",
   "execution_count": 29,
   "id": "517ddb28-007f-49ae-8842-42fb159bad5a",
   "metadata": {},
   "outputs": [
    {
     "data": {
      "text/plain": [
       "0.07406285585022564"
      ]
     },
     "execution_count": 29,
     "metadata": {},
     "output_type": "execute_result"
    }
   ],
   "source": [
    "# lexical diversity\n",
    "len(set(moby)) / len(moby)"
   ]
  },
  {
   "cell_type": "code",
   "execution_count": 30,
   "id": "a9af3506-5528-4c41-b2b0-61db4d25551e",
   "metadata": {},
   "outputs": [
    {
     "data": {
      "text/plain": [
       "['by',\n",
       " ']',\n",
       " '[',\n",
       " 'Moby',\n",
       " 'Melville',\n",
       " 'Herman',\n",
       " 'ETYMOLOGY',\n",
       " 'Dick',\n",
       " '1851',\n",
       " '.']"
      ]
     },
     "execution_count": 30,
     "metadata": {},
     "output_type": "execute_result"
    }
   ],
   "source": [
    "# 정렬\n",
    "sorted(moby[:10], reverse=True) # reverse = true 반대로 정렬.\n",
    "# 문장부호 -> 숫자 -> 대문자 -> 소문자 순."
   ]
  },
  {
   "cell_type": "code",
   "execution_count": 31,
   "id": "107a3db2-4f9e-4049-b454-1e2068fcb159",
   "metadata": {},
   "outputs": [
    {
     "data": {
      "text/plain": [
       "['.',\n",
       " '1851',\n",
       " 'Dick',\n",
       " 'ETYMOLOGY',\n",
       " 'Herman',\n",
       " 'Melville',\n",
       " 'Moby',\n",
       " '[',\n",
       " ']',\n",
       " 'by']"
      ]
     },
     "execution_count": 31,
     "metadata": {},
     "output_type": "execute_result"
    }
   ],
   "source": [
    "sorted(moby[:10]) # 10개를 뽑아서 sorting"
   ]
  },
  {
   "cell_type": "code",
   "execution_count": 32,
   "id": "107eeb03-9c95-4b6e-a991-b5f4cae1a7e9",
   "metadata": {},
   "outputs": [
    {
     "data": {
      "text/plain": [
       "['!', '!', '!', '!', '!', '!', '!', '!', '!', '!']"
      ]
     },
     "execution_count": 32,
     "metadata": {},
     "output_type": "execute_result"
    }
   ],
   "source": [
    "sorted(moby) [:10] # sorting 해서 10개 뽑는 것."
   ]
  },
  {
   "cell_type": "code",
   "execution_count": null,
   "id": "48d1c952-2e0e-4f1d-aa4a-311f70495959",
   "metadata": {},
   "outputs": [],
   "source": []
  }
 ],
 "metadata": {
  "kernelspec": {
   "display_name": "Python 3 (ipykernel)",
   "language": "python",
   "name": "python3"
  },
  "language_info": {
   "codemirror_mode": {
    "name": "ipython",
    "version": 3
   },
   "file_extension": ".py",
   "mimetype": "text/x-python",
   "name": "python",
   "nbconvert_exporter": "python",
   "pygments_lexer": "ipython3",
   "version": "3.9.7"
  }
 },
 "nbformat": 4,
 "nbformat_minor": 5
}
