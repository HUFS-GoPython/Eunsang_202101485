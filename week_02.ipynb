{
 "cells": [
  {
   "cell_type": "markdown",
   "id": "b97dcf87-a9ae-4772-a3bf-71c2b89815a4",
   "metadata": {},
   "source": [
    "## Ch02. Variable\n",
    "- string (str)\n",
    "- float\n",
    "- integer (int)\n",
    "- boolean (bool)"
   ]
  },
  {
   "cell_type": "markdown",
   "id": "1ffbe899-37af-42cb-8c98-ae098c2f5b5f",
   "metadata": {},
   "source": [
    "여러 이름 동시에 할당"
   ]
  },
  {
   "cell_type": "code",
   "execution_count": 1,
   "id": "20dd03dd-791f-4524-bcb7-398a87816d19",
   "metadata": {},
   "outputs": [
    {
     "name": "stdout",
     "output_type": "stream",
     "text": [
      "3 3\n"
     ]
    }
   ],
   "source": [
    "three = tres = 3 # 할당 순서는 가장 뒤에서 부터 tres-three 순으로 할당됨.\n",
    "print(three, tres)"
   ]
  },
  {
   "cell_type": "code",
   "execution_count": 4,
   "id": "fd612cdc-2aed-429f-b872-79cf2301b77a",
   "metadata": {},
   "outputs": [
    {
     "name": "stdout",
     "output_type": "stream",
     "text": [
      "6 3\n"
     ]
    },
    {
     "data": {
      "text/plain": [
       "(2287437310416, 2287437310320)"
      ]
     },
     "execution_count": 4,
     "metadata": {},
     "output_type": "execute_result"
    }
   ],
   "source": [
    "three = 6 #integer는 불변객체이므로 바뀌지 않는다. id는 서로 달라진다.\n",
    "print(three, tres)\n",
    "id(three), id(tres)"
   ]
  },
  {
   "cell_type": "code",
   "execution_count": 8,
   "id": "52346945-1097-43ff-9234-2b0756613485",
   "metadata": {},
   "outputs": [
    {
     "data": {
      "text/plain": [
       "(2287517487488, 2287517487488)"
      ]
     },
     "execution_count": 8,
     "metadata": {},
     "output_type": "execute_result"
    }
   ],
   "source": [
    "p = [3, 4, 5] # list는 가변객체이므로 바뀐다.\n",
    "q = p\n",
    "p, q\n",
    "id(p), id(q)"
   ]
  },
  {
   "cell_type": "code",
   "execution_count": 7,
   "id": "13fd0eed-a78b-473b-ac4e-2a61c65f073d",
   "metadata": {},
   "outputs": [
    {
     "name": "stdout",
     "output_type": "stream",
     "text": [
      "[6, 4, 5] [6, 4, 5]\n"
     ]
    },
    {
     "data": {
      "text/plain": [
       "(2287517545280, 2287517545280)"
      ]
     },
     "execution_count": 7,
     "metadata": {},
     "output_type": "execute_result"
    }
   ],
   "source": [
    "p[0] = 6\n",
    "print(p, q)\n",
    "id(p), id(q)"
   ]
  },
  {
   "cell_type": "markdown",
   "id": "ae2affc2-85e8-4095-aded-557b25ca7bb4",
   "metadata": {},
   "source": [
    "### 자료형 변환, 형 변환\n",
    "- int(<변환할 값>)\n",
    "- float()\n",
    "- str()\n",
    "- bool() (어떤 값이 false로 바뀌는지만 기억!)"
   ]
  },
  {
   "cell_type": "code",
   "execution_count": 10,
   "id": "72ba2acc-df5e-40b9-9b75-eac6ae55f3f2",
   "metadata": {},
   "outputs": [
    {
     "data": {
      "text/plain": [
       "10"
      ]
     },
     "execution_count": 10,
     "metadata": {},
     "output_type": "execute_result"
    }
   ],
   "source": [
    "a = 10\n",
    "\n",
    "#int\n",
    "int(a)"
   ]
  },
  {
   "cell_type": "code",
   "execution_count": 11,
   "id": "9fbb0408-93ad-43c1-9092-91315edec06d",
   "metadata": {},
   "outputs": [
    {
     "data": {
      "text/plain": [
       "10.0"
      ]
     },
     "execution_count": 11,
     "metadata": {},
     "output_type": "execute_result"
    }
   ],
   "source": [
    "#float\n",
    "float(a)"
   ]
  },
  {
   "cell_type": "code",
   "execution_count": 12,
   "id": "ef8c5e2e-db9b-43b2-9207-93a3d713c6ba",
   "metadata": {},
   "outputs": [
    {
     "data": {
      "text/plain": [
       "'10'"
      ]
     },
     "execution_count": 12,
     "metadata": {},
     "output_type": "execute_result"
    }
   ],
   "source": [
    "#str\n",
    "str(a)"
   ]
  },
  {
   "cell_type": "code",
   "execution_count": 13,
   "id": "25e3dc35-2b42-419e-bee4-6d9c1edde586",
   "metadata": {},
   "outputs": [
    {
     "data": {
      "text/plain": [
       "True"
      ]
     },
     "execution_count": 13,
     "metadata": {},
     "output_type": "execute_result"
    }
   ],
   "source": [
    "#bool\n",
    "bool(a)"
   ]
  },
  {
   "cell_type": "markdown",
   "id": "d943ccc9-ead5-43b9-9982-daddbac01c96",
   "metadata": {},
   "source": [
    "- 주의할 점1: float -> int\n",
    "    - 소수점 내림된다."
   ]
  },
  {
   "cell_type": "code",
   "execution_count": 14,
   "id": "6f258d49-ba96-4027-829e-55c03363ebd3",
   "metadata": {},
   "outputs": [
    {
     "data": {
      "text/plain": [
       "12"
      ]
     },
     "execution_count": 14,
     "metadata": {},
     "output_type": "execute_result"
    }
   ],
   "source": [
    "x = 12.5\n",
    "int(x)"
   ]
  },
  {
   "cell_type": "markdown",
   "id": "0a4e9cff-3371-4cab-8ddc-432d29fa540a",
   "metadata": {},
   "source": [
    "- 주의할 점2: str -> int/float\n",
    "    - int/float로 기대되는 str을 형 변환하면 int/float으로 변환됨.\n",
    "    - 하지만 integer와 맞지 않는 str를 변환하면 오류 발생."
   ]
  },
  {
   "cell_type": "code",
   "execution_count": 15,
   "id": "2707942d-7ffa-47ae-ae0a-d90482da22cb",
   "metadata": {},
   "outputs": [
    {
     "data": {
      "text/plain": [
       "(5, 5.0)"
      ]
     },
     "execution_count": 15,
     "metadata": {},
     "output_type": "execute_result"
    }
   ],
   "source": [
    "x = '5'\n",
    "int(x), float(x)"
   ]
  },
  {
   "cell_type": "code",
   "execution_count": 16,
   "id": "afaf912d-3fa6-4e30-a085-0b2d40ab814f",
   "metadata": {},
   "outputs": [
    {
     "ename": "ValueError",
     "evalue": "invalid literal for int() with base 10: '5.5'",
     "output_type": "error",
     "traceback": [
      "\u001b[1;31m---------------------------------------------------------------------------\u001b[0m",
      "\u001b[1;31mValueError\u001b[0m                                Traceback (most recent call last)",
      "\u001b[1;32m~\\AppData\\Local\\Temp/ipykernel_14316/823108821.py\u001b[0m in \u001b[0;36m<module>\u001b[1;34m\u001b[0m\n\u001b[0;32m      1\u001b[0m \u001b[0mx\u001b[0m \u001b[1;33m=\u001b[0m \u001b[1;34m'5.5'\u001b[0m\u001b[1;33m\u001b[0m\u001b[1;33m\u001b[0m\u001b[0m\n\u001b[1;32m----> 2\u001b[1;33m \u001b[0mint\u001b[0m\u001b[1;33m(\u001b[0m\u001b[0mx\u001b[0m\u001b[1;33m)\u001b[0m\u001b[1;33m\u001b[0m\u001b[1;33m\u001b[0m\u001b[0m\n\u001b[0m",
      "\u001b[1;31mValueError\u001b[0m: invalid literal for int() with base 10: '5.5'"
     ]
    }
   ],
   "source": [
    "x = '5.5'\n",
    "int(x)"
   ]
  },
  {
   "cell_type": "markdown",
   "id": "4e4def3f-fe3e-4b94-9998-86e522d4d5a2",
   "metadata": {},
   "source": [
    "### 꿀팁"
   ]
  },
  {
   "cell_type": "markdown",
   "id": "7be60d5b-9c84-43a6-8cdd-5a9b9fa57b53",
   "metadata": {},
   "source": [
    "#### 좋은 변수명\n",
    "- 간결, 명확한 이름\n",
    "- 의미 담겨야함.\n",
    "- 코드: 의미 / 주석: 의도\n",
    "    - ex) n (x) < the_number_of_students (오타날 확률있음) < num_students (파이썬에선 주로 이렇게 사용)\n",
    "    - 카멜표기법: numStudents (자바에서 주로 사용)"
   ]
  },
  {
   "cell_type": "markdown",
   "id": "9a7a4601-4532-40cd-b79b-d9b5e78f73a1",
   "metadata": {},
   "source": [
    "#### Print()"
   ]
  },
  {
   "cell_type": "code",
   "execution_count": 17,
   "id": "a308b356-4469-4e90-b4b5-e3eb11f1bd43",
   "metadata": {},
   "outputs": [
    {
     "name": "stdout",
     "output_type": "stream",
     "text": [
      "redbluegreen\n",
      "red blue green\n",
      "My favorite color is red.\n"
     ]
    }
   ],
   "source": [
    "red = 'red'\n",
    "blue = 'blue'\n",
    "green = 'green'\n",
    "\n",
    "print(red + blue + green) # space x, \\n\n",
    "print(red, blue, green, sep=' ', end='\\n') # default임.\n",
    "print(f'My favorite color is {red}.') "
   ]
  },
  {
   "cell_type": "markdown",
   "id": "4fa5bfda-f258-4872-b82f-0d656a4ca0f3",
   "metadata": {},
   "source": [
    "#### 코드 줄이 짧을 때 ;(semicolon)을 이용해 한 줄로 쓸 수 있다."
   ]
  },
  {
   "cell_type": "code",
   "execution_count": 18,
   "id": "4d2e7b30-a5fe-43b5-8dba-86dd2e78c32f",
   "metadata": {},
   "outputs": [
    {
     "data": {
      "text/plain": [
       "('red', 'blue', 'green')"
      ]
     },
     "execution_count": 18,
     "metadata": {},
     "output_type": "execute_result"
    }
   ],
   "source": [
    "red = 'red'; blue = 'blue'; green = 'green'\n",
    "red, blue, green"
   ]
  },
  {
   "cell_type": "markdown",
   "id": "0114b3b8-78fc-49b5-930a-7589d18e0988",
   "metadata": {},
   "source": [
    "### input()\n",
    "- console에서 사용자가 입력하는 값을 받음.\n",
    "- 입력받는 값은 문자열로 인식.\n",
    "- 숫자로 받고 싶다면 형 변환해야 함."
   ]
  },
  {
   "cell_type": "code",
   "execution_count": 19,
   "id": "9094fbb2-bd80-4c9c-9a43-190b701564e6",
   "metadata": {},
   "outputs": [
    {
     "name": "stdin",
     "output_type": "stream",
     "text": [
      " 10\n"
     ]
    },
    {
     "data": {
      "text/plain": [
       "'10'"
      ]
     },
     "execution_count": 19,
     "metadata": {},
     "output_type": "execute_result"
    }
   ],
   "source": [
    "a = input()\n",
    "print(a)"
   ]
  },
  {
   "cell_type": "code",
   "execution_count": 20,
   "id": "f24c972f-9e6f-4372-918b-12b067a7cf13",
   "metadata": {},
   "outputs": [
    {
     "name": "stdin",
     "output_type": "stream",
     "text": [
      " 10\n"
     ]
    },
    {
     "name": "stdout",
     "output_type": "stream",
     "text": [
      "10\n"
     ]
    }
   ],
   "source": [
    "a = int(input())\n",
    "print(a)"
   ]
  },
  {
   "cell_type": "markdown",
   "id": "f7a914ce-45d8-44f4-859d-d42614c1dc52",
   "metadata": {},
   "source": [
    "#### 변수에 할당하는 법"
   ]
  },
  {
   "cell_type": "code",
   "execution_count": 23,
   "id": "6e95ff5b-c1b9-44e8-a5d7-2b9e6b364543",
   "metadata": {},
   "outputs": [
    {
     "name": "stdin",
     "output_type": "stream",
     "text": [
      "이름이? 박은상\n"
     ]
    }
   ],
   "source": [
    "#1.\n",
    "name = input('이름이?')"
   ]
  },
  {
   "cell_type": "code",
   "execution_count": 24,
   "id": "fd2287d7-d62f-4b3a-b5f1-a0bce75c12ef",
   "metadata": {},
   "outputs": [
    {
     "name": "stdout",
     "output_type": "stream",
     "text": [
      "이름이?\n"
     ]
    },
    {
     "name": "stdin",
     "output_type": "stream",
     "text": [
      " 박은상\n"
     ]
    }
   ],
   "source": [
    "#2.\n",
    "print('이름이?')\n",
    "name = input()"
   ]
  },
  {
   "cell_type": "markdown",
   "id": "e7c9f15c-f4cb-46f4-8bc5-b0125e86d4c2",
   "metadata": {},
   "source": [
    "## Ch03. Numbers"
   ]
  },
  {
   "cell_type": "markdown",
   "id": "7d8304d9-94f5-4781-ad81-9358f72bf862",
   "metadata": {},
   "source": [
    "### boolean\n",
    "- 형 변환할 때 True인지 False인지 잘 기억해라\n",
    "    - '', none, 0, ... (false)\n",
    "- 조건문에서 많이 사용. \n",
    "    - ex) 만약 이 조건이 true라면..."
   ]
  },
  {
   "cell_type": "code",
   "execution_count": 26,
   "id": "3d05f437-072d-45f5-bf4f-2aef4eaab4ac",
   "metadata": {},
   "outputs": [
    {
     "data": {
      "text/plain": [
       "(True, False)"
      ]
     },
     "execution_count": 26,
     "metadata": {},
     "output_type": "execute_result"
    }
   ],
   "source": [
    "bool(1), bool(0)"
   ]
  },
  {
   "cell_type": "markdown",
   "id": "5f8fe2ee-cc52-4574-a329-649c641e77c3",
   "metadata": {},
   "source": [
    "### integer\n",
    "- 소수점 없음.\n",
    "- 양수가 default, 음수는 앞에 - 붙임.\n",
    "- 숫자 앞에 0 올 수 없음. \n",
    "    - ex) 04\n",
    "    - 예외로 10진수 외에 다른 진수를 표현할 때: 0bxxx\n",
    "- 리터럴: 4\n",
    "- 공백이 있어도 무시.\n",
    "    - ex) 5 + 4         -3 이렇게 해도 계산이 된다.\n",
    "- 10,000원 -> 10, 100원 두개로 인식. 따라서 '_'를 사용해야함.\n",
    "    - ex) 10_000원"
   ]
  },
  {
   "cell_type": "markdown",
   "id": "36fc67fb-9069-413b-86c5-9daf39c4d301",
   "metadata": {},
   "source": [
    "### 연산\n",
    "- 연산자|operator: +,-, *, /\n",
    "- 피연산자|operand: 4, 5\n",
    "- 수식|expression"
   ]
  },
  {
   "cell_type": "code",
   "execution_count": 27,
   "id": "52a88b81-1078-4afd-8457-194dbeaf2812",
   "metadata": {},
   "outputs": [
    {
     "data": {
      "text/plain": [
       "1024"
      ]
     },
     "execution_count": 27,
     "metadata": {},
     "output_type": "execute_result"
    }
   ],
   "source": [
    "x = 4\n",
    "y = 5\n",
    "\n",
    "x + y\n",
    "x - y\n",
    "x * y\n",
    "x / y\n",
    "\n",
    "# 거듭제곱|exponential\n",
    "x ** y"
   ]
  },
  {
   "cell_type": "markdown",
   "id": "cfcf7f9a-8fc6-4204-851a-ecfafd6e6996",
   "metadata": {},
   "source": [
    "#### 나눗셈에서 주의할 사항"
   ]
  },
  {
   "cell_type": "code",
   "execution_count": 29,
   "id": "0549a17a-8539-418d-8adf-60588d4306de",
   "metadata": {},
   "outputs": [
    {
     "data": {
      "text/plain": [
       "(0, 4)"
      ]
     },
     "execution_count": 29,
     "metadata": {},
     "output_type": "execute_result"
    }
   ],
   "source": [
    "#1. 0으로 나누는 것 주의 (y!=0)\n",
    "#2. 몫, 나머지\n",
    "x // y, x % y, x / y # //몫, %나머지\n",
    "#3. divmod(x, y) (x // y, x % y)\n",
    "divmod(x, y)"
   ]
  },
  {
   "cell_type": "markdown",
   "id": "daff2002-b250-4a74-a676-186f49cb7ad9",
   "metadata": {},
   "source": [
    "### 복합 대입연산자| compound assignment operator\n",
    "- a += 3 (a = a + 3)\n",
    "- a -= 3\n",
    "- a *= 3\n",
    "- a /= 3"
   ]
  },
  {
   "cell_type": "code",
   "execution_count": 30,
   "id": "81740b7f-c777-4e9f-b615-711756746d14",
   "metadata": {},
   "outputs": [],
   "source": [
    "a = a - 3\n",
    "#1. a-3 계산\n",
    "#2. 임시변수 temp = a - 3\n",
    "#3. a = a-3"
   ]
  },
  {
   "cell_type": "code",
   "execution_count": 31,
   "id": "b3bc3e6f-485c-4330-9449-3f1b56a8c2dc",
   "metadata": {},
   "outputs": [
    {
     "ename": "NameError",
     "evalue": "name 'u' is not defined",
     "output_type": "error",
     "traceback": [
      "\u001b[1;31m---------------------------------------------------------------------------\u001b[0m",
      "\u001b[1;31mNameError\u001b[0m                                 Traceback (most recent call last)",
      "\u001b[1;32m~\\AppData\\Local\\Temp/ipykernel_14316/278541355.py\u001b[0m in \u001b[0;36m<module>\u001b[1;34m\u001b[0m\n\u001b[1;32m----> 1\u001b[1;33m \u001b[0mu\u001b[0m \u001b[1;33m=\u001b[0m \u001b[0mu\u001b[0m \u001b[1;33m+\u001b[0m \u001b[1;36m1\u001b[0m\u001b[1;33m\u001b[0m\u001b[1;33m\u001b[0m\u001b[0m\n\u001b[0m",
      "\u001b[1;31mNameError\u001b[0m: name 'u' is not defined"
     ]
    }
   ],
   "source": [
    "u = u + 1"
   ]
  },
  {
   "cell_type": "code",
   "execution_count": 32,
   "id": "8f67ad32-aa35-4875-94f2-7b7d5e15a37f",
   "metadata": {},
   "outputs": [],
   "source": [
    "# u의 값이 설정이 안되어있기 때문에 u 값 초기화 해야함.\n",
    "u = 7\n",
    "u = u + 1"
   ]
  },
  {
   "cell_type": "markdown",
   "id": "b9fea1ad-0bdd-4a36-8db5-419effc11ddf",
   "metadata": {},
   "source": [
    "### 지수 표현\n",
    "- e, E 둘 다 가능\n",
    "- 앞부분은 float, int\n",
    "- 뒷부분은 int만 온다.\n",
    "     - 양수면 0 앞으로\n",
    "     - 음수면 0 뒤로 (소수점)"
   ]
  },
  {
   "cell_type": "code",
   "execution_count": 33,
   "id": "aa8e7de8-b529-4430-932d-4dd195acc979",
   "metadata": {},
   "outputs": [
    {
     "data": {
      "text/plain": [
       "1000000.0"
      ]
     },
     "execution_count": 33,
     "metadata": {},
     "output_type": "execute_result"
    }
   ],
   "source": [
    "1.0e6 # float"
   ]
  },
  {
   "cell_type": "code",
   "execution_count": 34,
   "id": "23d903da-2e53-4d42-a151-b8b7bea2fbb9",
   "metadata": {},
   "outputs": [
    {
     "data": {
      "text/plain": [
       "0.000789"
      ]
     },
     "execution_count": 34,
     "metadata": {},
     "output_type": "execute_result"
    }
   ],
   "source": [
    "# 0.000789 => 지수 표현\n",
    "789.0e-6"
   ]
  },
  {
   "cell_type": "markdown",
   "id": "99fb3b56-55bb-49df-852e-2820819d70bf",
   "metadata": {},
   "source": [
    "## Ch04. if"
   ]
  },
  {
   "cell_type": "markdown",
   "id": "4dbb0c41-df79-4234-9690-cbc1fd1916c3",
   "metadata": {},
   "source": [
    "### 코드 짜는 룰\n",
    "- 주석 다는 법\n",
    "    - 설명하는 부분\n",
    "    - 목적: 의도 표현.\n",
    "    - '#' hash, sharp, ...\n",
    "    - 시작된 부분부터 그 라인의 끝까지 주석\n",
    "    - 문자열 안에 들어있는 해시는 문자열로 인식\n",
    "    - 여러줄을 주석으로 하고 싶을 때: \"\"\"<주석>\"\"\"\n",
    "- 라인 유지하기\n",
    "    - 들여쓰기, 공백 4개, 탭 1개\n",
    "    - 한 줄에 최대 80자 넘지 않게\n",
    "    - 백슬리시로 끊어준다 (\\)"
   ]
  },
  {
   "cell_type": "markdown",
   "id": "d15f497c-9260-4501-979f-044164ae09a5",
   "metadata": {},
   "source": [
    "### 조건 1개\n",
    "if <조건식>;\n",
    "    <실행할 코드>"
   ]
  },
  {
   "cell_type": "markdown",
   "id": "7b7f0eda-0717-40de-a8ad-1447b775b6a2",
   "metadata": {},
   "source": [
    "### 조건 2개:\n",
    "    if <조건식1>:\n",
    "        <실행할 코드>\n",
    "    else:\n",
    "        <실행할 코드2>"
   ]
  },
  {
   "cell_type": "markdown",
   "id": "a1d887de-71fe-4166-a1b6-57209cdc7294",
   "metadata": {},
   "source": [
    "### 조건이 3개 이상:\n",
    "    if <조건식1>:\n",
    "        <실행할 코드>\n",
    "    elif <조건식2>:\n",
    "        <실행할 코드3>\n",
    "        ...\n",
    "    else:\n",
    "        <실행할 코드2>"
   ]
  },
  {
   "cell_type": "markdown",
   "id": "1e582917-4d68-4e39-be0a-9c5c04947569",
   "metadata": {},
   "source": [
    "### 비교연산자\n",
    "- x < y, x <= y\n",
    "- x > y, x >= y\n",
    "- x == y (값)\n",
    "- x != y (값)\n",
    "- x is y (값, 메모리 주소)\n",
    "- x is not y"
   ]
  },
  {
   "cell_type": "markdown",
   "id": "ad712612-2529-4461-a7f9-27510714e2ac",
   "metadata": {},
   "source": [
    "### 논리연산자\n",
    "- 여러 조건식을 비교할 때\n",
    "- 예: 5 < x < 9\n",
    "    - 파이썬에서만 가능한 표현\n",
    "    if 5 < score < 9\n",
    "    - x > 5 혹은 x < 9\n",
    "    \n",
    "- and, & : 둘 다 참일 때 True\n",
    "- or, | : 둘 중 하나만 참이여도 True\n",
    "- not : 참 -> False, 거짓 -> True"
   ]
  }
 ],
 "metadata": {
  "kernelspec": {
   "display_name": "Python 3 (ipykernel)",
   "language": "python",
   "name": "python3"
  },
  "language_info": {
   "codemirror_mode": {
    "name": "ipython",
    "version": 3
   },
   "file_extension": ".py",
   "mimetype": "text/x-python",
   "name": "python",
   "nbconvert_exporter": "python",
   "pygments_lexer": "ipython3",
   "version": "3.9.7"
  }
 },
 "nbformat": 4,
 "nbformat_minor": 5
}
