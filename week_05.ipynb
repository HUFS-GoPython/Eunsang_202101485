{
 "cells": [
  {
   "cell_type": "markdown",
   "id": "662d0579-2245-4e82-8cda-adc2f9456614",
   "metadata": {},
   "source": [
    "## Ch06 반복문\n",
    "- while, for loop\n",
    "\n",
    "### while loop\n",
    "- 어떤 조건이 만족하는 동안 명령 블록을 수행한다.\n",
    "- if + for loop\n",
    "- 해당 조건이 거짓이면 멈춘다. => 언제 멈추는지 그 시점을 정확히 파악해야 함.\n",
    "\n",
    "### for vs while\n",
    "- for: 반복 횟수가 정해짐, 정확함. 변하지 않음\n",
    "    - 예: 성적 산출\n",
    "- while: 횟수 정해지지 않음. (중요하지 않다) 어떤 조건을 만족시킬 때 빠져나오게 하는 게 종요할 때 사용. 초기화 해야함.\n",
    "    - 예: 가위바위보"
   ]
  },
  {
   "cell_type": "code",
   "execution_count": null,
   "id": "d835bb75-67f2-4acf-bfb4-d3bfc910d4cb",
   "metadata": {},
   "outputs": [],
   "source": [
    "\"\"\"\n",
    "for i in range(3):\n",
    "    print(i)\n",
    "\"\"\"\n",
    "j = 0 # 초기화\n",
    "while j < 3: # 0, 1, 2 False\n",
    "    print(j) # 0, 1, 2\n",
    "    j += 1 # 변화 1, 2, 3"
   ]
  },
  {
   "cell_type": "markdown",
   "id": "597ecc1c-1867-4e69-aa60-4d4a949fbfa1",
   "metadata": {},
   "source": [
    "### 반복문 제어\n",
    "- 되도록 사용하지 않는다. 의도치 않은 오류를 위해\n",
    "- break: 논리적으로 반복을 종료 시킬 때\n",
    "- else: 어떤 조건이 완전히 끝났을 때 한번 더 실행합. break시에 실행 안됨. => 어느 지점에서 종료되었는지 확인할 때\n",
    "- continue: 특정 조건을 건너뛰고 다믕 조건 실행"
   ]
  },
  {
   "cell_type": "code",
   "execution_count": null,
   "id": "528e5e5d-8ef9-48c8-9a83-39ea3109975b",
   "metadata": {},
   "outputs": [],
   "source": [
    "# break\n",
    "j = 0\n",
    "while j < 10:\n",
    "    print(j) \n",
    "    if j ==6: break # 프린트하고 break해서 6까지 출력.\n",
    "    j += 1 \n",
    "\"\"\"\n",
    "for i in range(10):\n",
    "    if i == 6: break # break 후 프린트이므로 6 출력 안됨. but i=6\n",
    "    print(i)\n",
    "\"\"\""
   ]
  },
  {
   "cell_type": "code",
   "execution_count": null,
   "id": "2a6047e6-a1f9-45bc-9041-abb2d614ebaa",
   "metadata": {},
   "outputs": [],
   "source": [
    "# else\n",
    "j = 0 \n",
    "while j < 10: \n",
    "    print(j)\n",
    "    if j == 16: break\n",
    "    j += 1 \n",
    "else:\n",
    "    print('ended')"
   ]
  },
  {
   "cell_type": "code",
   "execution_count": null,
   "id": "f804d02f-7e14-4fdc-99b2-174c93f19f1f",
   "metadata": {},
   "outputs": [],
   "source": [
    "# continue\n",
    "for i in range(10):\n",
    "    if i == 6: continue\n",
    "    print(i)\n",
    "else:\n",
    "    print('ended')"
   ]
  },
  {
   "cell_type": "markdown",
   "id": "2cb93297-8b5b-43ee-8081-3a64b112bdf9",
   "metadata": {},
   "source": [
    "### 구구단"
   ]
  },
  {
   "cell_type": "code",
   "execution_count": null,
   "id": "880c286f-f842-4e68-99b2-1c8c5265711e",
   "metadata": {},
   "outputs": [],
   "source": [
    "print('=========구구단 메뉴===========\\\n",
    "\\n1. 원하는 단을 출력해드립니다.\\\n",
    "\\n2. 1단부터 원하시는 단까지 출력해드립니다.\\\n",
    "\\n3. 원하시는 단부터 원하시는 단까지 출력해드립니다.')\n",
    "menu_num = int(input('원하시는 메뉴의 번호만 입력해주세요.'))\n",
    "while menu_num < 1 or menu_num > 3:\n",
    "    menu_num = int(input('다시 입력해주세요.'))\n",
    "\n",
    "if menu_num == 1:\n",
    "    dan = int(input('구구단에서 원하는 단 수를 입력해주세요.'))\n",
    "    while dan < 0 or dan > 9:\n",
    "        print('1~9 사이로 다시 입력해 주세요.')\n",
    "        dan = int(input('구구단에서 원하는 단 수를 입력해주세요.'))\n",
    "    print(f'========{dan}단==========')\n",
    "    for i in range(1, 10):\n",
    "        print(f'{dan} X {i} = {dan * i}')\n",
    "\n",
    "elif menu_num == 2:\n",
    "    dan = int(input('구구단에서 원하는 단 수를 입력해주세요.'))\n",
    "    while dan < 0 or dan > 9:\n",
    "        print('1~9 사이로 다시 입력해 주세요.')\n",
    "        dan = int(input('구구단에서 원하는 단 수를 입력해주세요.'))\n",
    "    i = 1\n",
    "    for i in range(1, dan + 1):\n",
    "        print(f'========{i}단==========')\n",
    "        for k in range(1, 10):\n",
    "            print(f'{i} X {k} = {i * k}')\n",
    "        print('')\n",
    "\n",
    "elif menu_num == 3:\n",
    "    dan_start = int(input('몇 단부터 입력할까요?'))\n",
    "    dan_end = int(input('몇 단까지 입력할까요?'))\n",
    "    while (dan_start < 0 or dan_start > 9) or (dan_end < 0 or dan_end > 9) or (dan_start > dan_end):\n",
    "        print('다시 입력해주세요.')\n",
    "        dan_start = int(input('몇 단부터 입력할까요?'))\n",
    "        dan_end = int(input('몇 단까지 입력할까요?'))\n",
    "\n",
    "    for dan_start in range(dan_start, dan_end + 1):\n",
    "        print(f'========{dan_start}단==========')\n",
    "        for k in range(1, 10):\n",
    "            print(f'{dan_start} X {k} = {dan_start * k}')\n",
    "        print('')"
   ]
  },
  {
   "cell_type": "markdown",
   "id": "1d87e502-6f3b-4e1a-a49e-4c3e2327781a",
   "metadata": {},
   "source": [
    "### NLTK books"
   ]
  },
  {
   "cell_type": "code",
   "execution_count": 1,
   "id": "eed0f693-9cbb-4c1e-b01d-a572b191f4a6",
   "metadata": {},
   "outputs": [
    {
     "name": "stdout",
     "output_type": "stream",
     "text": [
      "*** Introductory Examples for the NLTK Book ***\n",
      "Loading text1, ..., text9 and sent1, ..., sent9\n",
      "Type the name of the text or sentence to view it.\n",
      "Type: 'texts()' or 'sents()' to list the materials.\n",
      "text1: Moby Dick by Herman Melville 1851\n",
      "text2: Sense and Sensibility by Jane Austen 1811\n",
      "text3: The Book of Genesis\n",
      "text4: Inaugural Address Corpus\n",
      "text5: Chat Corpus\n",
      "text6: Monty Python and the Holy Grail\n",
      "text7: Wall Street Journal\n",
      "text8: Personals Corpus\n",
      "text9: The Man Who Was Thursday by G . K . Chesterton 1908\n"
     ]
    },
    {
     "data": {
      "text/plain": [
       "True"
      ]
     },
     "execution_count": 1,
     "metadata": {},
     "output_type": "execute_result"
    }
   ],
   "source": [
    "import nltk\n",
    "from nltk.book import *\n",
    "nltk.download('book', quiet=True)"
   ]
  },
  {
   "cell_type": "code",
   "execution_count": null,
   "id": "412c60fd-29b4-45e5-a7bb-1aa1ccad6c6c",
   "metadata": {},
   "outputs": [],
   "source": [
    "# text1 - 9\n",
    "    #text1 vs 'text1'\n",
    "    # text1 - 9 string으로 가져오기\n",
    "    # string -> fx : getattr(library, 'string_name')\n",
    "#1.\n",
    "texts = [text1, text2, text3, text4, text5, text6, text7, text8, text9]\n",
    "texts = [getattr(nltk.book, f'text{i}') for in range(1, 10)]\n",
    "texts"
   ]
  },
  {
   "cell_type": "markdown",
   "id": "ead853df-665f-41b3-b725-74737f661a47",
   "metadata": {},
   "source": [
    "### NLTK corpus\n",
    "- 코퍼스 + 테마\n",
    "- 소설 뿐만 아니라 다양.\n",
    "- 종류\n",
    "    - brown\n",
    "    - gutenberg\n",
    "    - inagural\n",
    "- methods\n",
    "    - words() # tokens\n",
    "    - sents()\n",
    "    - raw() : 모든걸 str으로 변환\n",
    "    - fileids()"
   ]
  },
  {
   "cell_type": "code",
   "execution_count": 2,
   "id": "5ae58757-5a89-467c-96df-d28b5df2b87f",
   "metadata": {},
   "outputs": [
    {
     "name": "stderr",
     "output_type": "stream",
     "text": [
      "[nltk_data] Downloading package brown to\n",
      "[nltk_data]     C:\\Users\\eunsang\\AppData\\Roaming\\nltk_data...\n",
      "[nltk_data]   Package brown is already up-to-date!\n",
      "[nltk_data] Downloading package gutenberg to\n",
      "[nltk_data]     C:\\Users\\eunsang\\AppData\\Roaming\\nltk_data...\n",
      "[nltk_data]   Package gutenberg is already up-to-date!\n",
      "[nltk_data] Downloading package inaugural to\n",
      "[nltk_data]     C:\\Users\\eunsang\\AppData\\Roaming\\nltk_data...\n",
      "[nltk_data]   Package inaugural is already up-to-date!\n"
     ]
    },
    {
     "data": {
      "text/plain": [
       "True"
      ]
     },
     "execution_count": 2,
     "metadata": {},
     "output_type": "execute_result"
    }
   ],
   "source": [
    "from nltk.corpus import gutenberg\n",
    "nltk.download(['brown', 'gutenberg', 'inaugural'])\n",
    "# gutenberg = nltk.corpus.gutenberg 로도 import 가능."
   ]
  },
  {
   "cell_type": "code",
   "execution_count": 3,
   "id": "7f5618dd-f064-445b-ac7d-2e5e46785c91",
   "metadata": {},
   "outputs": [
    {
     "data": {
      "text/plain": [
       "['austen-emma.txt',\n",
       " 'austen-persuasion.txt',\n",
       " 'austen-sense.txt',\n",
       " 'bible-kjv.txt',\n",
       " 'blake-poems.txt',\n",
       " 'bryant-stories.txt',\n",
       " 'burgess-busterbrown.txt',\n",
       " 'carroll-alice.txt',\n",
       " 'chesterton-ball.txt',\n",
       " 'chesterton-brown.txt',\n",
       " 'chesterton-thursday.txt',\n",
       " 'edgeworth-parents.txt',\n",
       " 'melville-moby_dick.txt',\n",
       " 'milton-paradise.txt',\n",
       " 'shakespeare-caesar.txt',\n",
       " 'shakespeare-hamlet.txt',\n",
       " 'shakespeare-macbeth.txt',\n",
       " 'whitman-leaves.txt']"
      ]
     },
     "execution_count": 3,
     "metadata": {},
     "output_type": "execute_result"
    }
   ],
   "source": [
    "gutenberg.fileids()\n",
    "# guetenberg.words(fileids=['']) 로 가져올 있음."
   ]
  },
  {
   "cell_type": "code",
   "execution_count": 8,
   "id": "6d554376-46c0-4d9d-808f-227908752446",
   "metadata": {},
   "outputs": [
    {
     "name": "stdout",
     "output_type": "stream",
     "text": [
      "austen-emma| 단어수: 192427개, 문장수: 7752개, 글자수: 887071개\n",
      "austen-persuasion| 단어수: 98171개, 문장수: 3747개, 글자수: 466292개\n",
      "austen-sense| 단어수: 141576개, 문장수: 4999개, 글자수: 673022개\n",
      "bible-kjv| 단어수: 1010654개, 문장수: 30103개, 글자수: 4332554개\n",
      "blake-poems| 단어수: 8354개, 문장수: 438개, 글자수: 38153개\n",
      "bryant-stories| 단어수: 55563개, 문장수: 2863개, 글자수: 249439개\n",
      "burgess-busterbrown| 단어수: 18963개, 문장수: 1054개, 글자수: 84663개\n",
      "carroll-alice| 단어수: 34110개, 문장수: 1703개, 글자수: 144395개\n",
      "chesterton-ball| 단어수: 96996개, 문장수: 4779개, 글자수: 457450개\n",
      "chesterton-brown| 단어수: 86063개, 문장수: 3806개, 글자수: 406629개\n",
      "chesterton-thursday| 단어수: 69213개, 문장수: 3742개, 글자수: 320525개\n",
      "edgeworth-parents| 단어수: 210663개, 문장수: 10230개, 글자수: 935158개\n",
      "melville-moby_dick| 단어수: 260819개, 문장수: 10059개, 글자수: 1242990개\n",
      "milton-paradise| 단어수: 96825개, 문장수: 1851개, 글자수: 468220개\n",
      "shakespeare-caesar| 단어수: 25833개, 문장수: 2163개, 글자수: 112310개\n",
      "shakespeare-hamlet| 단어수: 37360개, 문장수: 3106개, 글자수: 162881개\n",
      "shakespeare-macbeth| 단어수: 23140개, 문장수: 1907개, 글자수: 100351개\n",
      "whitman-leaves| 단어수: 154883개, 문장수: 4250개, 글자수: 711215개\n"
     ]
    }
   ],
   "source": [
    "for file in gutenberg.fileids():\n",
    "    words = gutenberg.words(file)\n",
    "    sents = gutenberg.sents(file)\n",
    "    characters = gutenberg.raw(file)\n",
    "    \n",
    "    print('{}| 단어수: {}개, 문장수: {}개, 글자수: {}개'.format(file[:-4], len(words), len(sents), len(characters)))"
   ]
  },
  {
   "cell_type": "markdown",
   "id": "49d16bf9-8857-45a5-9f85-b13fd89639ff",
   "metadata": {},
   "source": [
    "### brown\n",
    "- categories()"
   ]
  },
  {
   "cell_type": "code",
   "execution_count": 4,
   "id": "0f8ca8f6-c624-4c9d-b28d-573e57068f0e",
   "metadata": {},
   "outputs": [],
   "source": [
    "brown = nltk.corpus.brown"
   ]
  },
  {
   "cell_type": "code",
   "execution_count": 5,
   "id": "05982200-e666-47b2-b4cf-efa8e53aa93a",
   "metadata": {},
   "outputs": [
    {
     "data": {
      "text/plain": [
       "['adventure',\n",
       " 'belles_lettres',\n",
       " 'editorial',\n",
       " 'fiction',\n",
       " 'government',\n",
       " 'hobbies',\n",
       " 'humor',\n",
       " 'learned',\n",
       " 'lore',\n",
       " 'mystery',\n",
       " 'news',\n",
       " 'religion',\n",
       " 'reviews',\n",
       " 'romance',\n",
       " 'science_fiction']"
      ]
     },
     "execution_count": 5,
     "metadata": {},
     "output_type": "execute_result"
    }
   ],
   "source": [
    "brown.categories()"
   ]
  },
  {
   "cell_type": "markdown",
   "id": "04438e30-4e2d-481f-9dbf-d0df1701e7cd",
   "metadata": {},
   "source": [
    "### conditional fequency distribution\n",
    "- 조건에 따른 fdsit"
   ]
  },
  {
   "cell_type": "code",
   "execution_count": null,
   "id": "79871dd6-10eb-4133-b5f4-b7e73e890dca",
   "metadata": {},
   "outputs": [],
   "source": []
  }
 ],
 "metadata": {
  "kernelspec": {
   "display_name": "Python 3 (ipykernel)",
   "language": "python",
   "name": "python3"
  },
  "language_info": {
   "codemirror_mode": {
    "name": "ipython",
    "version": 3
   },
   "file_extension": ".py",
   "mimetype": "text/x-python",
   "name": "python",
   "nbconvert_exporter": "python",
   "pygments_lexer": "ipython3",
   "version": "3.9.7"
  }
 },
 "nbformat": 4,
 "nbformat_minor": 5
}
