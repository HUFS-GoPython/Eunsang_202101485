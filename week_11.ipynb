{
 "cells": [
  {
   "cell_type": "markdown",
   "id": "355a69a7-c007-4e8a-b8ea-a7899c83c871",
   "metadata": {},
   "source": [
    "### 객체 II\n",
    "- 상속 (inheritance)\n",
    "- 재사용할 때, A vs B\n",
    "    - \"A의 대부분을 쓰고, 나머지를 추가, 변경하고 싶다\"\n",
    "    - 부모의 모든 속성을 그대로 가져와서 쓰겠다.\n",
    "- 반복되는 부분을 가져오겠다, 물려받겠다.\n",
    "- A <- B\n",
    "    - \"부모, 슈퍼, 베이스\"\n",
    "    - \"자식, 서브, derived\"\n",
    "- 자식클래스는 부모클래스를 구체화한다.\n",
    "- is-a 관계: Car is-a Vehicle (포함된다)"
   ]
  },
  {
   "cell_type": "code",
   "execution_count": 7,
   "id": "c3aa1934-2a9a-4c5c-8b58-ae3ac1e60d67",
   "metadata": {},
   "outputs": [],
   "source": [
    "class Vehicle: # parent, super\n",
    "    def __init__(self, speed):\n",
    "        self.speed = speed\n",
    "        \n",
    "    def go(self):\n",
    "        print(f'{self.speed}의 속도로 달린다.')\n",
    "        \n",
    "# child\n",
    "class Car(Vehicle): # child, sub\n",
    "    pass"
   ]
  },
  {
   "cell_type": "code",
   "execution_count": 8,
   "id": "06e57fb8-7a5d-4d25-80d4-142999329ff0",
   "metadata": {},
   "outputs": [],
   "source": [
    "car = Car('20km/h')"
   ]
  },
  {
   "cell_type": "code",
   "execution_count": 12,
   "id": "ce6ee307-2363-4936-8935-b4d5c5567a1a",
   "metadata": {},
   "outputs": [
    {
     "name": "stdout",
     "output_type": "stream",
     "text": [
      "20km/h의 속도로 달린다.\n"
     ]
    }
   ],
   "source": [
    "car.go()"
   ]
  },
  {
   "cell_type": "markdown",
   "id": "b365359c-1b03-4342-bc86-8cf821e09d03",
   "metadata": {},
   "source": [
    "### 변수추가, 변경"
   ]
  },
  {
   "cell_type": "code",
   "execution_count": 4,
   "id": "d227bcdf-41dc-411a-99cc-9065024880a5",
   "metadata": {},
   "outputs": [],
   "source": [
    "class Car(Vehicle): # child, sub\n",
    "    def __init__(self, speed, brand):\n",
    "        # speed == 부모\n",
    "        super().__init__(speed) # Vehicle().speed\n",
    "        # brand == 자식\n",
    "        self.brand = brand # 나의 고유한 특성이 된다."
   ]
  },
  {
   "cell_type": "code",
   "execution_count": 5,
   "id": "cb87b619-bdee-46ae-838d-6bbc28c58296",
   "metadata": {},
   "outputs": [
    {
     "data": {
      "text/plain": [
       "'Kia'"
      ]
     },
     "execution_count": 5,
     "metadata": {},
     "output_type": "execute_result"
    }
   ],
   "source": [
    "car2 = Car('20km/h','Kia')\n",
    "car2.brand"
   ]
  },
  {
   "cell_type": "code",
   "execution_count": 6,
   "id": "918f0582-aa43-4d25-a67c-b451a2764d72",
   "metadata": {},
   "outputs": [
    {
     "ename": "AttributeError",
     "evalue": "'Vehicle' object has no attribute 'brand'",
     "output_type": "error",
     "traceback": [
      "\u001b[1;31m---------------------------------------------------------------------------\u001b[0m",
      "\u001b[1;31mAttributeError\u001b[0m                            Traceback (most recent call last)",
      "\u001b[1;32m~\\AppData\\Local\\Temp/ipykernel_8212/2184005269.py\u001b[0m in \u001b[0;36m<module>\u001b[1;34m\u001b[0m\n\u001b[0;32m      1\u001b[0m \u001b[0mv\u001b[0m \u001b[1;33m=\u001b[0m \u001b[0mVehicle\u001b[0m\u001b[1;33m(\u001b[0m\u001b[1;34m'33km/h'\u001b[0m\u001b[1;33m)\u001b[0m\u001b[1;33m\u001b[0m\u001b[1;33m\u001b[0m\u001b[0m\n\u001b[1;32m----> 2\u001b[1;33m \u001b[0mv\u001b[0m\u001b[1;33m.\u001b[0m\u001b[0mbrand\u001b[0m\u001b[1;33m\u001b[0m\u001b[1;33m\u001b[0m\u001b[0m\n\u001b[0m",
      "\u001b[1;31mAttributeError\u001b[0m: 'Vehicle' object has no attribute 'brand'"
     ]
    }
   ],
   "source": [
    "v = Vehicle('33km/h')\n",
    "v.brand"
   ]
  },
  {
   "cell_type": "markdown",
   "id": "a0147da9-b2df-417c-9c5d-b23c83c3c0fd",
   "metadata": {},
   "source": [
    "### 메소드 추가, 변경\n",
    "- overriding 하면 부모의 메소드가 잊힌다."
   ]
  },
  {
   "cell_type": "code",
   "execution_count": 13,
   "id": "b07b05db-3862-41cd-9f63-ed31a13bcef0",
   "metadata": {},
   "outputs": [],
   "source": [
    "class Car(Vehicle): \n",
    "    def __init__(self, speed, brand):\n",
    "        super().__init__(speed)\n",
    "        self.brand = brand # 나의 고유한 특성이 된다.\n",
    "    \n",
    "    # 오버라이드(override): 재정의\n",
    "    def go(self):\n",
    "        print(f'차종 {self.brand}의 속도 {self.speed}')\n",
    "        # 부모의 go도 함께 가져가고 싶다면?\n",
    "        super().go()\n",
    "        \n",
    "    # 메소드 추가\n",
    "    def stop():\n",
    "        pass"
   ]
  },
  {
   "cell_type": "code",
   "execution_count": 14,
   "id": "de112291-7a68-4154-95f2-a88c33e12e2f",
   "metadata": {},
   "outputs": [
    {
     "name": "stdout",
     "output_type": "stream",
     "text": [
      "차종 mini의 속도 33km/h\n",
      "33km/h의 속도로 달린다.\n"
     ]
    }
   ],
   "source": [
    "car3 = Car('33km/h', 'mini')\n",
    "car3.go()"
   ]
  },
  {
   "cell_type": "markdown",
   "id": "45c6d2e6-6a34-43c5-bef6-ff011eed8fec",
   "metadata": {},
   "source": [
    "### 실습"
   ]
  },
  {
   "cell_type": "code",
   "execution_count": 21,
   "id": "eda76a6e-ea63-44c1-906d-e7a6b1aee41c",
   "metadata": {},
   "outputs": [],
   "source": [
    "class Person:\n",
    "    def __init__(self, name):\n",
    "        self.name = name # pablo\n",
    "        \n",
    "#---------------------------------\n",
    "class Doctor(Person): # Dr.pablo\n",
    "    def __init__(self, name):\n",
    "        super().__init__('Dr.' + name) # f'Dr. {name}'\n",
    "\n",
    "class Male(Person): # Mr. pablo\n",
    "    def __init__(self, name):\n",
    "        super().__init__('Mr.' + name)\n",
    "\n",
    "class Female(Person): # Mrs. pablo\n",
    "    def __init__(self, name):\n",
    "        super().__init__('Mrs.' + name)"
   ]
  },
  {
   "cell_type": "code",
   "execution_count": 22,
   "id": "f52dd4f6-3897-4f57-b02e-cb25b7854452",
   "metadata": {},
   "outputs": [
    {
     "data": {
      "text/plain": [
       "'Dr.pablo'"
      ]
     },
     "execution_count": 22,
     "metadata": {},
     "output_type": "execute_result"
    }
   ],
   "source": [
    "person = Doctor('pablo')\n",
    "person.name"
   ]
  },
  {
   "cell_type": "markdown",
   "id": "4469a94d-4515-4ab3-a34b-b02409cc0fd7",
   "metadata": {},
   "source": [
    "### 다중 상속\n",
    "- method resolution order (MRO)\n",
    "- Animal <- Horse\n",
    "         <- Donkey\n",
    "                 <- Mule (Donkey > Horse)\n",
    "                 <- Hinny (Horse > Donkey)"
   ]
  },
  {
   "cell_type": "code",
   "execution_count": 25,
   "id": "818c573e-0b10-4f7f-a0a1-21c1947de33d",
   "metadata": {},
   "outputs": [],
   "source": [
    "class Animal:\n",
    "    def says(self):\n",
    "        return '동물이 운다.'\n",
    "    \n",
    "# 자식\n",
    "class Horse(Animal):\n",
    "    def says(self):\n",
    "        return '히히힝'\n",
    "    \n",
    "class Donkey(Animal):\n",
    "    def says(self):\n",
    "        return '히이호'\n",
    "    \n",
    "# 손주\n",
    "class Mule(Donkey, Horse):\n",
    "    pass\n",
    "\n",
    "class Hinny(Donkey, Horse):\n",
    "    pass"
   ]
  },
  {
   "cell_type": "code",
   "execution_count": 26,
   "id": "35150f2b-ea5f-48d0-a1ed-531e60285e73",
   "metadata": {},
   "outputs": [
    {
     "data": {
      "text/plain": [
       "'히이호'"
      ]
     },
     "execution_count": 26,
     "metadata": {},
     "output_type": "execute_result"
    }
   ],
   "source": [
    "m = Mule()\n",
    "m.says()"
   ]
  },
  {
   "cell_type": "code",
   "execution_count": 27,
   "id": "f7ff898a-4392-4d8f-9776-4b29762b3d3c",
   "metadata": {},
   "outputs": [
    {
     "data": {
      "text/plain": [
       "'히이호'"
      ]
     },
     "execution_count": 27,
     "metadata": {},
     "output_type": "execute_result"
    }
   ],
   "source": [
    "Hinny().says()"
   ]
  },
  {
   "cell_type": "code",
   "execution_count": 29,
   "id": "b7dc7b1f-0db8-490a-8966-92cbfc6dd0e6",
   "metadata": {},
   "outputs": [
    {
     "data": {
      "text/plain": [
       "[__main__.Mule, __main__.Donkey, __main__.Horse, __main__.Animal, object]"
      ]
     },
     "execution_count": 29,
     "metadata": {},
     "output_type": "execute_result"
    }
   ],
   "source": [
    "Mule.mro()"
   ]
  },
  {
   "cell_type": "markdown",
   "id": "a7a56a7f-ae2e-465d-a244-66f76fd2d207",
   "metadata": {},
   "source": [
    "### 다형성\n",
    "- 형태가 다른데 기능이 같다.\n",
    "- 객체가 다른데도 같은 메소드를 가지고 있으면 같은 기능을 수행할 수 있다."
   ]
  },
  {
   "cell_type": "code",
   "execution_count": 30,
   "id": "68fe6b35-f897-496b-8ef0-bfa98c297a22",
   "metadata": {},
   "outputs": [
    {
     "name": "stdout",
     "output_type": "stream",
     "text": [
      "히이호\n",
      "히이호\n",
      "동물이 운다.\n"
     ]
    }
   ],
   "source": [
    "for animal in [Mule(), Donkey(), Animal()]:\n",
    "    print(animal.says())"
   ]
  },
  {
   "cell_type": "markdown",
   "id": "78638a05-a550-407b-88fe-30c67b839e46",
   "metadata": {},
   "source": [
    "### 메서드 타입\n",
    "- 인스턴스 메서드\n",
    "    - self가 1번 인자\n",
    "    - 객체 생성 -> 사용 가능\n",
    "- 클래스 메서드\n",
    "    - 객체 생성하지 않아도 사용 가능\n",
    "    - 클래스에 접근하는 메서드\n",
    "    - @classmethod\n",
    "    - 예약어: cls\n",
    "    - 함수(cls) 가 첫 인자\n",
    "    - class Person, cls == Person\n",
    "- 정적 메서드\n",
    "    - 객체 생성하지 않고 접근 가능\n",
    "    - 클래스랑 전혀 상관이 없기 때문에 접근 가능한 것\n",
    "    - 내용, 기능이 비슷해서 클래스 내에 묶어 둠\n",
    "- 추상 메서드\n",
    "    - 추상 클래스: abstract 이름만 존재하는 클래스\n",
    "    - 설계도 역할: \n",
    "    - 상속하는 자식클래스 => 반드시 구현해야 하는 메소드를 정의한다."
   ]
  },
  {
   "cell_type": "code",
   "execution_count": 31,
   "id": "a3f2e143-3771-4c36-8992-4bad7931293a",
   "metadata": {},
   "outputs": [
    {
     "data": {
      "text/plain": [
       "'히이호'"
      ]
     },
     "execution_count": 31,
     "metadata": {},
     "output_type": "execute_result"
    }
   ],
   "source": [
    "# 1. 인스턴스 메서드\n",
    "a = Mule() # 객체 생성\n",
    "a.says()"
   ]
  },
  {
   "cell_type": "code",
   "execution_count": 32,
   "id": "0ae34e28-3253-4220-8e0a-f4eda8f82745",
   "metadata": {},
   "outputs": [
    {
     "ename": "TypeError",
     "evalue": "says() missing 1 required positional argument: 'self'",
     "output_type": "error",
     "traceback": [
      "\u001b[1;31m---------------------------------------------------------------------------\u001b[0m",
      "\u001b[1;31mTypeError\u001b[0m                                 Traceback (most recent call last)",
      "\u001b[1;32m~\\AppData\\Local\\Temp/ipykernel_8212/1178907548.py\u001b[0m in \u001b[0;36m<module>\u001b[1;34m\u001b[0m\n\u001b[1;32m----> 1\u001b[1;33m \u001b[0mMule\u001b[0m\u001b[1;33m.\u001b[0m\u001b[0msays\u001b[0m\u001b[1;33m(\u001b[0m\u001b[1;33m)\u001b[0m\u001b[1;33m\u001b[0m\u001b[1;33m\u001b[0m\u001b[0m\n\u001b[0m",
      "\u001b[1;31mTypeError\u001b[0m: says() missing 1 required positional argument: 'self'"
     ]
    }
   ],
   "source": [
    "Mule.says() # self가 없기 때문에 에러"
   ]
  },
  {
   "cell_type": "code",
   "execution_count": 35,
   "id": "a68cda98-f167-4834-a3d1-8f3e2f7782ba",
   "metadata": {},
   "outputs": [],
   "source": [
    "# 2. 클래스 메서드\n",
    "class A:\n",
    "    cnt = 0\n",
    "    \n",
    "    @classmethod\n",
    "    def move(cls):\n",
    "        return cls.cnt"
   ]
  },
  {
   "cell_type": "code",
   "execution_count": 36,
   "id": "99e9b30d-000e-40a6-9aa0-494bfdbc87af",
   "metadata": {},
   "outputs": [
    {
     "data": {
      "text/plain": [
       "0"
      ]
     },
     "execution_count": 36,
     "metadata": {},
     "output_type": "execute_result"
    }
   ],
   "source": [
    "A().move()"
   ]
  },
  {
   "cell_type": "code",
   "execution_count": 39,
   "id": "4ac65cd0-c874-4dc7-944e-dcb3502ff618",
   "metadata": {},
   "outputs": [],
   "source": [
    "class Person:\n",
    "    def __init__(self, name, age): # p ->\n",
    "        self.name = name\n",
    "        self.age = age\n",
    "    \n",
    "    @classmethod\n",
    "    def tuple_object(cls, args): # cls -> Person\n",
    "        return cls(args[0], args[1]) # Person()\n",
    "    \n",
    "name = 'kim'\n",
    "age = '24'\n",
    "# p = Person(name, age)\n",
    "\n",
    "info = name, age\n",
    "p = Person.tuple_object(info) # p객체 생성하게"
   ]
  },
  {
   "cell_type": "code",
   "execution_count": 40,
   "id": "cec2c9fe-d0e1-4e08-a513-d47b9f1b867c",
   "metadata": {},
   "outputs": [
    {
     "data": {
      "text/plain": [
       "'kim'"
      ]
     },
     "execution_count": 40,
     "metadata": {},
     "output_type": "execute_result"
    }
   ],
   "source": [
    "p.name"
   ]
  },
  {
   "cell_type": "code",
   "execution_count": 41,
   "id": "7b0d5129-9b16-4c04-9d49-c5bbadb445c5",
   "metadata": {},
   "outputs": [
    {
     "data": {
      "text/plain": [
       "'객체 수: 3'"
      ]
     },
     "execution_count": 41,
     "metadata": {},
     "output_type": "execute_result"
    }
   ],
   "source": [
    "class A:\n",
    "    # 붕어빵 몇 개? \n",
    "    cnt = 0\n",
    "    \n",
    "    def __init__(self):\n",
    "        A.cnt += 1\n",
    "    \n",
    "    # cnt += 1\n",
    "    \n",
    "    @classmethod\n",
    "    def count(cls):\n",
    "        return f'객체 수: {cls.cnt}'\n",
    "    \n",
    "A()\n",
    "A()\n",
    "A()\n",
    "A.count() # 4"
   ]
  },
  {
   "cell_type": "code",
   "execution_count": 42,
   "id": "a7a2a5bc-5451-4b0c-9568-e8835d341156",
   "metadata": {},
   "outputs": [],
   "source": [
    "# 3. 정적 메서드\n",
    "class Coyote:\n",
    "    @staticmethod\n",
    "    def says(): # self 없음. 딕셔너리에 변수 저장하는 것과 비슷\n",
    "        print('hi')"
   ]
  },
  {
   "cell_type": "code",
   "execution_count": 43,
   "id": "cefad45e-ff14-45a1-a666-fe13a069aae0",
   "metadata": {},
   "outputs": [
    {
     "name": "stdout",
     "output_type": "stream",
     "text": [
      "hi\n"
     ]
    }
   ],
   "source": [
    "Coyote.says()"
   ]
  },
  {
   "cell_type": "code",
   "execution_count": 46,
   "id": "0b5b2ca7-b98f-4e5f-b400-54e53aa97d6d",
   "metadata": {},
   "outputs": [],
   "source": [
    "# 4. 추상 메서드\n",
    "from abc import *\n",
    "\n",
    "class Vehicle(metaclass=ABCMeta):\n",
    "    # 추상 클래스 설정하는 방법\n",
    "    speed = '속도'\n",
    "    \n",
    "    @abstractmethod\n",
    "    def go(self):\n",
    "        print('탈 것이 간다.')\n",
    "    \"\"\"\n",
    "    def stop(self):\n",
    "        pass\n",
    "    \"\"\"\n",
    "    \n",
    "class Car(Vehicle):\n",
    "    def go(self):\n",
    "        print(\"\")"
   ]
  },
  {
   "cell_type": "code",
   "execution_count": 47,
   "id": "2bfedb14-f57f-4158-b83f-f784f0e9b391",
   "metadata": {},
   "outputs": [
    {
     "data": {
      "text/plain": [
       "<__main__.Car at 0x2854a5678e0>"
      ]
     },
     "execution_count": 47,
     "metadata": {},
     "output_type": "execute_result"
    }
   ],
   "source": [
    "Car()"
   ]
  }
 ],
 "metadata": {
  "kernelspec": {
   "display_name": "Python 3 (ipykernel)",
   "language": "python",
   "name": "python3"
  },
  "language_info": {
   "codemirror_mode": {
    "name": "ipython",
    "version": 3
   },
   "file_extension": ".py",
   "mimetype": "text/x-python",
   "name": "python",
   "nbconvert_exporter": "python",
   "pygments_lexer": "ipython3",
   "version": "3.9.7"
  }
 },
 "nbformat": 4,
 "nbformat_minor": 5
}
