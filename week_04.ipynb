{
 "cells": [
  {
   "cell_type": "markdown",
   "id": "b7e5bc46-0824-49bc-84bf-1d72f7e88280",
   "metadata": {},
   "source": [
    "## Ch05 텍스트와 문자열"
   ]
  },
  {
   "cell_type": "code",
   "execution_count": 4,
   "id": "1c61afbb-ea1a-4f59-9b8a-e6ce996232fb",
   "metadata": {},
   "outputs": [
    {
     "name": "stdout",
     "output_type": "stream",
     "text": [
      "*** Introductory Examples for the NLTK Book ***\n",
      "Loading text1, ..., text9 and sent1, ..., sent9\n",
      "Type the name of the text or sentence to view it.\n",
      "Type: 'texts()' or 'sents()' to list the materials.\n",
      "text1: Moby Dick by Herman Melville 1851\n",
      "text2: Sense and Sensibility by Jane Austen 1811\n",
      "text3: The Book of Genesis\n",
      "text4: Inaugural Address Corpus\n",
      "text5: Chat Corpus\n",
      "text6: Monty Python and the Holy Grail\n",
      "text7: Wall Street Journal\n",
      "text8: Personals Corpus\n",
      "text9: The Man Who Was Thursday by G . K . Chesterton 1908\n"
     ]
    },
    {
     "data": {
      "text/plain": [
       "True"
      ]
     },
     "execution_count": 4,
     "metadata": {},
     "output_type": "execute_result"
    }
   ],
   "source": [
    "import nltk\n",
    "from nltk.book import *\n",
    "nltk.download('book', quiet=True)"
   ]
  },
  {
   "cell_type": "markdown",
   "id": "1c738180-de1e-442b-b14c-9b38453042d3",
   "metadata": {},
   "source": [
    "#### 내장함수 I\n",
    "- string1.method(string2)\n",
    "- list.method(string)\n",
    "\n",
    "- list.count(string): string이 나타나는 개수\n",
    "- str.replace(): A -> b 변경하는\n",
    "- str.strip(): 공백 등등을 제거하는 기능\n",
    "    - lstrip, rstrip\n",
    "- find(string): 오프셋을 변환\n",
    "    - lfind, rfind\n",
    "    - 공백 포함\n",
    "    - 첫번째 값의 인덱스\n",
    "    - 만족하는 값이 없는 경우 -1 변환\n",
    "- index(string)\n",
    "    - 만족하는 값이 없을 경우 에러발생"
   ]
  },
  {
   "cell_type": "code",
   "execution_count": 3,
   "id": "67d98ef0-7ef4-44a8-8b29-32d3f5d158fe",
   "metadata": {},
   "outputs": [],
   "source": [
    "word = '   \\t    chance' # 공백에는 tab도 포함해서 없어진다.\n",
    "word = word.replace('c', 'd').strip().replace('e', 'E') # 각 결과 값의 자료형이 맞기 때문에 가능."
   ]
  },
  {
   "cell_type": "code",
   "execution_count": 7,
   "id": "fa84cba9-b23d-42ee-92b1-7a585391dc23",
   "metadata": {},
   "outputs": [
    {
     "data": {
      "text/plain": [
       "9"
      ]
     },
     "execution_count": 7,
     "metadata": {},
     "output_type": "execute_result"
    }
   ],
   "source": [
    "word2 = '    \\t    danceddd'\n",
    "word2.find('d') # 공백도 포함해서 센다. "
   ]
  },
  {
   "cell_type": "code",
   "execution_count": 8,
   "id": "ff67ddee-4ed3-4c77-bc35-56267076a171",
   "metadata": {},
   "outputs": [
    {
     "data": {
      "text/plain": [
       "-1"
      ]
     },
     "execution_count": 8,
     "metadata": {},
     "output_type": "execute_result"
    }
   ],
   "source": [
    "word2.find('q') # -1반환"
   ]
  },
  {
   "cell_type": "code",
   "execution_count": 9,
   "id": "2323ad97-885a-4028-b931-2cb0e6a8062e",
   "metadata": {},
   "outputs": [
    {
     "ename": "ValueError",
     "evalue": "substring not found",
     "output_type": "error",
     "traceback": [
      "\u001b[1;31m---------------------------------------------------------------------------\u001b[0m",
      "\u001b[1;31mValueError\u001b[0m                                Traceback (most recent call last)",
      "\u001b[1;32m~\\AppData\\Local\\Temp/ipykernel_19052/2802357238.py\u001b[0m in \u001b[0;36m<module>\u001b[1;34m\u001b[0m\n\u001b[1;32m----> 1\u001b[1;33m \u001b[0mword2\u001b[0m\u001b[1;33m.\u001b[0m\u001b[0mindex\u001b[0m\u001b[1;33m(\u001b[0m\u001b[1;34m'q'\u001b[0m\u001b[1;33m)\u001b[0m\u001b[1;33m\u001b[0m\u001b[1;33m\u001b[0m\u001b[0m\n\u001b[0m",
      "\u001b[1;31mValueError\u001b[0m: substring not found"
     ]
    }
   ],
   "source": [
    "word2.index('q') # 에러 발생"
   ]
  },
  {
   "cell_type": "markdown",
   "id": "37bad50f-f959-4385-b4ce-044def7bdf37",
   "metadata": {},
   "source": [
    "### NLTK 내장 함수\n",
    "- list.metod(var)\n",
    "- 자연어처리와 관련된 함수들\n",
    "\n",
    "- concordance(): string의 앞뒤 문맥을 알 수 있음\n",
    "- similar(): 문맥이 비슷한 단어들\n",
    "- common_contexts(): 주어진 스트링이 어떤 문맥을 공유하는지\n",
    "- dispersion_plot(): 주어진 스트링이 텍스트에서 출연하는 위치를 이미지로 \n",
    "\n",
    "- 어떤 자료형이 가능한지 잘 숙지하기."
   ]
  },
  {
   "cell_type": "markdown",
   "id": "fdccb4e7-4ee9-40bd-be62-60089e191701",
   "metadata": {},
   "source": [
    "### Frequency Distribution\n",
    "- 단어의 빈도수를 활용할 수 있는 많은 메소드를 제공\n",
    "- 인간 언어 -> 컴퓨터가 인식\n",
    "    - 전체 단어 수\n",
    "    - 특정의 빈도수"
   ]
  },
  {
   "cell_type": "markdown",
   "id": "7a5f5096-39a6-4801-ae6f-f2bb4894aa4e",
   "metadata": {},
   "source": [
    "### 리스트 & 리스트 컴프리핸션\n",
    "- 리스트: 배열(array), 리스트(list)\n",
    "- 하나의 변수에 여러 값을 할당하는 자료형\n",
    "    - 'a = [1, 2, 3, 4]'\n",
    "- 대괄호로 선언 [ ]\n",
    "- 내부 요소들은 자료형이 달라도 됨\n",
    "    - a = [1, True, 'hello']\n",
    "- 순서가 있다 => 인덱싱, 슬라이싱 가능\n",
    "- 빈 리스트 선언 list(), []"
   ]
  },
  {
   "cell_type": "markdown",
   "id": "42371f09-c4b6-49af-a8bc-468ccbeaa7ee",
   "metadata": {},
   "source": [
    "### list comprehension\n",
    "- 지능형 리스트\n",
    "- 주어진 리스트를 포함하는 새로운 리스트를 형성하는 것\n",
    "- list + for_loop 한줄로 해결하는 방식\n",
    "- [A for A' in B]\n",
    "   - B에 있는 A'에서 A를 가진 리스트를 변환\n",
    "   - B: 기존의 리스트\n",
    "   - A': B의 자료형태\n",
    "   - A: 새로운 리스트의 요소\n",
    "   \n",
    "- 조건+ : [A for A' in B if <조건식>]\n",
    "    - [A for A' in B if <조건식> and <조건식>, ...]"
   ]
  },
  {
   "cell_type": "markdown",
   "id": "b60954c8-8073-4f80-bd8f-b65756fda784",
   "metadata": {},
   "source": [
    "### 조건을 위한 함수: uncased, cased\n",
    "- 'the' != 'The'\n",
    "- upper(), lower(), tilte()\n",
    "- capitalize(), swapcase()\n",
    "- isupper(), islower(), istitle()\n",
    "- endswith(), startswith(), isalpha()"
   ]
  },
  {
   "cell_type": "markdown",
   "id": "69a791f1-055c-4e2c-bee0-5ba6c60d0785",
   "metadata": {},
   "source": [
    "### 리스트, 스트링\n",
    "- str.split(sep): str -> list\n",
    "- sep.join(list): list -> str"
   ]
  },
  {
   "cell_type": "markdown",
   "id": "20913f21-4c13-4fa8-b0ab-278f520faf3d",
   "metadata": {},
   "source": [
    "## Ch06 반복문: while과 for 문\n",
    "### 반복문\n",
    "- '[word for word in text1]'\n",
    "- 자료구조 순회할 때 사용함.\n",
    "- 정해진 동작을 반복적으로 수행할 때 내리는 명령어\n",
    "- 시작조건, 종료조건, 수행명령으로 구성됨\n",
    "- for 요소 in 반복범위:\n",
    "    수행명령\n",
    "\n",
    "- for, while\n",
    "- 들여쓰기, 블록 => 논리구조\n",
    "- 무한루프가 되지 않도록 주의"
   ]
  },
  {
   "cell_type": "markdown",
   "id": "9c5b0e1f-07c1-4899-a0ee-c9cf3a9e3bc4",
   "metadata": {},
   "source": [
    "### 출력 포매팅\n",
    "- 1. f'str .... {var}'\n",
    "    - f, F 둘 다 가능\n",
    "- 2. % 옛날방식임.\n",
    "    - '... %s' %var\n",
    "- 3.'...{}'.format(var)"
   ]
  },
  {
   "cell_type": "code",
   "execution_count": null,
   "id": "f1423250-8cc3-4f40-932c-e615828f99ae",
   "metadata": {},
   "outputs": [],
   "source": []
  }
 ],
 "metadata": {
  "kernelspec": {
   "display_name": "Python 3 (ipykernel)",
   "language": "python",
   "name": "python3"
  },
  "language_info": {
   "codemirror_mode": {
    "name": "ipython",
    "version": 3
   },
   "file_extension": ".py",
   "mimetype": "text/x-python",
   "name": "python",
   "nbconvert_exporter": "python",
   "pygments_lexer": "ipython3",
   "version": "3.9.7"
  }
 },
 "nbformat": 4,
 "nbformat_minor": 5
}
