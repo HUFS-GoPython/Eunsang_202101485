{
 "cells": [
  {
   "cell_type": "markdown",
   "id": "0c889bea-8566-40a6-9e60-f1fcc5cbe602",
   "metadata": {
    "tags": []
   },
   "source": [
    "### 10. 객체와 클래스\n",
    "- object 객체\n",
    "- 객체지향프로그래밍\n",
    "- 속성과 행동을 가지는 개념, 실존하는 물체?, 실존하지 않아도 됨.\n",
    "    - 예: 자동차, 강아지, 꽃, ... thing\n",
    "        - 자동차 속성: 브랜드, 색, 속도, 모델,... => 변수\n",
    "        - 강아지 속성: 이름, 종, 색, 무게, ...\n",
    "        - 자동차 행동: 가다, 서다, 회전, 주차,... => 메소드 (함수)\n",
    "        - 강아지 행동: 뛰다, 짓다, 자다, 핥다, ...\n",
    "- 편의점 => \"고객이 편의점에서 과자를 샀다\"\n",
    "    - 객체: 고객 => 사람,      편의점,                     과자=> 물건\n",
    "        - 이름, 돈            - 재고, 수익                 - 이름, 브랜드, 가격 (내가 필요한 속성만!)\n",
    "        - 물건 사다, 돈 내다   - 팔다, 수익남기다, 물건 등록 - x\n",
    "    - 상호작용으로 코드 구성하는 것"
   ]
  },
  {
   "cell_type": "markdown",
   "id": "45eac6bb-bef7-4bbc-a887-32e2836bdfdb",
   "metadata": {},
   "source": [
    "- 클래스 선언\n",
    "    - 첫글자 대문자\n",
    "    - nice car -> NiceCar (하멜표기법으로!)\n",
    "\n",
    "- 정의부, 선언부\n",
    "    - 정의부 = 붕어빵 틀\n",
    "    - 선언부 = 붕어빵"
   ]
  },
  {
   "cell_type": "code",
   "execution_count": 1,
   "id": "2e52a983-0ba2-4320-aa90-c1576261d7ad",
   "metadata": {},
   "outputs": [
    {
     "data": {
      "text/plain": [
       "<__main__.Car at 0x2004db213a0>"
      ]
     },
     "execution_count": 1,
     "metadata": {},
     "output_type": "execute_result"
    }
   ],
   "source": [
    "# 정의부\n",
    "# 아무것도 없음.\n",
    "# 매 객체마다 속성 정의해줘야 하는 번거로움.\n",
    "class Car: #\n",
    "    pass\n",
    "\n",
    "# 선언부\n",
    "my_car = Car()\n",
    "my_car # instance선언부 == 붕어빵"
   ]
  },
  {
   "cell_type": "code",
   "execution_count": 4,
   "id": "5d95107a-9dbb-46eb-83cb-f3a0ab3d2a97",
   "metadata": {},
   "outputs": [],
   "source": [
    "my_car.name = 'bmw'\n",
    "my_car.color = 'white'"
   ]
  },
  {
   "cell_type": "code",
   "execution_count": 5,
   "id": "1cac36c7-05c1-42b5-9ad5-c45a84734b81",
   "metadata": {},
   "outputs": [
    {
     "data": {
      "text/plain": [
       "'bmw'"
      ]
     },
     "execution_count": 5,
     "metadata": {},
     "output_type": "execute_result"
    }
   ],
   "source": [
    "my_car.name"
   ]
  },
  {
   "cell_type": "code",
   "execution_count": 6,
   "id": "7bc61f3e-e26d-4cc9-8bde-6576d6cfbd98",
   "metadata": {},
   "outputs": [],
   "source": [
    "# 속성 정의\n",
    "# 바꾸고 싶을 때 안 바뀜\n",
    "class Car:\n",
    "    # 1. 속성\n",
    "    name = 'BMW'"
   ]
  },
  {
   "cell_type": "code",
   "execution_count": 7,
   "id": "60a11303-82d4-4931-8ec6-9a252bd4cc9e",
   "metadata": {},
   "outputs": [],
   "source": [
    "your_car = Car()"
   ]
  },
  {
   "cell_type": "code",
   "execution_count": 8,
   "id": "b1c7fe4b-60ec-482e-a8f4-f8866ab3316d",
   "metadata": {},
   "outputs": [
    {
     "data": {
      "text/plain": [
       "'BMW'"
      ]
     },
     "execution_count": 8,
     "metadata": {},
     "output_type": "execute_result"
    }
   ],
   "source": [
    "your_car.name"
   ]
  },
  {
   "cell_type": "code",
   "execution_count": 68,
   "id": "ac60fd93-0ccd-4949-b217-ccac62ced70c",
   "metadata": {},
   "outputs": [],
   "source": [
    "# 2. 더 커스터마이징 하고 싶을 때.\n",
    "class Car:\n",
    "    def __init__(self, name, model=None, color='black'): # 속성 초기화 함수\n",
    "        # 객체 만들 때 들어가는 값으로 이름을 설정하고 싶다.\n",
    "        self.name = name\n",
    "        # self == instance: 나 자신(인스턴스 자신)\n",
    "        self.model = model\n",
    "        self.color = color\n",
    "    \n",
    "    def drive(self):\n",
    "        # 1. {브랜드이름}가 출발합니다.\n",
    "        print(f'{self.name}가 지나갑니다.')\n",
    "    \n",
    "    def stop(self):\n",
    "        print('차가 섭니다.')\n",
    "        \n",
    "    def change_color(self, color):\n",
    "        # 2. gray로 바꾼다.\n",
    "        # self.color = 'gray'\n",
    "        \n",
    "        # 3. color 을 받아서 그걸로 지정하게\n",
    "        self.color = color\n",
    "        \n",
    "    # 4. color이 들어오면 그 값으로 설정, 아니면 'black'사용 = 함수 기본값 설정 활용!\n",
    "    # 5. model을 생성할 때 안 넣어도 되게 설정하기 = None타입 사용"
   ]
  },
  {
   "cell_type": "code",
   "execution_count": 69,
   "id": "8d0cbbda-b8c4-4a5f-9111-75e3e6dc31aa",
   "metadata": {},
   "outputs": [],
   "source": [
    "her_car = Car(name='Hyundai',model='2014', color='black')\n",
    "my_car= Car('Kia', 'SM5', 'black') # 순서대로 쓰면 순서대로 들어옴."
   ]
  },
  {
   "cell_type": "code",
   "execution_count": 72,
   "id": "f8a657e3-f6c0-43ad-978a-4fdfc91a6084",
   "metadata": {},
   "outputs": [],
   "source": [
    "her_car.change_color()"
   ]
  },
  {
   "cell_type": "markdown",
   "id": "780421bb-071b-4087-ab83-e42a95e6a417",
   "metadata": {},
   "source": [
    "### 캡슐화, 정보 은닉\n",
    "- public -> private\n",
    "- getter, setter"
   ]
  },
  {
   "cell_type": "code",
   "execution_count": 73,
   "id": "fd7b44f9-82f4-4ef6-a7ed-9f5029f666f2",
   "metadata": {},
   "outputs": [
    {
     "data": {
      "text/plain": [
       "'red'"
      ]
     },
     "execution_count": 73,
     "metadata": {},
     "output_type": "execute_result"
    }
   ],
   "source": [
    "class Fruit:\n",
    "    color = 'red'\n",
    "    \n",
    "kiwi = Fruit()\n",
    "kiwi.color"
   ]
  },
  {
   "cell_type": "code",
   "execution_count": 74,
   "id": "b5cdf456-7c16-40d0-bf23-510e5eeea3f0",
   "metadata": {},
   "outputs": [],
   "source": [
    "# 문제점! 틀을 만들어 놨는데 밖에서 너무 간단히 바뀜.\n",
    "# 내가 언제 알지도 못하는 사이에 바뀔 수 있음.\n",
    "Fruit.color = 'black'"
   ]
  },
  {
   "cell_type": "code",
   "execution_count": 75,
   "id": "21627e12-2c18-4b06-b06d-4f24f2a06800",
   "metadata": {},
   "outputs": [
    {
     "data": {
      "text/plain": [
       "'black'"
      ]
     },
     "execution_count": 75,
     "metadata": {},
     "output_type": "execute_result"
    }
   ],
   "source": [
    "apple = Fruit()\n",
    "apple.color"
   ]
  },
  {
   "cell_type": "markdown",
   "id": "3aa01952-ede5-42e5-9b1b-756a1bdea94b",
   "metadata": {},
   "source": [
    "#### get, set\n",
    "- getter: 클래스 내 객체 변수 반환\n",
    "- setter: == 변수 설정\n",
    "- setter로 설정하고, getter로 반환."
   ]
  },
  {
   "cell_type": "code",
   "execution_count": 76,
   "id": "b7c1b460-3e31-483b-9214-7107e4055783",
   "metadata": {},
   "outputs": [],
   "source": [
    "# 1. java 방법\n",
    "# getter와 setter 만들어서 이것을 통해 바꾸라는 의미\n",
    "# 아예 막는 것은 아님.\n",
    "class Car:\n",
    "    def __init__(self, input_name):\n",
    "        self.name = input_name\n",
    "    \n",
    "    def get_name(self):\n",
    "        # 변수 반환\n",
    "        return self.name\n",
    "    \n",
    "    # 설정이기 때문에 리턴값은 없음.    \n",
    "    def set_name(self, input_name):\n",
    "        self.name = input_name\n",
    "        \n",
    "c = Car('name1')"
   ]
  },
  {
   "cell_type": "code",
   "execution_count": 77,
   "id": "ee84f43b-87e3-4c6a-95b7-152d211e3eb5",
   "metadata": {},
   "outputs": [
    {
     "data": {
      "text/plain": [
       "'name1'"
      ]
     },
     "execution_count": 77,
     "metadata": {},
     "output_type": "execute_result"
    }
   ],
   "source": [
    "c.get_name()"
   ]
  },
  {
   "cell_type": "code",
   "execution_count": 78,
   "id": "11168183-365b-41b3-ba53-e5ee79dee05f",
   "metadata": {},
   "outputs": [
    {
     "data": {
      "text/plain": [
       "'name2'"
      ]
     },
     "execution_count": 78,
     "metadata": {},
     "output_type": "execute_result"
    }
   ],
   "source": [
    "c.set_name('name2')\n",
    "c.name"
   ]
  },
  {
   "cell_type": "code",
   "execution_count": 79,
   "id": "4822ef54-2a89-48a6-8dae-3987e4174c22",
   "metadata": {},
   "outputs": [
    {
     "data": {
      "text/plain": [
       "'name3'"
      ]
     },
     "execution_count": 79,
     "metadata": {},
     "output_type": "execute_result"
    }
   ],
   "source": [
    "# 그냥 name으로도 바뀌긴 함. 하지만 get과 set을 사용했으므로 name을 사용하지 말라는 의미.\n",
    "c.name = 'name3'\n",
    "c.name"
   ]
  },
  {
   "cell_type": "markdown",
   "id": "0de7b30f-7582-419e-95a6-225f205896cd",
   "metadata": {},
   "source": [
    "##### 2."
   ]
  },
  {
   "cell_type": "code",
   "execution_count": 80,
   "id": "53b7db8e-a698-409c-8e4d-e9962f0985c2",
   "metadata": {},
   "outputs": [
    {
     "data": {
      "text/plain": [
       "'name1'"
      ]
     },
     "execution_count": 80,
     "metadata": {},
     "output_type": "execute_result"
    }
   ],
   "source": [
    "class Car:\n",
    "    def __init__(self, input_name):\n",
    "        self.hidden_name = input_name\n",
    "    \n",
    "    def get_name(self):\n",
    "        # 변수 반환\n",
    "        return self.hidden_name\n",
    "        \n",
    "    def set_name(self, input_name):\n",
    "        self.hidden_name = input_name\n",
    "    \n",
    "    name = property(get_name, set_name)\n",
    "    \n",
    "d = Car('name1')\n",
    "d.name"
   ]
  },
  {
   "cell_type": "markdown",
   "id": "2aa256aa-5a77-4a87-9300-6d6e6f2f8626",
   "metadata": {},
   "source": [
    "##### 3."
   ]
  },
  {
   "cell_type": "code",
   "execution_count": 2,
   "id": "fc5247aa-a58d-4b05-825b-19992fd658e9",
   "metadata": {},
   "outputs": [],
   "source": [
    "class Car:\n",
    "    def __init__(self, input_name):\n",
    "        self.hidden_name = input_name\n",
    "    \n",
    "    # decorator\n",
    "    # property: 매소드를 통해 속성 만듦.\n",
    "    @property\n",
    "    def name(self):\n",
    "        # 변수 반환\n",
    "        return self.hidden_name\n",
    "    @name.setter    \n",
    "    def set_name(self, input_name):\n",
    "        self.hidden_name = input_name"
   ]
  },
  {
   "cell_type": "code",
   "execution_count": 3,
   "id": "8533ea24-c0b0-4dca-86cb-93e921eb23ae",
   "metadata": {},
   "outputs": [
    {
     "data": {
      "text/plain": [
       "'name a'"
      ]
     },
     "execution_count": 3,
     "metadata": {},
     "output_type": "execute_result"
    }
   ],
   "source": [
    "e = Car('name a')\n",
    "e.name"
   ]
  },
  {
   "cell_type": "code",
   "execution_count": 4,
   "id": "8fbda835-0e30-4e00-98cc-fb9540384be0",
   "metadata": {},
   "outputs": [
    {
     "data": {
      "text/plain": [
       "'name a'"
      ]
     },
     "execution_count": 4,
     "metadata": {},
     "output_type": "execute_result"
    }
   ],
   "source": [
    "# Car.hidden_name은 에러지만\n",
    "e.hidden_name # 얘는 못가림."
   ]
  },
  {
   "cell_type": "markdown",
   "id": "9aeccf10-7899-4c4b-8e41-f64683a90e58",
   "metadata": {},
   "source": [
    "##### 4. 완전 가려야 할 때."
   ]
  },
  {
   "cell_type": "code",
   "execution_count": 5,
   "id": "fbb77cfc-84a9-49b9-8578-17d875768a5b",
   "metadata": {},
   "outputs": [],
   "source": [
    "# __변수: 접근하지 못하는 변수\n",
    "class Car:\n",
    "    def __init__(self, input_name):\n",
    "        self.__name = input_name\n",
    "    \n",
    "    # decorator\n",
    "    @property\n",
    "    def name(self):\n",
    "        # 변수 반환\n",
    "        return self.__name\n",
    "    \n",
    "    @name.setter    \n",
    "    def set_name(self, input_name):\n",
    "        self.__name = input_name"
   ]
  },
  {
   "cell_type": "code",
   "execution_count": 6,
   "id": "855a8393-3672-4e44-a2cb-febbeb23d3cd",
   "metadata": {},
   "outputs": [
    {
     "ename": "AttributeError",
     "evalue": "'Car' object has no attribute '__name'",
     "output_type": "error",
     "traceback": [
      "\u001b[1;31m---------------------------------------------------------------------------\u001b[0m",
      "\u001b[1;31mAttributeError\u001b[0m                            Traceback (most recent call last)",
      "\u001b[1;32m~\\AppData\\Local\\Temp/ipykernel_13328/229484777.py\u001b[0m in \u001b[0;36m<module>\u001b[1;34m\u001b[0m\n\u001b[0;32m      1\u001b[0m \u001b[0mf\u001b[0m \u001b[1;33m=\u001b[0m \u001b[0mCar\u001b[0m\u001b[1;33m(\u001b[0m\u001b[1;34m'name b'\u001b[0m\u001b[1;33m)\u001b[0m\u001b[1;33m\u001b[0m\u001b[1;33m\u001b[0m\u001b[0m\n\u001b[1;32m----> 2\u001b[1;33m \u001b[0mf\u001b[0m\u001b[1;33m.\u001b[0m\u001b[0m__name\u001b[0m\u001b[1;33m\u001b[0m\u001b[1;33m\u001b[0m\u001b[0m\n\u001b[0m",
      "\u001b[1;31mAttributeError\u001b[0m: 'Car' object has no attribute '__name'"
     ]
    }
   ],
   "source": [
    "f = Car('name b')\n",
    "f.__name"
   ]
  },
  {
   "cell_type": "code",
   "execution_count": 83,
   "id": "08b0f264-8e2b-4834-b577-16be9849594d",
   "metadata": {},
   "outputs": [
    {
     "data": {
      "text/plain": [
       "10"
      ]
     },
     "execution_count": 83,
     "metadata": {},
     "output_type": "execute_result"
    }
   ],
   "source": [
    "class Circle:\n",
    "    def __init__(self, radius):\n",
    "        self.radius = radius\n",
    "        \n",
    "    @property    \n",
    "    def parameter(self):\n",
    "        return self.radius * 2\n",
    "\n",
    "ex = Circle(5)\n",
    "ex.parameter"
   ]
  },
  {
   "cell_type": "code",
   "execution_count": 84,
   "id": "f52351b1-3a72-4a38-9d28-d9640e784ecb",
   "metadata": {},
   "outputs": [
    {
     "data": {
      "text/plain": [
       "38"
      ]
     },
     "execution_count": 84,
     "metadata": {},
     "output_type": "execute_result"
    }
   ],
   "source": [
    "ex.radius = 19\n",
    "ex.parameter"
   ]
  },
  {
   "cell_type": "markdown",
   "id": "ce452408-e63d-4d9a-8570-e6fb392c2dcc",
   "metadata": {},
   "source": [
    "### 실습\n",
    "- 메모장, 메모 구현하기\n",
    "- 메모장\n",
    "    - 속성: 제목, 페이지번호, 메모\n",
    "    - 행동: 메모 추가하다, 메모 삭제하다, 페이지번호 확인한다.\n",
    "- 메모\n",
    "    - 속성: 글귀\n",
    "    - 행동: 쓰다, 지우다\n",
    "    \n",
    "- 사용:\n",
    "    - 메모 쓴다\n",
    "    - 메모장에 추가\n",
    "    - 페이지 번호가 추가한만큼 늘어난다\n",
    "    - 메모 삭제\n",
    "    - 페이지 번호 줄어든다\n",
    "    - 메모장> 제목만 은닉시키다\n"
   ]
  },
  {
   "cell_type": "code",
   "execution_count": 11,
   "id": "9c1c3e07-aad7-4b32-b8fb-51bd84f80d00",
   "metadata": {},
   "outputs": [
    {
     "name": "stdout",
     "output_type": "stream",
     "text": [
      ">>> Note\n",
      "우리 모두 스스로가 원하는 리더가 됩시다.\n",
      "page | 1\n",
      "@$^(@ 낙서~...~@#!?!!@!!#\n",
      "page | 2\n",
      "모두가 함께 앞으로 나아가면 성공은 저절로 따라옵니다.\n",
      "page | 3\n",
      "혼자서는 작은 한 방울이지만 함께 모이면 바다를 이룹니다.\n",
      "page | 4\n",
      "낙서 @@@@@\n",
      "page | 5\n",
      "\n",
      ">>> Note\n",
      "우리 모두 스스로가 원하는 리더가 됩시다.\n",
      "page | 1\n",
      "모두가 함께 앞으로 나아가면 성공은 저절로 따라옵니다.\n",
      "page | 2\n",
      "혼자서는 작은 한 방울이지만 함께 모이면 바다를 이룹니다.\n",
      "page | 3\n",
      "\n",
      ">>> Notebook\n",
      "우리 모두 스스로가 원하는 리더가 됩시다.\n",
      "page | 1\n",
      "모두가 함께 앞으로 나아가면 성공은 저절로 따라옵니다.\n",
      "page | 2\n",
      "혼자서는 작은 한 방울이지만 함께 모이면 바다를 이룹니다.\n",
      "page | 3\n",
      "\n",
      ">>> Notebook\n",
      "우리 모두 스스로가 원하는 리더가 됩시다.\n",
      "page | 1\n",
      "혼자서는 작은 한 방울이지만 함께 모이면 바다를 이룹니다.\n",
      "page | 2\n",
      "\n"
     ]
    },
    {
     "data": {
      "text/plain": [
       "2"
      ]
     },
     "execution_count": 11,
     "metadata": {},
     "output_type": "execute_result"
    }
   ],
   "source": [
    "class Notebook:\n",
    "    def __init__(self, title, memos=[], page=0):\n",
    "        self.__title = title\n",
    "        self.memos = memos\n",
    "        self.page = page\n",
    "        \n",
    "    @property\n",
    "    def title(self):\n",
    "        return self.__title\n",
    "    \n",
    "    def add_note(self, note=[]):\n",
    "        self.memos.extend(note)\n",
    "        self.page += len(note)\n",
    "    \n",
    "    def delete_note(self, note):\n",
    "        self.memos.remove(note)\n",
    "        self.page -= 1\n",
    "    \n",
    "    def get_page_num(self):\n",
    "        return self.page\n",
    "    \n",
    "    def print_book(self):\n",
    "        print('>>> Notebook')\n",
    "        for p, m in enumerate(self.memos, start = 1):\n",
    "            print(m)\n",
    "            print(f'page | {p}')\n",
    "        print()\n",
    "    \n",
    "    \n",
    "class Note:\n",
    "    def __init__(self, memo=[]):\n",
    "        self.memo = memo\n",
    "        \n",
    "    def write(self, line):\n",
    "        self.memo.append(line)\n",
    "    \n",
    "    def erase(self, line):\n",
    "        self.memo.remove(line)\n",
    "        \n",
    "    def print_memo(self):\n",
    "        print('>>> Note')\n",
    "        for p, m in enumerate(self.memo, start = 1):\n",
    "            print(m)\n",
    "            print(f'page | {p}')\n",
    "        print()\n",
    "    \n",
    "    \n",
    "# 사용\n",
    "line1 = '우리 모두 스스로가 원하는 리더가 됩시다.'\n",
    "line2 = '@$^(@ 낙서~...~@#!?!!@!!#'\n",
    "line3 = '모두가 함께 앞으로 나아가면 성공은 저절로 따라옵니다.'\n",
    "line4 = '혼자서는 작은 한 방울이지만 함께 모이면 바다를 이룹니다.'\n",
    "line5 = '낙서 @@@@@'\n",
    "\n",
    "# 메모 추가\n",
    "my_note = Note()\n",
    "my_note.write(line1)\n",
    "my_note.write(line2)\n",
    "my_note.write(line3)\n",
    "my_note.write(line4)\n",
    "my_note.write(line5)\n",
    "my_note.print_memo()\n",
    "\n",
    "# 메모 삭제\n",
    "my_note.erase(line2)\n",
    "my_note.erase(line5)\n",
    "my_note.print_memo()\n",
    "\n",
    "# 메모장에 추가\n",
    "my_book = Notebook('오늘 일기')\n",
    "my_book.add_note(my_note.memo)\n",
    "my_book.print_book()\n",
    "\n",
    "# 메모장의 제목 은닉\n",
    "# my_book.__title\n",
    "\n",
    "# 메모장 삭제\n",
    "my_book.delete_note(line3)\n",
    "my_book.print_book()\n",
    "\n",
    "# 페이지 번호 확인하기\n",
    "my_book.get_page_num()       "
   ]
  },
  {
   "cell_type": "code",
   "execution_count": 10,
   "id": "4c5b9e13-a0b0-4213-8005-7675939f9e8c",
   "metadata": {},
   "outputs": [
    {
     "ename": "AttributeError",
     "evalue": "'str' object has no attribute 'append'",
     "output_type": "error",
     "traceback": [
      "\u001b[1;31m---------------------------------------------------------------------------\u001b[0m",
      "\u001b[1;31mAttributeError\u001b[0m                            Traceback (most recent call last)",
      "\u001b[1;32m~\\AppData\\Local\\Temp/ipykernel_13328/556446264.py\u001b[0m in \u001b[0;36m<module>\u001b[1;34m\u001b[0m\n\u001b[0;32m      6\u001b[0m \u001b[1;31m# 메모 추가\u001b[0m\u001b[1;33m\u001b[0m\u001b[1;33m\u001b[0m\u001b[0m\n\u001b[0;32m      7\u001b[0m \u001b[0mmy_note\u001b[0m \u001b[1;33m=\u001b[0m \u001b[0mNote\u001b[0m\u001b[1;33m(\u001b[0m\u001b[1;34m'diary'\u001b[0m\u001b[1;33m)\u001b[0m\u001b[1;33m\u001b[0m\u001b[1;33m\u001b[0m\u001b[0m\n\u001b[1;32m----> 8\u001b[1;33m \u001b[0mmy_note\u001b[0m\u001b[1;33m.\u001b[0m\u001b[0mwrite\u001b[0m\u001b[1;33m(\u001b[0m\u001b[0mline1\u001b[0m\u001b[1;33m)\u001b[0m\u001b[1;33m\u001b[0m\u001b[1;33m\u001b[0m\u001b[0m\n\u001b[0m\u001b[0;32m      9\u001b[0m \u001b[0mmy_note\u001b[0m\u001b[1;33m.\u001b[0m\u001b[0mwrite\u001b[0m\u001b[1;33m(\u001b[0m\u001b[0mline2\u001b[0m\u001b[1;33m)\u001b[0m\u001b[1;33m\u001b[0m\u001b[1;33m\u001b[0m\u001b[0m\n\u001b[0;32m     10\u001b[0m \u001b[0mmy_note\u001b[0m\u001b[1;33m.\u001b[0m\u001b[0mwrite\u001b[0m\u001b[1;33m(\u001b[0m\u001b[0mline3\u001b[0m\u001b[1;33m)\u001b[0m\u001b[1;33m\u001b[0m\u001b[1;33m\u001b[0m\u001b[0m\n",
      "\u001b[1;32m~\\AppData\\Local\\Temp/ipykernel_13328/1964574021.py\u001b[0m in \u001b[0;36mwrite\u001b[1;34m(self, line)\u001b[0m\n\u001b[0;32m     33\u001b[0m \u001b[1;33m\u001b[0m\u001b[0m\n\u001b[0;32m     34\u001b[0m     \u001b[1;32mdef\u001b[0m \u001b[0mwrite\u001b[0m\u001b[1;33m(\u001b[0m\u001b[0mself\u001b[0m\u001b[1;33m,\u001b[0m \u001b[0mline\u001b[0m\u001b[1;33m)\u001b[0m\u001b[1;33m:\u001b[0m\u001b[1;33m\u001b[0m\u001b[1;33m\u001b[0m\u001b[0m\n\u001b[1;32m---> 35\u001b[1;33m         \u001b[0mself\u001b[0m\u001b[1;33m.\u001b[0m\u001b[0mmemo\u001b[0m\u001b[1;33m.\u001b[0m\u001b[0mappend\u001b[0m\u001b[1;33m(\u001b[0m\u001b[0mline\u001b[0m\u001b[1;33m)\u001b[0m\u001b[1;33m\u001b[0m\u001b[1;33m\u001b[0m\u001b[0m\n\u001b[0m\u001b[0;32m     36\u001b[0m \u001b[1;33m\u001b[0m\u001b[0m\n\u001b[0;32m     37\u001b[0m     \u001b[1;32mdef\u001b[0m \u001b[0merase\u001b[0m\u001b[1;33m(\u001b[0m\u001b[0mself\u001b[0m\u001b[1;33m,\u001b[0m \u001b[0mline\u001b[0m\u001b[1;33m)\u001b[0m\u001b[1;33m:\u001b[0m\u001b[1;33m\u001b[0m\u001b[1;33m\u001b[0m\u001b[0m\n",
      "\u001b[1;31mAttributeError\u001b[0m: 'str' object has no attribute 'append'"
     ]
    }
   ],
   "source": [
    "# 사용\n",
    "line1 = '우리 모두 스스로가 원하는 리더가 됩시다.'\n",
    "line2 = '모두가 함께 앞으로 나아가면 성공은 저절로 따라옵니다.'\n",
    "line3 = '혼자서는 작은 한 방울이지만 함께 모이면 바다를 이룹니다.'\n",
    "\n",
    "# 메모 추가\n",
    "my_note = Note('diary')\n",
    "my_note.write(line1)\n",
    "my_note.write(line2)\n",
    "my_note.write(line3)\n",
    "\n",
    "# 메모장에 추가\n",
    "my_book = Notebook()\n",
    "my_book.add_note(my_note)\n",
    "\n",
    "# 페이지 번호 확인하기\n",
    "my_book.get_page_num()\n",
    "\n",
    "# 페이지 삭제하기\n",
    "# 페이지 번호 확인하기"
   ]
  },
  {
   "cell_type": "code",
   "execution_count": null,
   "id": "480be1f1-ae99-420e-95e9-fc320315f497",
   "metadata": {},
   "outputs": [],
   "source": []
  }
 ],
 "metadata": {
  "kernelspec": {
   "display_name": "Python 3 (ipykernel)",
   "language": "python",
   "name": "python3"
  },
  "language_info": {
   "codemirror_mode": {
    "name": "ipython",
    "version": 3
   },
   "file_extension": ".py",
   "mimetype": "text/x-python",
   "name": "python",
   "nbconvert_exporter": "python",
   "pygments_lexer": "ipython3",
   "version": "3.9.7"
  }
 },
 "nbformat": 4,
 "nbformat_minor": 5
}
