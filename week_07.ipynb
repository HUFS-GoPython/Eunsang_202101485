{
 "cells": [
  {
   "cell_type": "markdown",
   "id": "9d3da69d-51e5-415f-85f8-d3a4fae9f08b",
   "metadata": {},
   "source": [
    "### 함수\n",
    "1. 정의\n",
    "2. 인수\n",
    "3. 호출 방식"
   ]
  },
  {
   "cell_type": "markdown",
   "id": "5e6e29e5-3458-430d-9604-836fc665316b",
   "metadata": {},
   "source": [
    "#### 1. 정의\n",
    "- 코드의 덩어리, 코드의 묶음\n",
    "- 간편한 재사용을 위해, 한 줄로 재사용 가능하다.\n",
    "- 정의(define) 부분 + 호출(call) 부분\n",
    "    - 정의하기\n",
    "    def 함수이릅(매개변수1, 2, 3, ...):\n",
    "        수행문1 (매개변수를 이용)\n",
    "        수행문2\n",
    "        ...\n",
    "        return 반환값\n",
    "    - 호출하기\n",
    "    함수이름(인수1, 2, 3, ...)\n",
    "- 4가지 케이스 (매개변수, 반환값)\n",
    "    1. 매개변수 x, 반환값 x\n",
    "    2. 매개변수 o, 반환값 o\n",
    "    3. 매개변수 o, 반환값 x\n",
    "    4. 매개변수 x, 반환값 o"
   ]
  },
  {
   "cell_type": "code",
   "execution_count": 5,
   "id": "6492e182-581f-4c68-ba5e-e69484ae1285",
   "metadata": {
    "tags": []
   },
   "outputs": [],
   "source": [
    "# 1. 매개변수 x, 반환값 x\n",
    "def make_a_sound():\n",
    "    print('quack')\n",
    "    # return None\n",
    "make_a_sound()"
   ]
  },
  {
   "cell_type": "code",
   "execution_count": 2,
   "id": "f870a18d-287e-46a6-b903-b82cb18bab1e",
   "metadata": {},
   "outputs": [
    {
     "data": {
      "text/plain": [
       "5"
      ]
     },
     "execution_count": 2,
     "metadata": {},
     "output_type": "execute_result"
    }
   ],
   "source": [
    "# 2. 매개변수 o, 반환값 o\n",
    "# y = x + 1 # x=매개변수, y=반환값, x+1 수행문\n",
    "def ex(x):\n",
    "    #y = x + 1\n",
    "    #return y\n",
    "    return x + 1\n",
    "ex(4)"
   ]
  },
  {
   "cell_type": "code",
   "execution_count": 6,
   "id": "c7ad7355-1416-4ad8-b5c9-c63dd0dd637e",
   "metadata": {},
   "outputs": [
    {
     "name": "stdout",
     "output_type": "stream",
     "text": [
      "yay\n"
     ]
    }
   ],
   "source": [
    "# 3. 매개변수 o, 반환값 x\n",
    "def make_a_sound(sound):\n",
    "    print(sound)\n",
    "\"\"\"\n",
    "def make_a_sound(sound):\n",
    "    return sound\n",
    "\n",
    "word = make_a_sound2('word')\n",
    "\"\"\"\n",
    "\n",
    "make_a_sound('yay')"
   ]
  },
  {
   "cell_type": "code",
   "execution_count": 7,
   "id": "2674c5af-e065-4213-be77-ee3af5ed0627",
   "metadata": {},
   "outputs": [
    {
     "name": "stdout",
     "output_type": "stream",
     "text": [
      "Splendid\n"
     ]
    }
   ],
   "source": [
    "# 4. 매개변수 x, 반환값 o\n",
    "def agree():\n",
    "    return True\n",
    "\n",
    "if agree():\n",
    "    print('Splendid')\n",
    "else:\n",
    "    print('unexpected!')"
   ]
  },
  {
   "cell_type": "markdown",
   "id": "8e1c5ec9-2100-4f6c-9605-ead1b1da4e8a",
   "metadata": {},
   "source": [
    "- 이름 짓기\n",
    "    - 소문자만 사용한다.(선호하는 것임)\n",
    "    - 동작과 관련되어 있기 때문에 \"동사+명사\"의 형태 주로 씀\n",
    "    - i.e., 클래스는 명사 def split_word()\n",
    "    - 줄임말 쓰지말 것, 그러나 calc_xxx(), 명료하게 짓는다.\n",
    "        - ex. splt_word(x), calculate = clac 로 흔히 통용됨."
   ]
  },
  {
   "cell_type": "markdown",
   "id": "e57f3ccb-aa0b-477c-af55-316d68713199",
   "metadata": {},
   "source": [
    "#### 2. 인수\n",
    "- 매개변수 vs. 인수\n",
    "    - 매개변수: 함수 내(\"인터페이스\")에서 유효한 변수\n",
    "    - 인수: 실제 매개변수에 대입되는 변수\n",
    "    - 호출 시에 인수가 매개변수에 복제된다. 인수 'yay'가 -> 매개변수 'sound'에 대입\n",
    "- 위치 인수\n",
    "    - positional argument\n",
    "    - 매개변수를 값에 순서에 따라 복제한다.\n",
    "- 키워드 인수\n",
    "    - keyword argument\n",
    "    - 매개변수 키워드에 맞는 인수로 지정. => 위치 달라도 됨.\n",
    "- 디폴트 인수\n",
    "    - default argument\n",
    "    - 매개변수를 정의할 때 값을 미리 지정해놓는 것\n",
    "    - 호출 시에 값이 입력되지 않으면 디폴트값을 사용한다.\n",
    "    - 단, 디폴트값이 언디폴트값 앞에 위치할 수 없다."
   ]
  },
  {
   "cell_type": "code",
   "execution_count": 1,
   "id": "1e51def6-526f-435d-a941-3f7c3b928a51",
   "metadata": {},
   "outputs": [
    {
     "name": "stdout",
     "output_type": "stream",
     "text": [
      "yay\n"
     ]
    }
   ],
   "source": [
    "def make_a_sound(sound): # sound = 매개변수, yay= 인수. 따라서 sound는 함수 밖에서 x.\n",
    "    print(sound)\n",
    "    \n",
    "yay = 'yay'\n",
    "make_a_sound(yay)\n",
    "# sound는 출력 안됨."
   ]
  },
  {
   "cell_type": "code",
   "execution_count": 9,
   "id": "78eb1577-3d6b-40a9-8e23-c65ee3c9810c",
   "metadata": {},
   "outputs": [
    {
     "data": {
      "text/plain": [
       "'black'"
      ]
     },
     "execution_count": 9,
     "metadata": {},
     "output_type": "execute_result"
    }
   ],
   "source": [
    "def commentary(color):\n",
    "    if color == 'g':\n",
    "        return 'green'\n",
    "    else:\n",
    "        return 'black'\n",
    "    \n",
    "color = 'white'\n",
    "commentary(color)"
   ]
  },
  {
   "cell_type": "code",
   "execution_count": 10,
   "id": "3ee2d69b-9d19-4ca9-8115-34740d2af7bf",
   "metadata": {},
   "outputs": [
    {
     "name": "stdout",
     "output_type": "stream",
     "text": [
      "green\n",
      "black\n",
      "black\n"
     ]
    }
   ],
   "source": [
    "# 함수의 실질적 사용\n",
    "colors = ['g', 'b', 't']\n",
    "\n",
    "for color in colors:\n",
    "    print(commentary(color))"
   ]
  },
  {
   "cell_type": "code",
   "execution_count": 13,
   "id": "578e87d8-1a46-401d-814d-33236efb4618",
   "metadata": {},
   "outputs": [
    {
     "data": {
      "text/plain": [
       "{'wine': 'a', 'entree': 'b', 'dessert': 'c'}"
      ]
     },
     "execution_count": 13,
     "metadata": {},
     "output_type": "execute_result"
    }
   ],
   "source": [
    "# 위치 변수\n",
    "def menu(wine, entree, dessert):\n",
    "    return{'wine':wine, 'entree':entree, 'dessert':dessert}\n",
    "\n",
    "menu('a', 'b', 'c')"
   ]
  },
  {
   "cell_type": "code",
   "execution_count": 14,
   "id": "b2420084-3526-42aa-916a-444acd0bf160",
   "metadata": {},
   "outputs": [
    {
     "data": {
      "text/plain": [
       "{'wine': 'c', 'entree': 'a', 'dessert': 'b'}"
      ]
     },
     "execution_count": 14,
     "metadata": {},
     "output_type": "execute_result"
    }
   ],
   "source": [
    "# 키워드 인수\n",
    "menu(entree='a', dessert='b', wine='c')"
   ]
  },
  {
   "cell_type": "code",
   "execution_count": 15,
   "id": "b58a2c8a-ceb6-4344-978e-20befee1c230",
   "metadata": {},
   "outputs": [
    {
     "data": {
      "text/plain": [
       "{'wine': 'fioja', 'entree': 'egg', 'dessert': 'strawberry'}"
      ]
     },
     "execution_count": 15,
     "metadata": {},
     "output_type": "execute_result"
    }
   ],
   "source": [
    "# 디폴트 인수\n",
    "def menu2(wine, entree, dessert='strawberry'): # 디폴트값은 맨 뒤에서만 정의 가능.\n",
    "    return{'wine':wine, 'entree':entree, 'dessert':dessert}\n",
    "\n",
    "menu2('fioja', 'egg') # 안넣으면 디폴트 값 나옴."
   ]
  },
  {
   "cell_type": "code",
   "execution_count": 16,
   "id": "703b17bf-b0fa-4900-bafa-cdc8e097d3bf",
   "metadata": {},
   "outputs": [
    {
     "data": {
      "text/plain": [
       "{'wine': 'fioja', 'entree': 'egg', 'dessert': 'kiwi'}"
      ]
     },
     "execution_count": 16,
     "metadata": {},
     "output_type": "execute_result"
    }
   ],
   "source": [
    "menu2('fioja', 'egg', 'kiwi') # 넣으면 넣은 값이 나옴."
   ]
  },
  {
   "cell_type": "markdown",
   "id": "4f1036be-0f16-4daa-9adc-cc0899176dcc",
   "metadata": {},
   "source": [
    "#### 3. 호출방식\n",
    "- 정의 부분은 호출 시 실행된다\n",
    "- 메모리에 저장되어 있다가 호출 시에\n",
    "- 매개변수 vs. 인수\n",
    "    - 참조에 의한 호출(call by refernce)\n",
    "    - \"매개변수 = 인수\" copy되기 때문에 나타나는 문제점\n",
    "        - 리스트처럼 가변 객체일 때 주소값을 공유하므로 값이 변함."
   ]
  },
  {
   "cell_type": "code",
   "execution_count": 19,
   "id": "45dcda61-162c-40f5-9237-e8f7a0fafd85",
   "metadata": {},
   "outputs": [
    {
     "name": "stdout",
     "output_type": "stream",
     "text": [
      "2\n",
      "3\n",
      "1\n",
      "4\n"
     ]
    }
   ],
   "source": [
    "def multiply(x, y):\n",
    "    print('1')\n",
    "    return x * y\n",
    "\n",
    "print('2')\n",
    "i = 2\n",
    "j = 4\n",
    "\n",
    "print('3')\n",
    "multiply(i, j) # i=2, j=4 => x=i, y=j -> copy (shallow copy)\n",
    "\n",
    "print('4')"
   ]
  },
  {
   "cell_type": "code",
   "execution_count": 4,
   "id": "0e74b943-171a-4a6f-bf7f-ca3e2b4368ca",
   "metadata": {},
   "outputs": [
    {
     "name": "stdout",
     "output_type": "stream",
     "text": [
      "['a']\n",
      "['a', 'b']\n"
     ]
    }
   ],
   "source": [
    "# 매개변수와 인수가 주소값을 공유해서 생기는 문제\n",
    "def buggy(arg, result=[]): # 주소값을 공유해서 리셋이 안됨.\n",
    "    result.append(arg)\n",
    "    print(result)\n",
    "    \n",
    "a, b = 'a', 'b'\n",
    "buggy(a) # ['a']\n",
    "buggy(b) # ['b'] 라고 예상하지만 ['a', 'b']로 쌓인다."
   ]
  },
  {
   "cell_type": "code",
   "execution_count": 22,
   "id": "1b86178b-3d06-4113-9fb2-926e111493e0",
   "metadata": {},
   "outputs": [
    {
     "name": "stdout",
     "output_type": "stream",
     "text": [
      "['a']\n",
      "['b']\n"
     ]
    }
   ],
   "source": [
    "def buggy(arg, result=[]):\n",
    "    result = [] # 따라서 여기서 리셋 해줘야함.\n",
    "    result.append(arg)\n",
    "    print(result)\n",
    "    \n",
    "a, b = 'a', 'b'\n",
    "buggy(a) # ['a']\n",
    "buggy(b) # ['b']"
   ]
  },
  {
   "cell_type": "code",
   "execution_count": 27,
   "id": "d46dfae3-33bc-4ea5-bdbb-a5eeb852ec1f",
   "metadata": {},
   "outputs": [
    {
     "name": "stdout",
     "output_type": "stream",
     "text": [
      "['a']\n",
      "['c', 'b']\n"
     ]
    }
   ],
   "source": [
    "# 둘 다 조건식으로 포함하는 함수로 변경하기\n",
    "def nonbuggy(arg, result=None): # 디폴트\n",
    "    # 리스트가 없으면 빈 리스트 생성하고, 있으면 그거 써라\n",
    "    if result is None: # == (value), is (id)\n",
    "        result = []\n",
    "    \n",
    "    result.append(arg)\n",
    "    print(result)\n",
    "     \n",
    "# \"없는 값, 아무 것도 없다\" None\n",
    "empty = ['c']\n",
    "nonbuggy(a)\n",
    "nonbuggy(b, empty) # empty가 리스트이므로 if문 안타고 그대로 쌓인다."
   ]
  },
  {
   "cell_type": "code",
   "execution_count": 24,
   "id": "d97d979a-76ae-44a7-8116-951080f6f251",
   "metadata": {},
   "outputs": [
    {
     "name": "stdout",
     "output_type": "stream",
     "text": [
      "None\n"
     ]
    }
   ],
   "source": [
    "# None: True도 False도 아님.\n",
    "thing = None\n",
    "\n",
    "if thing:\n",
    "    print('True')\n",
    "elif thing == False:\n",
    "    print('False')\n",
    "else:\n",
    "    print('None')"
   ]
  },
  {
   "cell_type": "code",
   "execution_count": 29,
   "id": "86938fd1-0330-4412-a079-2a6fdcd3a97f",
   "metadata": {},
   "outputs": [
    {
     "name": "stdout",
     "output_type": "stream",
     "text": [
      "london\n",
      "london\n"
     ]
    }
   ],
   "source": [
    "def fx():\n",
    "    global city # 전역 변수. 함수 밖에서도 사용하겠다.\n",
    "    city = 'london' # 지역 변수. 함수 내에서만.\n",
    "    print(city)\n",
    "\n",
    "city = 'paris' \n",
    "fx()\n",
    "print(city)"
   ]
  },
  {
   "cell_type": "code",
   "execution_count": 30,
   "id": "ecbcfada-a176-4110-a46b-55fc6686b771",
   "metadata": {},
   "outputs": [
    {
     "data": {
      "text/plain": [
       "'seoul'"
      ]
     },
     "execution_count": 30,
     "metadata": {},
     "output_type": "execute_result"
    }
   ],
   "source": [
    "city = 'seoul'\n",
    "city"
   ]
  },
  {
   "cell_type": "markdown",
   "id": "b59b5ee3-1035-47d6-b016-db838cacc48a",
   "metadata": {},
   "source": [
    "#### doc string\n",
    "- 함수 설명\n",
    "- 매개변수 타입, 의미, 함수 기능\n",
    "- \"\"\" 독스트링 \"\"\""
   ]
  },
  {
   "cell_type": "code",
   "execution_count": 6,
   "id": "4fb7b538-c42a-4192-9846-38310fb0d3e8",
   "metadata": {},
   "outputs": [],
   "source": [
    "def ffd(arg, result=None):\n",
    "    \"\"\"\n",
    "    arg: str, 꽃 이름\n",
    "    result: list, xxx\n",
    "    꽃 이름을 리스트에 추가한다,\n",
    "    \"\"\"\n",
    "    if result is None: \n",
    "        result = []\n",
    "    \n",
    "    result.append(arg)\n",
    "    print(result)"
   ]
  },
  {
   "cell_type": "code",
   "execution_count": 7,
   "id": "e13d9ffb-39e5-466b-bd30-eae600d257ac",
   "metadata": {},
   "outputs": [
    {
     "name": "stdout",
     "output_type": "stream",
     "text": [
      "Help on function ffd in module __main__:\n",
      "\n",
      "ffd(arg, result=None)\n",
      "    arg: str, 꽃 이름\n",
      "    result: list, xxx\n",
      "    꽃 이름을 리스트에 추가한다,\n",
      "\n"
     ]
    }
   ],
   "source": [
    "# 독스트링 확인\n",
    "help(ffd)"
   ]
  },
  {
   "cell_type": "code",
   "execution_count": 8,
   "id": "e5117084-f750-44b1-ab80-4f891bb7df61",
   "metadata": {},
   "outputs": [
    {
     "data": {
      "text/plain": [
       "'\\n    arg: str, 꽃 이름\\n    result: list, xxx\\n    꽃 이름을 리스트에 추가한다,\\n    '"
      ]
     },
     "execution_count": 8,
     "metadata": {},
     "output_type": "execute_result"
    }
   ],
   "source": [
    "ffd.__doc__"
   ]
  },
  {
   "cell_type": "code",
   "execution_count": 11,
   "id": "96b0ec19-78c6-4809-8209-2c3454f0925a",
   "metadata": {},
   "outputs": [
    {
     "name": "stdin",
     "output_type": "stream",
     "text": [
      "나이를 입력해 주세요. (숫자만 입력해 주세요. ex 20세 -> 20) 21\n"
     ]
    },
    {
     "name": "stdout",
     "output_type": "stream",
     "text": [
      "2002\n"
     ]
    }
   ],
   "source": [
    "# 나이 -> 연도\n",
    "# 함수: 입력값=나이, 반환=연도\n",
    "# 나이 = input 받기\n",
    "\n",
    "def age_to_year(age):\n",
    "    this_year = 2022 \n",
    "    return this_year - age + 1\n",
    "\n",
    "age = int(input('나이를 입력해 주세요. (숫자만 입력해 주세요. ex 20세 -> 20)'))\n",
    "print(age_to_year(age)) "
   ]
  },
  {
   "cell_type": "markdown",
   "id": "0a5a78b2-b69c-45a5-8636-ea55b876744e",
   "metadata": {},
   "source": [
    "### 브라운 정제하기\n",
    "1. 문장 분절\n",
    "2. 단어 분절\n",
    "    3. 문장부호 제거\n",
    "    4. 하이픈, 's\n",
    "5. 위의 것을 함수로 만들어라."
   ]
  },
  {
   "cell_type": "code",
   "execution_count": 12,
   "id": "4a923878-274e-4af9-a1ec-ff306dbb6c60",
   "metadata": {},
   "outputs": [
    {
     "name": "stderr",
     "output_type": "stream",
     "text": [
      "[nltk_data] Downloading package brown to\n",
      "[nltk_data]     C:\\Users\\eunsang\\AppData\\Roaming\\nltk_data...\n",
      "[nltk_data]   Package brown is already up-to-date!\n"
     ]
    }
   ],
   "source": [
    "import string\n",
    "import nltk\n",
    "\n",
    "nltk.download('brown')\n",
    "brown = nltk.corpus.brown\n",
    "romance = brown.raw(categories='romance')[:5000]"
   ]
  },
  {
   "cell_type": "markdown",
   "id": "c282c23a-0a41-4c80-b76b-a6855d91724c",
   "metadata": {},
   "source": [
    "#### 문장 분절"
   ]
  },
  {
   "cell_type": "code",
   "execution_count": 7,
   "id": "0ba95080-c632-4c8b-8b07-675dea26e639",
   "metadata": {},
   "outputs": [
    {
     "data": {
      "text/plain": [
       "'They/ppss neither/cc liked/vbd nor/cc disliked/vbd the/at Old/jj-tl Man/nn-tl .'"
      ]
     },
     "execution_count": 7,
     "metadata": {},
     "output_type": "execute_result"
    }
   ],
   "source": [
    "# ./.\n",
    "# /. => ! 처리 가능 -> ! 문장에서 제외.\n",
    "\n",
    "[sent.replace('!','')]\n",
    "\n",
    "sentences = [sent.strip() for sent in romance.split('/.')]\n",
    "sentences = [s for s in sentences if s != '!']\n",
    "\n",
    "# !\n",
    "sentences[0]"
   ]
  },
  {
   "cell_type": "code",
   "execution_count": 6,
   "id": "8d6bbf52-a496-4ad2-afd8-ca2e69a025a7",
   "metadata": {},
   "outputs": [
    {
     "data": {
      "text/plain": [
       "['``/`` Eh/uh ,/, Torino/np !',\n",
       " 'She/pps gave/vbd herself/ppl fancy/jj airs/nns !',\n",
       " \"``/`` Henh/uh ''/'' !\",\n",
       " \"``/`` Puttana/fw-nn ''/'' !\"]"
      ]
     },
     "execution_count": 6,
     "metadata": {},
     "output_type": "execute_result"
    }
   ],
   "source": [
    "[s for s in sentences if '!' in s if s != '!']"
   ]
  },
  {
   "cell_type": "markdown",
   "id": "879ca071-3438-4084-9d30-f1d45ceee26d",
   "metadata": {},
   "source": [
    "#### 단어 분절\n",
    "- sentences -> POS 제거, 단어 분절"
   ]
  },
  {
   "cell_type": "code",
   "execution_count": 13,
   "id": "688ab205-d765-42d5-8f53-9cf59a3bee34",
   "metadata": {},
   "outputs": [],
   "source": [
    "SLASH = '/'"
   ]
  },
  {
   "cell_type": "code",
   "execution_count": 8,
   "id": "c2d744e5-8f1f-46f4-b83d-0538705ad39f",
   "metadata": {},
   "outputs": [
    {
     "data": {
      "text/plain": [
       "['They', 'neither', 'liked', 'nor', 'disliked', 'the', 'Old', 'Man', '.']"
      ]
     },
     "execution_count": 8,
     "metadata": {},
     "output_type": "execute_result"
    }
   ],
   "source": [
    "example = sentences[0]\n",
    "[word[:word.find(SLASH)] if word[:word.find(SLASH)] else word for word in example.split()]"
   ]
  },
  {
   "cell_type": "code",
   "execution_count": null,
   "id": "a2978840-c449-43d6-8588-695638c9642e",
   "metadata": {},
   "outputs": [],
   "source": [
    "# 함수로: 문장이 들어왔을 때 POS 제거하고, punct 제거하고, 토큰 리스트로 변환한다.\n",
    "def tokenize_word(text):\n",
    "    token_list = text\n",
    "    return token_list\n",
    "\n",
    "tokenize_word(example)"
   ]
  },
  {
   "cell_type": "code",
   "execution_count": 14,
   "id": "6f96f482-a9ca-4f32-8672-5852c26176e2",
   "metadata": {},
   "outputs": [],
   "source": [
    "# 전체 문장에 적용하기\n",
    "sentences_tokens = [[word[:word.find(SLASH)] \\\n",
    "  if word[:word.find(SLASH)] else word \\\n",
    "  for word in sent.split()]for sent in sentences]"
   ]
  },
  {
   "cell_type": "markdown",
   "id": "ef472b56-2d25-4c13-962c-60bcdc6cd3b6",
   "metadata": {},
   "source": [
    "#### punctuations"
   ]
  },
  {
   "cell_type": "code",
   "execution_count": 23,
   "id": "b877cf1f-25d2-4a53-9b9f-2fb549fe3746",
   "metadata": {},
   "outputs": [],
   "source": [
    "punct = list(string.punctuation)"
   ]
  },
  {
   "cell_type": "code",
   "execution_count": 25,
   "id": "e6a33a03-0e16-42ee-80e3-2855a54b525c",
   "metadata": {
    "tags": []
   },
   "outputs": [],
   "source": [
    "clean_sent_tokens = [[word for word in sent if word not in punct] for sent in sentences_tokens]"
   ]
  },
  {
   "cell_type": "code",
   "execution_count": 28,
   "id": "0e7981c7-6282-4558-bf6b-b675039f9713",
   "metadata": {},
   "outputs": [],
   "source": [
    "my_punct = set([word for sent in sentences_tokens for word in sent if not word[0].isalnum() and word not in punct])\n",
    "punct.extend(list(my_punct))"
   ]
  },
  {
   "cell_type": "code",
   "execution_count": 29,
   "id": "d40c2796-f2d9-450d-ab06-df58d3dbeb85",
   "metadata": {},
   "outputs": [
    {
     "data": {
      "text/plain": [
       "('she', \"'s\")"
      ]
     },
     "execution_count": 29,
     "metadata": {},
     "output_type": "execute_result"
    }
   ],
   "source": [
    "# 하이픈\n",
    "'fur-piece'.split('-') # extend\n",
    "\n",
    "# apostrophe 's\n",
    "word = 'she\\'s'\n",
    "index = word.find('\\'')\n",
    "word[:index], word[index:]\n",
    "\n",
    "# word'word\n",
    "    # 's, 'nt, 'd -> 조건1\n",
    "    # 나머지는 그냥 붙인다."
   ]
  },
  {
   "cell_type": "code",
   "execution_count": null,
   "id": "f6ed4ff7-3f85-4212-9e53-47dd3e7a4ff1",
   "metadata": {},
   "outputs": [],
   "source": [
    "for word:\n",
    "    list_sent.extend()"
   ]
  }
 ],
 "metadata": {
  "kernelspec": {
   "display_name": "Python 3 (ipykernel)",
   "language": "python",
   "name": "python3"
  },
  "language_info": {
   "codemirror_mode": {
    "name": "ipython",
    "version": 3
   },
   "file_extension": ".py",
   "mimetype": "text/x-python",
   "name": "python",
   "nbconvert_exporter": "python",
   "pygments_lexer": "ipython3",
   "version": "3.9.7"
  }
 },
 "nbformat": 4,
 "nbformat_minor": 5
}
