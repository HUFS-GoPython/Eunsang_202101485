{
 "cells": [
  {
   "cell_type": "markdown",
   "id": "2120865b-302a-4a2e-8d8e-39394f78b289",
   "metadata": {
    "tags": []
   },
   "source": [
    "## Ch08 딕셔너리와 셋"
   ]
  },
  {
   "cell_type": "markdown",
   "id": "954922dc-fa64-42f1-b82f-21b6a0333d1b",
   "metadata": {},
   "source": [
    "## Dictionary\n",
    "- 영어 사전\n",
    "    - 단어: 뜻\n",
    "    - 키: 값\n",
    "    - 순서 없다. => 인덱싱 불가능\n",
    "    - \"키로 값을 찾는다.\"\n",
    "        - 키는 중복되지 않는 고유한 값\n",
    "    - 가변: 수정, 삭제, 추가 가능\n",
    "    - 타입: dict\n",
    "    - 형변환: 'dict()'\n",
    "    - 중괄호 사용 {}, 콤마로 구분함\n",
    "    - 값에 다양한 자료구조가 올 수 있음.\n",
    "        - a: 1, a: [1,2,3,4]"
   ]
  },
  {
   "cell_type": "code",
   "execution_count": 1,
   "id": "60245c33-b19f-4307-800b-82b23177dcaf",
   "metadata": {
    "tags": []
   },
   "outputs": [
    {
     "data": {
      "text/plain": [
       "1"
      ]
     },
     "execution_count": 1,
     "metadata": {},
     "output_type": "execute_result"
    }
   ],
   "source": [
    "a = [1, 2, 3]\n",
    "a[0] # 이러한 인덱싱이 딕셔너리는 불가능하다."
   ]
  },
  {
   "cell_type": "code",
   "execution_count": 34,
   "id": "905d748a-90c7-4435-8dc5-9b9ac0c043fa",
   "metadata": {},
   "outputs": [
    {
     "data": {
      "text/plain": [
       "set"
      ]
     },
     "execution_count": 34,
     "metadata": {},
     "output_type": "execute_result"
    }
   ],
   "source": [
    "empty = dict()\n",
    "empty = {} # dict type\n",
    "empty = set() # set type\n",
    "type(empty)"
   ]
  },
  {
   "cell_type": "code",
   "execution_count": 4,
   "id": "bbf8a2bb-a565-4bb9-80d1-f19b172edc1d",
   "metadata": {},
   "outputs": [
    {
     "data": {
      "text/plain": [
       "{1: 'apple', 2: 'banana', 3: 'kiwi'}"
      ]
     },
     "execution_count": 4,
     "metadata": {},
     "output_type": "execute_result"
    }
   ],
   "source": [
    "a = {1, 2, 3} # set\n",
    "a = {1: 'apple', 2: 'banana', 3: 'kiwi'} # dict\n",
    "a"
   ]
  },
  {
   "cell_type": "code",
   "execution_count": 5,
   "id": "faf0d854-7fed-45d1-a5cc-48f345947246",
   "metadata": {},
   "outputs": [
    {
     "data": {
      "text/plain": [
       "{'apple': 'a', 'banana': 'b', 'kiwi': 'c'}"
      ]
     },
     "execution_count": 5,
     "metadata": {},
     "output_type": "execute_result"
    }
   ],
   "source": [
    "b = {'': '', '': '', '':''}\n",
    "b = dict(apple='a', banana='b', kiwi='c')\n",
    "b"
   ]
  },
  {
   "cell_type": "code",
   "execution_count": 1,
   "id": "481c8781-241f-46df-8012-0612209c728b",
   "metadata": {},
   "outputs": [
    {
     "data": {
      "text/plain": [
       "{202201: ['james', '경제학과'],\n",
       " 202202: ['louis', '컴공과'],\n",
       " 202203: ['laura', '스페인어과']}"
      ]
     },
     "execution_count": 1,
     "metadata": {},
     "output_type": "execute_result"
    }
   ],
   "source": [
    "# 출석부로 딕셔너리 만들기\n",
    "# 이름과 학과는 중복가능하므로 학번을 키로 잡아야한다.\n",
    "\"\"\"\n",
    "이름, 학번 학과\n",
    "james 202201 경제학과\n",
    "laura 202203 스페인어과\n",
    "louis 202202 컴공과\n",
    "\"\"\"\n",
    "{202201: ['james', '경제학과'], 202202: ['louis', '컴공과'], 202203: ['laura', '스페인어과']}"
   ]
  },
  {
   "cell_type": "markdown",
   "id": "63170e16-64eb-4dda-b6e7-93881162a975",
   "metadata": {},
   "source": [
    "### 형변환"
   ]
  },
  {
   "cell_type": "code",
   "execution_count": 12,
   "id": "73ec52cc-724e-4d22-b54c-627c3a6b5315",
   "metadata": {},
   "outputs": [
    {
     "data": {
      "text/plain": [
       "{1: 2, 2: 3, 3: 4}"
      ]
     },
     "execution_count": 12,
     "metadata": {},
     "output_type": "execute_result"
    }
   ],
   "source": [
    "ex1 = [[1, 2], [2, 3], [3, 4]] # 리스트 가능. 페어가 있기 때문.\n",
    "dict(ex1) "
   ]
  },
  {
   "cell_type": "code",
   "execution_count": 16,
   "id": "c8f6e165-ebd4-42a4-b9a4-34b0765d3b1e",
   "metadata": {},
   "outputs": [
    {
     "data": {
      "text/plain": [
       "{1: 3, 2: 3}"
      ]
     },
     "execution_count": 16,
     "metadata": {},
     "output_type": "execute_result"
    }
   ],
   "source": [
    "ex2 = [(1, 2), (2, 3), (1, 3)] # 튜플 가능. but 키는 중복되지 않으므로 마지막의 1의 값이 나오게 된다. 1: 2 삭제됨.\n",
    "dict(ex2)"
   ]
  },
  {
   "cell_type": "code",
   "execution_count": 17,
   "id": "94a4bf0d-7ba9-44b5-a7a3-ddd577ea70d7",
   "metadata": {},
   "outputs": [
    {
     "data": {
      "text/plain": [
       "{'a': 'b', 'b': 'c', 'c': 'd'}"
      ]
     },
     "execution_count": 17,
     "metadata": {},
     "output_type": "execute_result"
    }
   ],
   "source": [
    "ex3 = ['ab', 'bc', 'cd'] # 문자열의 경우 두자리의 경우 가능.\n",
    "dict(ex3)"
   ]
  },
  {
   "cell_type": "markdown",
   "id": "cfd831dd-12d0-4304-888e-7478da7bb072",
   "metadata": {},
   "source": [
    "### 항목 조회 & 변경"
   ]
  },
  {
   "cell_type": "code",
   "execution_count": 3,
   "id": "7644fdef-2f16-43e0-9841-d539f95655a8",
   "metadata": {},
   "outputs": [],
   "source": [
    "pythons = { # 성: 이름\n",
    "    'Chapman': 'Graham',\n",
    "    'Cleese': 'John',\n",
    "    'Idle': 'Eric',\n",
    "    'Jones': 'Terry',\n",
    "    'Palin': 'Michael'\n",
    "}"
   ]
  },
  {
   "cell_type": "code",
   "execution_count": 19,
   "id": "36b7c001-27af-466c-a547-d0ccaa4d6da9",
   "metadata": {
    "tags": []
   },
   "outputs": [
    {
     "data": {
      "text/plain": [
       "'Eric'"
      ]
     },
     "execution_count": 19,
     "metadata": {},
     "output_type": "execute_result"
    }
   ],
   "source": [
    "pythons['Idle'] # 인덱싱이 불가능하기 때문에 'pythons[2]'같은 방식으로 찾기 불가능."
   ]
  },
  {
   "cell_type": "code",
   "execution_count": 20,
   "id": "ac3589fa-07ed-4d21-a52d-58bf14565b6d",
   "metadata": {},
   "outputs": [],
   "source": [
    "pythons['Hwa'] = 'Chloe' # 추가"
   ]
  },
  {
   "cell_type": "code",
   "execution_count": 22,
   "id": "03395ddc-f94d-4d26-9825-167f071ac853",
   "metadata": {},
   "outputs": [
    {
     "data": {
      "text/plain": [
       "{'Chapman': 'Graham',\n",
       " 'Cleese': 'John',\n",
       " 'Idle': 'James',\n",
       " 'Jones': 'Terry',\n",
       " 'Palin': 'Michael',\n",
       " 'Hwa': 'Chloe'}"
      ]
     },
     "execution_count": 22,
     "metadata": {},
     "output_type": "execute_result"
    }
   ],
   "source": [
    "pythons['Idle'] = 'James' # 변경\n",
    "pythons"
   ]
  },
  {
   "cell_type": "code",
   "execution_count": 23,
   "id": "8f284fd3-7a6c-4037-8bf8-e222f9282cad",
   "metadata": {},
   "outputs": [
    {
     "data": {
      "text/plain": [
       "True"
      ]
     },
     "execution_count": 23,
     "metadata": {},
     "output_type": "execute_result"
    }
   ],
   "source": [
    "# 예외 없이\n",
    "# 1. in\n",
    "'Hwa' in pythons"
   ]
  },
  {
   "cell_type": "code",
   "execution_count": 24,
   "id": "3f8514a6-d832-4ad9-a292-2eb2cbf02e86",
   "metadata": {},
   "outputs": [
    {
     "data": {
      "text/plain": [
       "0"
      ]
     },
     "execution_count": 24,
     "metadata": {},
     "output_type": "execute_result"
    }
   ],
   "source": [
    "# 2. get()\n",
    "pythons.get('Lee', 0) # 없는 키는 None 변환. (,0)와 같이 원하는 값 반환하게 할 수 있다."
   ]
  },
  {
   "cell_type": "markdown",
   "id": "66b3162d-cfd9-40eb-8349-c2c257abe74f",
   "metadata": {},
   "source": [
    "### 전체 조회\n",
    "- keys()\n",
    "- values()\n",
    "- items()"
   ]
  },
  {
   "cell_type": "code",
   "execution_count": 4,
   "id": "84e801e8-770e-45b1-a02b-dc66c15e1c71",
   "metadata": {},
   "outputs": [
    {
     "data": {
      "text/plain": [
       "dict_keys(['Chapman', 'Cleese', 'Idle', 'Jones', 'Palin'])"
      ]
     },
     "execution_count": 4,
     "metadata": {},
     "output_type": "execute_result"
    }
   ],
   "source": [
    "pythons.keys() # 키만 조회. 타입은 deict_keys타입임."
   ]
  },
  {
   "cell_type": "code",
   "execution_count": 5,
   "id": "6e104b12-6b23-49c2-9098-38db40661726",
   "metadata": {},
   "outputs": [
    {
     "data": {
      "text/plain": [
       "dict_keys"
      ]
     },
     "execution_count": 5,
     "metadata": {},
     "output_type": "execute_result"
    }
   ],
   "source": [
    "type(pythons.keys())"
   ]
  },
  {
   "cell_type": "code",
   "execution_count": 26,
   "id": "ca1046e7-23a8-46ce-b18a-37ab2509cf93",
   "metadata": {},
   "outputs": [
    {
     "data": {
      "text/plain": [
       "dict_values(['Graham', 'John', 'James', 'Terry', 'Michael', 'Chloe'])"
      ]
     },
     "execution_count": 26,
     "metadata": {},
     "output_type": "execute_result"
    }
   ],
   "source": [
    "pythons.values() # 값만 조회."
   ]
  },
  {
   "cell_type": "code",
   "execution_count": 27,
   "id": "3b330956-eae6-47f5-9089-ec1d193837c7",
   "metadata": {},
   "outputs": [
    {
     "data": {
      "text/plain": [
       "dict_items([('Chapman', 'Graham'), ('Cleese', 'John'), ('Idle', 'James'), ('Jones', 'Terry'), ('Palin', 'Michael'), ('Hwa', 'Chloe')])"
      ]
     },
     "execution_count": 27,
     "metadata": {},
     "output_type": "execute_result"
    }
   ],
   "source": [
    "pythons.items() # (키, 값) 튜플 형태로 => 순회 많이 씀"
   ]
  },
  {
   "cell_type": "code",
   "execution_count": 28,
   "id": "071d68bb-7681-4fac-b858-ef4d88ceff9f",
   "metadata": {},
   "outputs": [
    {
     "data": {
      "text/plain": [
       "['Chapman', 'Cleese', 'Idle', 'Jones', 'Palin', 'Hwa']"
      ]
     },
     "execution_count": 28,
     "metadata": {},
     "output_type": "execute_result"
    }
   ],
   "source": [
    "list(pythons.keys()) # 타입은 deict_keys타입이므로 사용하기 위해서는 리스트로 만들어줘서 사용해야함."
   ]
  },
  {
   "cell_type": "code",
   "execution_count": 29,
   "id": "1f214b96-3a00-44d3-86db-fb9327662a57",
   "metadata": {},
   "outputs": [
    {
     "name": "stdout",
     "output_type": "stream",
     "text": [
      "Chapman = Graham\n",
      "Cleese = John\n",
      "Idle = James\n",
      "Jones = Terry\n",
      "Palin = Michael\n",
      "Hwa = Chloe\n"
     ]
    }
   ],
   "source": [
    "for k, v in pythons.items():\n",
    "    print(f'{k} = {v}')"
   ]
  },
  {
   "cell_type": "code",
   "execution_count": 30,
   "id": "3820014d-b344-4257-b66b-3788580d021c",
   "metadata": {},
   "outputs": [
    {
     "data": {
      "text/plain": [
       "[('Chapman', 'Graham'),\n",
       " ('Cleese', 'John'),\n",
       " ('Idle', 'James'),\n",
       " ('Jones', 'Terry'),\n",
       " ('Palin', 'Michael'),\n",
       " ('Hwa', 'Chloe')]"
      ]
     },
     "execution_count": 30,
     "metadata": {},
     "output_type": "execute_result"
    }
   ],
   "source": [
    "[(k, v) for k, v in pythons.items()]"
   ]
  },
  {
   "cell_type": "code",
   "execution_count": 31,
   "id": "61a83a00-efb8-4522-bc40-a9f8136634a2",
   "metadata": {},
   "outputs": [
    {
     "data": {
      "text/plain": [
       "['Chapman', 'Cleese', 'Idle', 'Jones', 'Palin', 'Hwa']"
      ]
     },
     "execution_count": 31,
     "metadata": {},
     "output_type": "execute_result"
    }
   ],
   "source": [
    "[k[0] for k in pythons.items()] # itmes는 튜플의 형태로 들어있기 때문에 각각의 원소 인덱스로 접근 가능. 0=key, 1=value."
   ]
  },
  {
   "cell_type": "code",
   "execution_count": 32,
   "id": "18470cbc-5c3f-404b-a62c-5842c93993e9",
   "metadata": {},
   "outputs": [
    {
     "data": {
      "text/plain": [
       "['Chapman', 'Cleese', 'Idle', 'Jones', 'Palin', 'Hwa']"
      ]
     },
     "execution_count": 32,
     "metadata": {},
     "output_type": "execute_result"
    }
   ],
   "source": [
    "[k for k in pythons] # keys"
   ]
  },
  {
   "cell_type": "markdown",
   "id": "cc97e0ef-3b27-4bad-8d9a-fdcdc6649859",
   "metadata": {},
   "source": [
    "### ex01\n",
    "animal: num_leg 딕셔너리 만드시오."
   ]
  },
  {
   "cell_type": "code",
   "execution_count": 10,
   "id": "24eec1c4-e3ae-4861-b081-365115821f40",
   "metadata": {},
   "outputs": [
    {
     "data": {
      "text/plain": [
       "{'cat': 4, 'snake': 0, 'monkey': 2, 'ant': 4, 'spider': 8}"
      ]
     },
     "execution_count": 10,
     "metadata": {},
     "output_type": "execute_result"
    }
   ],
   "source": [
    "animal = 'cat snake monkey ant spider'.split()\n",
    "legs = 4, 0, 2, 4, 8\n",
    "\n",
    "# 1.\n",
    "num_leg = {}\n",
    "for i in range(len(animal)):\n",
    "    num_leg[animal[i]] = legs[i]\n",
    "    \n",
    "# 2.\n",
    "num_leg = {}\n",
    "for x, y in zip(animal, legs):\n",
    "    num_leg[x] = y\n",
    "num_leg"
   ]
  },
  {
   "cell_type": "markdown",
   "id": "c48b4508-3c0c-4bc9-8a21-2f14b15cc877",
   "metadata": {},
   "source": [
    "### ex02\n",
    "Q. pythons 에서 성: 이름, 성 첫 글자만, 이름은 글자 개수로 이루어진 튜플(성, 이름) 리스트로 변환하기\n",
    "- dict comprehension 쓰지 말기"
   ]
  },
  {
   "cell_type": "code",
   "execution_count": 12,
   "id": "efceadce-508f-450c-9fa0-896c997bcfea",
   "metadata": {},
   "outputs": [
    {
     "data": {
      "text/plain": [
       "{'Chapman': 'Graham',\n",
       " 'Cleese': 'John',\n",
       " 'Idle': 'Eric',\n",
       " 'Jones': 'Terry',\n",
       " 'Palin': 'Michael'}"
      ]
     },
     "execution_count": 12,
     "metadata": {},
     "output_type": "execute_result"
    }
   ],
   "source": [
    "pythons\n",
    "# 순회한다\n",
    "# 각 요소 변화"
   ]
  },
  {
   "cell_type": "code",
   "execution_count": 11,
   "id": "bfc3fad4-a1b0-45a1-ae64-23e141124ff6",
   "metadata": {},
   "outputs": [
    {
     "data": {
      "text/plain": [
       "[('C', 6), ('C', 4), ('I', 4), ('J', 5), ('P', 7)]"
      ]
     },
     "execution_count": 11,
     "metadata": {},
     "output_type": "execute_result"
    }
   ],
   "source": [
    "# [(), ()] => items()\n",
    "[(k[0], len(v)) for k, v in pythons.items()]\n",
    "[(k[0][0], len(k[1])) for k in pythons.items()]"
   ]
  },
  {
   "cell_type": "markdown",
   "id": "5223fa91-75da-4697-953c-7c4882abec62",
   "metadata": {},
   "source": [
    "### 값 수정, 삭제, 복제 비교"
   ]
  },
  {
   "cell_type": "code",
   "execution_count": 54,
   "id": "52d92c7d-5b5d-487d-be2c-584ec725389c",
   "metadata": {},
   "outputs": [
    {
     "data": {
      "text/plain": [
       "{'Chapman': 'Graham',\n",
       " 'Cleese': 'John',\n",
       " 'Idle': 'James',\n",
       " 'Jones': 'Terry',\n",
       " 'Palin': 'Michael',\n",
       " 'Hwa': 'Chloe'}"
      ]
     },
     "execution_count": 54,
     "metadata": {},
     "output_type": "execute_result"
    }
   ],
   "source": [
    "pythons"
   ]
  },
  {
   "cell_type": "code",
   "execution_count": 56,
   "id": "a50601bf-3a97-4a4a-9efd-871076dee68e",
   "metadata": {},
   "outputs": [
    {
     "data": {
      "text/plain": [
       "{'Marx': 'Groucho', 'Howard': 'Moe'}"
      ]
     },
     "execution_count": 56,
     "metadata": {},
     "output_type": "execute_result"
    }
   ],
   "source": [
    "others = {\n",
    "    'Marx': 'Groucho',\n",
    "    'Howard': 'Moe'\n",
    "}\n",
    "\n",
    "others"
   ]
  },
  {
   "cell_type": "code",
   "execution_count": 57,
   "id": "f68c7d22-95f3-44fe-9824-878cda80dd03",
   "metadata": {},
   "outputs": [],
   "source": [
    "# 수정 1\n",
    "# .update()\n",
    "# dict + dict. 마지막에 추가됨.\n",
    "pythons.update(others) # 리스트에선 extend."
   ]
  },
  {
   "cell_type": "code",
   "execution_count": 58,
   "id": "1e0a0adf-68bd-41db-ac2e-8fda529f67a2",
   "metadata": {},
   "outputs": [
    {
     "data": {
      "text/plain": [
       "{'Chapman': 'Graham',\n",
       " 'Cleese': 'John',\n",
       " 'Idle': 'James',\n",
       " 'Jones': 'Terry',\n",
       " 'Palin': 'Michael',\n",
       " 'Hwa': 'Chloe',\n",
       " 'Marx': 'Groucho',\n",
       " 'Howard': 'Moe'}"
      ]
     },
     "execution_count": 58,
     "metadata": {},
     "output_type": "execute_result"
    }
   ],
   "source": [
    "pythons"
   ]
  },
  {
   "cell_type": "code",
   "execution_count": 59,
   "id": "1fd76f47-c23c-4d43-aa02-6b72acc118fe",
   "metadata": {},
   "outputs": [
    {
     "data": {
      "text/plain": [
       "{'Marx': 'Groucho',\n",
       " 'Howard': 'Moe',\n",
       " 'Chapman': 'Graham',\n",
       " 'Cleese': 'John',\n",
       " 'Idle': 'James',\n",
       " 'Jones': 'Terry',\n",
       " 'Palin': 'Michael',\n",
       " 'Hwa': 'Chloe'}"
      ]
     },
     "execution_count": 59,
     "metadata": {},
     "output_type": "execute_result"
    }
   ],
   "source": [
    "# 수정 2\n",
    "# py 3에서만 가능.\n",
    "{** others, ** pythons}"
   ]
  },
  {
   "cell_type": "code",
   "execution_count": 60,
   "id": "ce39a035-fa7b-4716-a1b9-0e1a74edadd3",
   "metadata": {},
   "outputs": [],
   "source": [
    "# 삭제 1\n",
    "del pythons['Hwa']"
   ]
  },
  {
   "cell_type": "code",
   "execution_count": 61,
   "id": "ef25cf9a-4208-456e-930c-8bf6ea7d71f9",
   "metadata": {},
   "outputs": [
    {
     "data": {
      "text/plain": [
       "{'Chapman': 'Graham',\n",
       " 'Cleese': 'John',\n",
       " 'Idle': 'James',\n",
       " 'Jones': 'Terry',\n",
       " 'Palin': 'Michael',\n",
       " 'Marx': 'Groucho',\n",
       " 'Howard': 'Moe'}"
      ]
     },
     "execution_count": 61,
     "metadata": {},
     "output_type": "execute_result"
    }
   ],
   "source": [
    "pythons"
   ]
  },
  {
   "cell_type": "code",
   "execution_count": 62,
   "id": "18a4050c-037a-4fc7-8648-4d8e60bebce2",
   "metadata": {},
   "outputs": [
    {
     "ename": "KeyError",
     "evalue": "'Lee'",
     "output_type": "error",
     "traceback": [
      "\u001b[1;31m---------------------------------------------------------------------------\u001b[0m",
      "\u001b[1;31mKeyError\u001b[0m                                  Traceback (most recent call last)",
      "\u001b[1;32m~\\AppData\\Local\\Temp/ipykernel_8332/2522327117.py\u001b[0m in \u001b[0;36m<module>\u001b[1;34m\u001b[0m\n\u001b[1;32m----> 1\u001b[1;33m \u001b[1;32mdel\u001b[0m \u001b[0mpythons\u001b[0m\u001b[1;33m[\u001b[0m\u001b[1;34m'Lee'\u001b[0m\u001b[1;33m]\u001b[0m\u001b[1;33m\u001b[0m\u001b[1;33m\u001b[0m\u001b[0m\n\u001b[0m",
      "\u001b[1;31mKeyError\u001b[0m: 'Lee'"
     ]
    }
   ],
   "source": [
    "del pythons['Lee'] # 없는 값을 삭제하면 에러"
   ]
  },
  {
   "cell_type": "code",
   "execution_count": 63,
   "id": "f2460541-8093-4c36-9b55-e669717a7d22",
   "metadata": {},
   "outputs": [
    {
     "data": {
      "text/plain": [
       "'Groucho'"
      ]
     },
     "execution_count": 63,
     "metadata": {},
     "output_type": "execute_result"
    }
   ],
   "source": [
    "# 삭제 2\n",
    "pythons.pop('Marx')"
   ]
  },
  {
   "cell_type": "code",
   "execution_count": 64,
   "id": "785431b2-dfe6-4cd6-b74f-895ea11a85b3",
   "metadata": {},
   "outputs": [
    {
     "data": {
      "text/plain": [
       "0"
      ]
     },
     "execution_count": 64,
     "metadata": {},
     "output_type": "execute_result"
    }
   ],
   "source": [
    "pythons.pop('Lee', 0) # 없으면 에러 발생, 예외 시 출력 값을 지정할 수 있다."
   ]
  },
  {
   "cell_type": "code",
   "execution_count": 65,
   "id": "3ff87ad3-74ae-4461-9a31-3f4bf2f222ef",
   "metadata": {},
   "outputs": [],
   "source": [
    "# 삭제 3\n",
    "# 전체 삭제\n",
    "pythons.clear()\n",
    "pythons = {} # 빈 딕셔너리 설정."
   ]
  },
  {
   "cell_type": "code",
   "execution_count": 66,
   "id": "132d9007-4adf-432e-814c-110a5840ae5c",
   "metadata": {},
   "outputs": [
    {
     "data": {
      "text/plain": [
       "{}"
      ]
     },
     "execution_count": 66,
     "metadata": {},
     "output_type": "execute_result"
    }
   ],
   "source": [
    "pythons"
   ]
  },
  {
   "cell_type": "markdown",
   "id": "cebd7ffa-171b-48c0-bb82-ba67e04a4948",
   "metadata": {},
   "source": [
    "### 복제\n",
    "- 할당: b = a # 같은 주소를 참조.\n",
    "- 얕은 복사: c = a.copy()\n",
    "- 깊은 복사: deepcopy()"
   ]
  },
  {
   "cell_type": "code",
   "execution_count": 67,
   "id": "3b6b3aa8-1de0-468a-b4f3-08346efc9bda",
   "metadata": {},
   "outputs": [
    {
     "data": {
      "text/plain": [
       "({1: 45, 2: 2, 3: 3}, {1: 45, 2: 2, 3: 3})"
      ]
     },
     "execution_count": 67,
     "metadata": {},
     "output_type": "execute_result"
    }
   ],
   "source": [
    "# 할당\n",
    "a = {1:1, 2:2, 3:3}\n",
    "b = a # 할당. 같은 주소를 참조 -> a가 변하면 b도 변함.\n",
    "a[1] = 45\n",
    "a, b"
   ]
  },
  {
   "cell_type": "code",
   "execution_count": 68,
   "id": "319d692d-9c28-4147-a5de-97465a749acc",
   "metadata": {},
   "outputs": [
    {
     "data": {
      "text/plain": [
       "({1: 45, 2: 22, 3: 3}, {1: 45, 2: 2, 3: 3})"
      ]
     },
     "execution_count": 68,
     "metadata": {},
     "output_type": "execute_result"
    }
   ],
   "source": [
    "# 얕은 복사\n",
    "c = a.copy() # a와 다른 객체가 됨.\n",
    "a[2] = 22\n",
    "a, c"
   ]
  },
  {
   "cell_type": "code",
   "execution_count": 69,
   "id": "050bfba7-8580-49be-b747-d3ad7f6499b1",
   "metadata": {},
   "outputs": [
    {
     "data": {
      "text/plain": [
       "({1: [100, 2, 3], 2: [2, 3, 4]}, {1: [100, 2, 3], 2: [2, 3, 4]})"
      ]
     },
     "execution_count": 69,
     "metadata": {},
     "output_type": "execute_result"
    }
   ],
   "source": [
    "a = {1: [1, 2, 3], 2: [2, 3, 4]} # (리스트는 가변 객체) 가변 객체일 때 얕은 복사를 하면 똑같이 참조. 따라서 깊은 복사 해야함.\n",
    "d = a.copy()\n",
    "a[1][0] = 100\n",
    "a, d"
   ]
  },
  {
   "cell_type": "code",
   "execution_count": 71,
   "id": "cd2046df-eee8-473b-8edc-9ab279876d4a",
   "metadata": {},
   "outputs": [
    {
     "data": {
      "text/plain": [
       "({1: [100, 999, 3], 2: [2, 3, 4]}, {1: [100, 2, 3], 2: [2, 3, 4]})"
      ]
     },
     "execution_count": 71,
     "metadata": {},
     "output_type": "execute_result"
    }
   ],
   "source": [
    "# 깊은 복사\n",
    "import copy\n",
    "e = copy.deepcopy(a)\n",
    "a[1][1] = 999\n",
    "a, e"
   ]
  },
  {
   "cell_type": "markdown",
   "id": "3321ff33-df61-4dc7-b78a-3a1e1c892db3",
   "metadata": {},
   "source": [
    "#### 비교\n",
    "- 같다, 다르다만 된다. (크다, 작다 안됨.)"
   ]
  },
  {
   "cell_type": "code",
   "execution_count": 72,
   "id": "3009f1e4-f3c0-4216-b69c-376d7b153106",
   "metadata": {},
   "outputs": [
    {
     "data": {
      "text/plain": [
       "True"
      ]
     },
     "execution_count": 72,
     "metadata": {},
     "output_type": "execute_result"
    }
   ],
   "source": [
    "a != b"
   ]
  },
  {
   "cell_type": "markdown",
   "id": "26fecbc3-3575-4c13-917b-069ac7be634b",
   "metadata": {},
   "source": [
    "### ex\n",
    "1. 두 리스트로 하나의 딕셔너리 생성\n",
    "2. 명왕성=pluto 추가하기\n",
    "3. '성'으로 끝나지 않는 키 삭제하기\n",
    "    del dict1['태양'](x)\n",
    "4. sorted이용해서 값 정렬하기\n",
    "    1. key\n",
    "    2. value"
   ]
  },
  {
   "cell_type": "code",
   "execution_count": 14,
   "id": "20b166ec-81f9-4013-be3a-ac51a73360aa",
   "metadata": {},
   "outputs": [
    {
     "data": {
      "text/plain": [
       "{'수성': 'mercury',\n",
       " '금성': 'venus',\n",
       " '화성': 'mars',\n",
       " '목성': 'jupiter',\n",
       " '토성': 'saturn',\n",
       " '천왕성': 'uranus',\n",
       " '해왕성': 'neptune',\n",
       " '명왕성': 'pluto'}"
      ]
     },
     "execution_count": 14,
     "metadata": {},
     "output_type": "execute_result"
    }
   ],
   "source": [
    "solar_kor = '태양 수성 금성 지구 화성 목성 토성 천왕성 해왕성'.split()\n",
    "solar_eng = 'sun mercury venus earth mars jupiter saturn uranus neptune'.split()\n",
    "solar = {}\n",
    "for i in range(len(solar_kor)):\n",
    "    solar[solar_kor[i]] = solar_eng[i]\n",
    "solar['명왕성'] = 'pluto'\n",
    "for k in list(solar.keys()):\n",
    "    if not k[-1] == '성':\n",
    "        solar.pop(k)\n",
    "        \n",
    "solar"
   ]
  },
  {
   "cell_type": "code",
   "execution_count": 15,
   "id": "7c483042-7e39-42f7-aaa8-080fd6bbd9c4",
   "metadata": {},
   "outputs": [
    {
     "data": {
      "text/plain": [
       "{'수성': 'mercury',\n",
       " '금성': 'venus',\n",
       " '화성': 'mars',\n",
       " '목성': 'jupiter',\n",
       " '토성': 'saturn',\n",
       " '천왕성': 'uranus',\n",
       " '해왕성': 'neptune',\n",
       " '명왕성': 'pluto'}"
      ]
     },
     "execution_count": 15,
     "metadata": {},
     "output_type": "execute_result"
    }
   ],
   "source": [
    "system = {}\n",
    "for k, v in zip(solar_kor, solar_eng):\n",
    "    system[k] = v\n",
    "system['명왕성'] = 'pluto'\n",
    "dict([(k, system[k]) for k in system if k.endswith('성')])\n",
    "dict([(k, v) for k, v in system.items() if k.endswith('성')]) # 하지만 리스트를 하고 딕셔너리하는 것 비효율적 -> 딕셔너리 컴프리헨션"
   ]
  },
  {
   "cell_type": "code",
   "execution_count": 16,
   "id": "f49af511-a5c8-4d84-9cf2-f2e2c541e2ce",
   "metadata": {},
   "outputs": [
    {
     "data": {
      "text/plain": [
       "{'수성': 'mercury',\n",
       " '금성': 'venus',\n",
       " '화성': 'mars',\n",
       " '목성': 'jupiter',\n",
       " '토성': 'saturn',\n",
       " '천왕성': 'uranus',\n",
       " '해왕성': 'neptune',\n",
       " '명왕성': 'pluto'}"
      ]
     },
     "execution_count": 16,
     "metadata": {},
     "output_type": "execute_result"
    }
   ],
   "source": [
    "{k: v for k, v in system.items() if k.endswith('성')} # 딕셔너리 컴프리헨션"
   ]
  },
  {
   "cell_type": "markdown",
   "id": "00e66bfc-b380-4f82-8e4c-b0d93f17afe9",
   "metadata": {},
   "source": [
    "### 컴프리헨션"
   ]
  },
  {
   "cell_type": "code",
   "execution_count": 101,
   "id": "3ba18f42-c27d-4181-94e4-14fe8a176d18",
   "metadata": {},
   "outputs": [
    {
     "data": {
      "text/plain": [
       "{'a': 1, 'p': 2, 'l': 1, 'e': 1}"
      ]
     },
     "execution_count": 101,
     "metadata": {},
     "output_type": "execute_result"
    }
   ],
   "source": [
    "letter = 'apple'\n",
    "# a:1, p:2, ...\n",
    "{ch: letter.count(ch) for ch in letter}"
   ]
  },
  {
   "cell_type": "code",
   "execution_count": 105,
   "id": "91f6825a-32db-430f-b0ca-b73bd4d32103",
   "metadata": {},
   "outputs": [
    {
     "data": {
      "text/plain": [
       "{'a': 2, 'i': 1, 'o': 4, 'e': 1}"
      ]
     },
     "execution_count": 105,
     "metadata": {},
     "output_type": "execute_result"
    }
   ],
   "source": [
    "# 단어의 모음세기\n",
    "vowels = 'aeiou'\n",
    "word = 'onomatopoeia'\n",
    "\n",
    "\n",
    "# vowels 순회\n",
    "{k: word.count(k) for k in set(word) if k in vowels}"
   ]
  },
  {
   "cell_type": "code",
   "execution_count": 104,
   "id": "b2c9a5e7-b84e-475a-abc7-c13bd7fee37f",
   "metadata": {},
   "outputs": [
    {
     "data": {
      "text/plain": [
       "{'a': 2, 'e': 1, 'i': 1, 'o': 4}"
      ]
     },
     "execution_count": 104,
     "metadata": {},
     "output_type": "execute_result"
    }
   ],
   "source": [
    "# word 순회\n",
    "{v: word.count(v) for v in vowels if v in word}"
   ]
  },
  {
   "cell_type": "markdown",
   "id": "f26b2432-69e6-493b-8c55-5c0941824547",
   "metadata": {},
   "source": [
    "#### sorting"
   ]
  },
  {
   "cell_type": "code",
   "execution_count": 17,
   "id": "bafcfa33-d7fc-4103-89fa-eaebcb004939",
   "metadata": {},
   "outputs": [
    {
     "data": {
      "text/plain": [
       "['금성', '명왕성', '목성', '수성', '지구', '천왕성', '태양', '토성', '해왕성', '화성']"
      ]
     },
     "execution_count": 17,
     "metadata": {},
     "output_type": "execute_result"
    }
   ],
   "source": [
    "sorted(system) # 키만 출력"
   ]
  },
  {
   "cell_type": "code",
   "execution_count": 19,
   "id": "bb763f0b-6820-473b-8fea-c6819ad202e3",
   "metadata": {},
   "outputs": [
    {
     "data": {
      "text/plain": [
       "[('지구', 'earth'),\n",
       " ('목성', 'jupiter'),\n",
       " ('화성', 'mars'),\n",
       " ('수성', 'mercury'),\n",
       " ('해왕성', 'neptune'),\n",
       " ('명왕성', 'pluto'),\n",
       " ('토성', 'saturn'),\n",
       " ('태양', 'sun'),\n",
       " ('천왕성', 'uranus'),\n",
       " ('금성', 'venus')]"
      ]
     },
     "execution_count": 19,
     "metadata": {},
     "output_type": "execute_result"
    }
   ],
   "source": [
    "def fx(x):\n",
    "    return x[1] # 0이면 키를 기준으로 정렬. 1이면 값을 기준으로 정렬\n",
    "sorted(system.items(), key=fx)"
   ]
  },
  {
   "cell_type": "code",
   "execution_count": 111,
   "id": "c6d2e7ba-d462-4bbf-8844-79ed7c583973",
   "metadata": {},
   "outputs": [
    {
     "data": {
      "text/plain": [
       "[('지구', 'earth'),\n",
       " ('목성', 'jupiter'),\n",
       " ('화성', 'mars'),\n",
       " ('수성', 'mercury'),\n",
       " ('해왕성', 'neptune'),\n",
       " ('명왕성', 'pluto'),\n",
       " ('토성', 'saturn'),\n",
       " ('태양', 'sun'),\n",
       " ('천왕성', 'uranus'),\n",
       " ('금성', 'venus')]"
      ]
     },
     "execution_count": 111,
     "metadata": {},
     "output_type": "execute_result"
    }
   ],
   "source": [
    "sorted(system.items(), key=lambda x:x[1])\n",
    "# lamda: 익명함수. def에서 이름 붙이고 return 다 빼버린 형태. "
   ]
  },
  {
   "cell_type": "markdown",
   "id": "da6ef966-0610-4163-92cf-909428385794",
   "metadata": {},
   "source": [
    "### Set\n",
    "- \"중복이 없다.\"\n",
    "- 집합과 같은 개념. => 교집합, 합집합, 차집합, ...\n",
    "- bag, 인덱싱도 없다."
   ]
  },
  {
   "cell_type": "code",
   "execution_count": 1,
   "id": "94517da8-e473-434d-81fe-5bbb53794391",
   "metadata": {},
   "outputs": [
    {
     "data": {
      "text/plain": [
       "set()"
      ]
     },
     "execution_count": 1,
     "metadata": {},
     "output_type": "execute_result"
    }
   ],
   "source": [
    "empty = set() # {} x. 이건 딕셔너리임.\n",
    "empty"
   ]
  },
  {
   "cell_type": "code",
   "execution_count": 2,
   "id": "b7511f30-1c98-426e-9df7-b0d2b2da8a3e",
   "metadata": {},
   "outputs": [
    {
     "data": {
      "text/plain": [
       "{1, 2, 3}"
      ]
     },
     "execution_count": 2,
     "metadata": {},
     "output_type": "execute_result"
    }
   ],
   "source": [
    "a = {1, 2, 3} # 값이 있으면 그냥 {}안에 넣으면 됨.\n",
    "a"
   ]
  },
  {
   "cell_type": "code",
   "execution_count": 20,
   "id": "44a8c3b3-fb1c-4df5-8832-2fd1f73f462c",
   "metadata": {},
   "outputs": [
    {
     "ename": "TypeError",
     "evalue": "set expected at most 1 argument, got 3",
     "output_type": "error",
     "traceback": [
      "\u001b[1;31m---------------------------------------------------------------------------\u001b[0m",
      "\u001b[1;31mTypeError\u001b[0m                                 Traceback (most recent call last)",
      "\u001b[1;32m~\\AppData\\Local\\Temp/ipykernel_4888/4112150760.py\u001b[0m in \u001b[0;36m<module>\u001b[1;34m\u001b[0m\n\u001b[1;32m----> 1\u001b[1;33m \u001b[0ma\u001b[0m \u001b[1;33m=\u001b[0m \u001b[0mset\u001b[0m\u001b[1;33m(\u001b[0m\u001b[1;36m1\u001b[0m\u001b[1;33m,\u001b[0m \u001b[1;36m2\u001b[0m\u001b[1;33m,\u001b[0m \u001b[1;36m3\u001b[0m\u001b[1;33m)\u001b[0m\u001b[1;33m\u001b[0m\u001b[1;33m\u001b[0m\u001b[0m\n\u001b[0m",
      "\u001b[1;31mTypeError\u001b[0m: set expected at most 1 argument, got 3"
     ]
    }
   ],
   "source": [
    "a = set(1, 2, 3) # 이 안에는 시퀀스이기 때문에 자료형(튜플 or 리스트)으로 묶어줘야한다."
   ]
  },
  {
   "cell_type": "code",
   "execution_count": 3,
   "id": "b8659297-359b-4995-ab8e-51658c3f4fe9",
   "metadata": {},
   "outputs": [
    {
     "data": {
      "text/plain": [
       "{1, 2, 3}"
      ]
     },
     "execution_count": 3,
     "metadata": {},
     "output_type": "execute_result"
    }
   ],
   "source": [
    "a = set((1, 2, 3)) # 선언, 형 변환\n",
    "a"
   ]
  },
  {
   "cell_type": "code",
   "execution_count": 4,
   "id": "674235ae-54c8-48aa-9e72-f773e694cc2d",
   "metadata": {},
   "outputs": [
    {
     "data": {
      "text/plain": [
       "{1, 2, 3, 4}"
      ]
     },
     "execution_count": 4,
     "metadata": {},
     "output_type": "execute_result"
    }
   ],
   "source": [
    "# 추가\n",
    "a.add(4)\n",
    "a"
   ]
  },
  {
   "cell_type": "code",
   "execution_count": 5,
   "id": "a088febc-9dbb-4a74-a823-f977d5b8dfa1",
   "metadata": {},
   "outputs": [
    {
     "data": {
      "text/plain": [
       "{1, 2, 3}"
      ]
     },
     "execution_count": 5,
     "metadata": {},
     "output_type": "execute_result"
    }
   ],
   "source": [
    "# 삭제\n",
    "a.remove(4)\n",
    "a"
   ]
  },
  {
   "cell_type": "code",
   "execution_count": 16,
   "id": "de487606-ff2a-46b7-9320-22a55529a5bb",
   "metadata": {},
   "outputs": [
    {
     "name": "stdout",
     "output_type": "stream",
     "text": [
      "martini\n",
      "black russian\n",
      "white russian\n",
      "screwdriver\n",
      "black russian\n",
      "screwdriver\n"
     ]
    }
   ],
   "source": [
    "drinks = {\n",
    "    'martini': {'vodka', 'vermouth'},\n",
    "    'black russian':{'vodka', 'kahlua'},\n",
    "    'white russian': {'cream', 'kahlua', 'vodka'},\n",
    "    'manhattan': {'rye', 'vermouth', 'bitters'},\n",
    "    'screwdriver': {'orange juice', 'vodka'}\n",
    "}\n",
    "\n",
    "# vodka가 포함된 술 출력하기\n",
    "for k, v in drinks.items():\n",
    "    if 'vodka' in v:\n",
    "        print(k)\n",
    "        \n",
    "# vodka는 있지만 cream, vermouth 없는 술 출력하기\n",
    "for k, v in drinks.items():\n",
    "    if 'vodka' in v and not('cream' in v and 'vermouth' in v):\n",
    "        print(k)"
   ]
  },
  {
   "cell_type": "code",
   "execution_count": 20,
   "id": "f790a35e-d113-4dbe-932a-63e67a4ef28b",
   "metadata": {},
   "outputs": [
    {
     "name": "stdout",
     "output_type": "stream",
     "text": [
      "black russian\n",
      "screwdriver\n"
     ]
    }
   ],
   "source": [
    "# set 활용해서 바꾸기\n",
    "for k, v in drinks.items():\n",
    "    if 'vodka' in v and not v & {'cream', 'vermouth'}:\n",
    "        print(k)"
   ]
  },
  {
   "cell_type": "code",
   "execution_count": null,
   "id": "b18d1a17-1115-47d7-b19f-01d2bd153b8f",
   "metadata": {},
   "outputs": [],
   "source": [
    "a = {1, 2, 3}\n",
    "b = {2, 3, 4}\n",
    "# 교집합| intersection\n",
    "a.intersection(b)\n",
    "a & b\n",
    "\n",
    "# 합집합| union\n",
    "a.union(b)\n",
    "a | b\n",
    "\n",
    "# 차집합| difference\n",
    "a.difference(b)\n",
    "a - b != b - a # 순서 있음."
   ]
  },
  {
   "cell_type": "code",
   "execution_count": 21,
   "id": "956f5fea-6e96-40bb-9ce1-e5c717ab525d",
   "metadata": {},
   "outputs": [
    {
     "data": {
      "text/plain": [
       "{0, 1, 2, 3, 4}"
      ]
     },
     "execution_count": 21,
     "metadata": {},
     "output_type": "execute_result"
    }
   ],
   "source": [
    "# issubset\n",
    "{s for s in range(5)} # 셋 컴프리헨션 있음."
   ]
  },
  {
   "cell_type": "code",
   "execution_count": 22,
   "id": "1502d7f1-a42f-4ef0-bd1f-e72e069c2bc9",
   "metadata": {},
   "outputs": [
    {
     "data": {
      "text/plain": [
       "frozenset({1, 2})"
      ]
     },
     "execution_count": 22,
     "metadata": {},
     "output_type": "execute_result"
    }
   ],
   "source": [
    "# frozenset: 가변객체를 \n",
    "set([1, 2])\n",
    "frozenset([1,2])"
   ]
  }
 ],
 "metadata": {
  "kernelspec": {
   "display_name": "Python 3 (ipykernel)",
   "language": "python",
   "name": "python3"
  },
  "language_info": {
   "codemirror_mode": {
    "name": "ipython",
    "version": 3
   },
   "file_extension": ".py",
   "mimetype": "text/x-python",
   "name": "python",
   "nbconvert_exporter": "python",
   "pygments_lexer": "ipython3",
   "version": "3.9.7"
  }
 },
 "nbformat": 4,
 "nbformat_minor": 5
}
