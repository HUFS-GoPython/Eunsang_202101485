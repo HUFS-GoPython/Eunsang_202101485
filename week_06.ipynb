{
 "cells": [
  {
   "cell_type": "markdown",
   "id": "fcc4f7d7-b63b-46eb-83b5-bb00f9c45754",
   "metadata": {},
   "source": [
    "### NLTK Inautural"
   ]
  },
  {
   "cell_type": "code",
   "execution_count": 1,
   "id": "a1de3aca-c845-4149-ac40-98f87c953e19",
   "metadata": {},
   "outputs": [
    {
     "name": "stderr",
     "output_type": "stream",
     "text": [
      "[nltk_data] Downloading package brown to\n",
      "[nltk_data]     C:\\Users\\eunsang\\AppData\\Roaming\\nltk_data...\n",
      "[nltk_data]   Package brown is already up-to-date!\n",
      "[nltk_data] Downloading package inaugural to\n",
      "[nltk_data]     C:\\Users\\eunsang\\AppData\\Roaming\\nltk_data...\n",
      "[nltk_data]   Package inaugural is already up-to-date!\n"
     ]
    },
    {
     "data": {
      "text/plain": [
       "True"
      ]
     },
     "execution_count": 1,
     "metadata": {},
     "output_type": "execute_result"
    }
   ],
   "source": [
    "#lookup error의 경우 download() 전체를 하면 됨.\n",
    "import nltk\n",
    "nltk.download(['brown', 'inaugural'])"
   ]
  },
  {
   "cell_type": "code",
   "execution_count": 2,
   "id": "7c7f0f73-fb1e-4e08-8da2-0aa4708a1fb5",
   "metadata": {},
   "outputs": [],
   "source": [
    "brown = nltk.corpus.brown"
   ]
  },
  {
   "cell_type": "code",
   "execution_count": 3,
   "id": "af3c06b5-ca28-428d-a217-fe4e78a405b8",
   "metadata": {},
   "outputs": [
    {
     "name": "stdout",
     "output_type": "stream",
     "text": [
      "                  can could  will would   may might \n",
      "      adventure    46   151    50   191     5    58 \n",
      " belles_lettres   246   213   236   392   207   113 \n",
      "      editorial   121    56   233   180    74    39 \n",
      "        fiction    37   166    52   287     8    44 \n",
      "     government   117    38   244   120   153    13 \n",
      "        hobbies   268    58   264    78   131    22 \n",
      "          humor    16    30    13    56     8     8 \n",
      "        learned   365   159   340   319   324   128 \n",
      "           lore   170   141   175   186   165    49 \n",
      "        mystery    42   141    20   186    13    57 \n",
      "           news    93    86   389   244    66    38 \n",
      "       religion    82    59    71    68    78    12 \n",
      "        reviews    45    40    58    47    45    26 \n",
      "        romance    74   193    43   244    11    51 \n",
      "science_fiction    16    49    16    79     4    12 \n"
     ]
    }
   ],
   "source": [
    "# cfd\n",
    "cfd = nltk.ConditionalFreqDist(\n",
    "    (genre, word)\n",
    "    for genre in brown.categories()\n",
    "    for word in brown.words(categories=genre)\n",
    ")\n",
    "\n",
    "modals = ['can', 'could', 'will', 'would', 'may', 'might']\n",
    "cfd.tabulate(conditions=brown.categories(), samples=modals)"
   ]
  },
  {
   "cell_type": "code",
   "execution_count": 4,
   "id": "0f6a8a16-b8f7-4080-9e5e-ba5a3262868d",
   "metadata": {},
   "outputs": [
    {
     "name": "stdout",
     "output_type": "stream",
     "text": [
      "                  can could   may might  will would \n",
      "      adventure    48   154     7    59    51   194 \n",
      " belles_lettres   249   216   221   113   246   397 \n",
      "      editorial   124    57    79    39   235   185 \n",
      "        fiction    39   168    10    44    56   291 \n",
      "     government   119    38   179    13   244   120 \n",
      "        hobbies   276    59   143    22   269    83 \n",
      "          humor    17    33     8     8    13    56 \n",
      "        learned   367   159   336   128   340   321 \n",
      "           lore   170   142   170    50   178   188 \n",
      "        mystery    45   145    15    57    25   189 \n",
      "           news    94    87    93    38   389   246 \n",
      "       religion    84    59    79    12    72    69 \n",
      "        reviews    45    40    47    26    61    48 \n",
      "        romance    79   195    11    51    49   247 \n",
      "science_fiction    16    49     4    12    17    80 \n"
     ]
    }
   ],
   "source": [
    "# modals의 빈도수가 포함된 cfd (word => madal_verb)\n",
    "cfd1 = nltk.ConditionalFreqDist(\n",
    "    (genre, modal)\n",
    "    for genre in brown.categories()\n",
    "    for modal in ['can', 'could', 'will', 'would', 'may', 'might']\n",
    "    \n",
    "    for word in brown.words(categories=genre)\n",
    "        if word.lower() == modal\n",
    ")\n",
    "cfd1.tabulate()"
   ]
  },
  {
   "cell_type": "markdown",
   "id": "aa483e00-c08e-4515-b15c-9f42d2d1a7ef",
   "metadata": {},
   "source": [
    "### Inaugural\n",
    "- 연설문 코퍼스"
   ]
  },
  {
   "cell_type": "code",
   "execution_count": 24,
   "id": "adecf273-91a5-4297-8c8e-0fe2b2a00bf5",
   "metadata": {},
   "outputs": [],
   "source": [
    "inaugural = nltk.corpus.inaugural"
   ]
  },
  {
   "cell_type": "code",
   "execution_count": 25,
   "id": "74f24ede-c57e-4e6e-b733-885ab2c6f1c0",
   "metadata": {
    "collapsed": true,
    "jupyter": {
     "outputs_hidden": true
    },
    "tags": []
   },
   "outputs": [
    {
     "data": {
      "text/plain": [
       "['1789-Washington.txt',\n",
       " '1793-Washington.txt',\n",
       " '1797-Adams.txt',\n",
       " '1801-Jefferson.txt',\n",
       " '1805-Jefferson.txt',\n",
       " '1809-Madison.txt',\n",
       " '1813-Madison.txt',\n",
       " '1817-Monroe.txt',\n",
       " '1821-Monroe.txt',\n",
       " '1825-Adams.txt',\n",
       " '1829-Jackson.txt',\n",
       " '1833-Jackson.txt',\n",
       " '1837-VanBuren.txt',\n",
       " '1841-Harrison.txt',\n",
       " '1845-Polk.txt',\n",
       " '1849-Taylor.txt',\n",
       " '1853-Pierce.txt',\n",
       " '1857-Buchanan.txt',\n",
       " '1861-Lincoln.txt',\n",
       " '1865-Lincoln.txt',\n",
       " '1869-Grant.txt',\n",
       " '1873-Grant.txt',\n",
       " '1877-Hayes.txt',\n",
       " '1881-Garfield.txt',\n",
       " '1885-Cleveland.txt',\n",
       " '1889-Harrison.txt',\n",
       " '1893-Cleveland.txt',\n",
       " '1897-McKinley.txt',\n",
       " '1901-McKinley.txt',\n",
       " '1905-Roosevelt.txt',\n",
       " '1909-Taft.txt',\n",
       " '1913-Wilson.txt',\n",
       " '1917-Wilson.txt',\n",
       " '1921-Harding.txt',\n",
       " '1925-Coolidge.txt',\n",
       " '1929-Hoover.txt',\n",
       " '1933-Roosevelt.txt',\n",
       " '1937-Roosevelt.txt',\n",
       " '1941-Roosevelt.txt',\n",
       " '1945-Roosevelt.txt',\n",
       " '1949-Truman.txt',\n",
       " '1953-Eisenhower.txt',\n",
       " '1957-Eisenhower.txt',\n",
       " '1961-Kennedy.txt',\n",
       " '1965-Johnson.txt',\n",
       " '1969-Nixon.txt',\n",
       " '1973-Nixon.txt',\n",
       " '1977-Carter.txt',\n",
       " '1981-Reagan.txt',\n",
       " '1985-Reagan.txt',\n",
       " '1989-Bush.txt',\n",
       " '1993-Clinton.txt',\n",
       " '1997-Clinton.txt',\n",
       " '2001-Bush.txt',\n",
       " '2005-Bush.txt',\n",
       " '2009-Obama.txt',\n",
       " '2013-Obama.txt',\n",
       " '2017-Trump.txt',\n",
       " '2021-Biden.txt']"
      ]
     },
     "execution_count": 25,
     "metadata": {},
     "output_type": "execute_result"
    }
   ],
   "source": [
    "inaugural.fileids() # 연도-이름.txt | '2021-Biden.txt'"
   ]
  },
  {
   "cell_type": "code",
   "execution_count": 28,
   "id": "2d76b9dd-a455-4123-80fe-c3fa33aef42a",
   "metadata": {
    "tags": []
   },
   "outputs": [
    {
     "name": "stdout",
     "output_type": "stream",
     "text": [
      "        1789-Washington 1793-Washington      1797-Adams  1801-Jefferson  1805-Jefferson    1809-Madison    1813-Madison     1817-Monroe     1821-Monroe      1825-Adams    1829-Jackson    1833-Jackson   1837-VanBuren   1841-Harrison       1845-Polk     1849-Taylor     1853-Pierce   1857-Buchanan    1861-Lincoln    1865-Lincoln      1869-Grant      1873-Grant      1877-Hayes   1881-Garfield  1885-Cleveland   1889-Harrison  1893-Cleveland   1897-McKinley   1901-McKinley  1905-Roosevelt       1909-Taft     1917-Wilson    1921-Harding   1925-Coolidge     1929-Hoover  1933-Roosevelt  1937-Roosevelt  1941-Roosevelt  1945-Roosevelt     1949-Truman 1953-Eisenhower 1957-Eisenhower    1961-Kennedy    1965-Johnson      1969-Nixon      1973-Nixon     1977-Carter     1981-Reagan     1985-Reagan       1989-Bush    1993-Clinton    1997-Clinton       2001-Bush       2005-Bush      2009-Obama      2013-Obama      2017-Trump      2021-Biden \n",
      "america               2               1               8               0               1               0               1               1               2               0               0               2               2               7               0               2               2               3               2               1               0               0               1               2               4               6               9               9               7               0              12               4              24              11              12               2               5              12               2               4               6               7               7              10              10              23               5              16              21              11              33              31              20              30              15              19              35              40 \n",
      "citizen               5               1               6               7              10               1               4              14              15               3               2               3               7              38              11               2               4               7               7               0               5               3               9               9              13              12              10              10               2               1               6               3               6               5              12               1               2               1               1               1               7               0               5               4               1               1               0               3               6               3               2              10              11               7               2               8               4               1 \n"
     ]
    }
   ],
   "source": [
    "# ['america', 'citizen'] 빈도수를 cfd로 만드시오. == citizens, citizen's, ...\n",
    "cfd2 = nltk.ConditionalFreqDist(\n",
    "    (target_word, fileid[:-4])\n",
    "    for fileid in inaugural.fileids()\n",
    "    for target_word in ['america', 'citizen']\n",
    "    \n",
    "    for word in inaugural.words(fileids=fileid)\n",
    "        # if target_word in word.lower()\n",
    "        if word.lower().startswith(target_word)\n",
    ")\n",
    "cfd2.tabulate()"
   ]
  },
  {
   "cell_type": "code",
   "execution_count": 2,
   "id": "d33cb891-eb81-47e2-98c9-4d343a4975db",
   "metadata": {},
   "outputs": [],
   "source": [
    "import matplotlib.pyplot as plt"
   ]
  },
  {
   "cell_type": "code",
   "execution_count": 29,
   "id": "de2cdfa1-2346-4d1a-a29d-171d4242ba2f",
   "metadata": {},
   "outputs": [
    {
     "data": {
      "image/png": "[encoded data removed]",
      "text/plain": [
       "<Figure size 864x360 with 1 Axes>"
      ]
     },
     "metadata": {
      "needs_background": "light"
     },
     "output_type": "display_data"
    },
    {
     "data": {
      "text/plain": [
       "<AxesSubplot:xlabel='Samples', ylabel='Counts'>"
      ]
     },
     "execution_count": 29,
     "metadata": {},
     "output_type": "execute_result"
    }
   ],
   "source": [
    "#!pip install matplotlib\n",
    "plt.figure(figsize=(12, 5))\n",
    "cfd2.plot()"
   ]
  },
  {
   "cell_type": "markdown",
   "id": "a9fe3a29-8108-4141-bd95-eae7cef0dadd",
   "metadata": {},
   "source": [
    "## Ch07 튜플과 리스트\n",
    "### Tuple vs. List\n",
    "- 불변 객체 vs. 가변 객체"
   ]
  },
  {
   "cell_type": "code",
   "execution_count": 2,
   "id": "49fab4bf-94c0-4ff1-b174-500625a5b0e9",
   "metadata": {},
   "outputs": [
    {
     "data": {
      "text/plain": [
       "((), [])"
      ]
     },
     "execution_count": 2,
     "metadata": {},
     "output_type": "execute_result"
    }
   ],
   "source": [
    "#1. 생성\n",
    "emptyT = ()\n",
    "emptyT = tuple()\n",
    "\n",
    "emptyL = []\n",
    "emptyL = list()\n",
    "\n",
    "emptyT, emptyL"
   ]
  },
  {
   "cell_type": "code",
   "execution_count": 3,
   "id": "97559194-4d9b-4803-a281-91d42a663e7b",
   "metadata": {},
   "outputs": [],
   "source": [
    "#1-1 요소 여러 개일 때\n",
    "alphabetT = ('a', 'b')\n",
    "alphabetT = 'a', 'b'\n",
    "alphabetT\n",
    "\n",
    "alphabetL = ['a', 'b']"
   ]
  },
  {
   "cell_type": "code",
   "execution_count": 4,
   "id": "720cc477-b2e5-4e66-a10a-5d6b544ac21e",
   "metadata": {},
   "outputs": [
    {
     "data": {
      "text/plain": [
       "str"
      ]
     },
     "execution_count": 4,
     "metadata": {},
     "output_type": "execute_result"
    }
   ],
   "source": [
    "#1-2 요소 1개일 때\n",
    "alphaT = ('a') # str로 인식! 주의해야함!\n",
    "type(alphaT)"
   ]
  },
  {
   "cell_type": "code",
   "execution_count": 5,
   "id": "ef42988b-2b6f-42cc-b2fc-4c2c971fe120",
   "metadata": {},
   "outputs": [
    {
     "data": {
      "text/plain": [
       "tuple"
      ]
     },
     "execution_count": 5,
     "metadata": {},
     "output_type": "execute_result"
    }
   ],
   "source": [
    "alphaT = ('b',) # 이렇게 해야 튜플로 인식!\n",
    "type(alphaT)"
   ]
  },
  {
   "cell_type": "markdown",
   "id": "a99b1fa1-cda7-4544-a2ca-5d204fabe631",
   "metadata": {},
   "source": [
    "- packing: 한 변수에 여러 데이터를 할당하는 것.\n",
    "    - list, tuple 자체. a = [1, 2, 3, 4]\n",
    "- unpacking: 한 변수에 여러 데이터가 들어 있을 때 여러 변수에 나누는 것\n",
    "    - a='k', b='i', c='m'"
   ]
  },
  {
   "cell_type": "code",
   "execution_count": 7,
   "id": "86a16ae9-4a86-42e3-b353-8ad585c50e5a",
   "metadata": {},
   "outputs": [
    {
     "data": {
      "text/plain": [
       "('k', 'i', 'm')"
      ]
     },
     "execution_count": 7,
     "metadata": {},
     "output_type": "execute_result"
    }
   ],
   "source": [
    "a, b, c = 'kim' # unpacking. a=kim, b=kim, c=kim 아님! a=k b=i c=m !\n",
    "a, b, c"
   ]
  },
  {
   "cell_type": "code",
   "execution_count": 8,
   "id": "ca479a99-ddeb-441c-964e-b1af9d307aa4",
   "metadata": {},
   "outputs": [
    {
     "data": {
      "text/plain": [
       "('sky', 'avcd')"
      ]
     },
     "execution_count": 8,
     "metadata": {},
     "output_type": "execute_result"
    }
   ],
   "source": [
    "# 값 교환하기 - 튜플이 편함.\n",
    "pwd = 'avcd'\n",
    "userId = 'sky'\n",
    "'''\n",
    "temp1 = userId\n",
    "temp2 = pwd\n",
    "pwd = temp1\n",
    "userId = temp2\n",
    "'''\n",
    "pwd, userId = userId, pwd\n",
    "pwd, userId"
   ]
  },
  {
   "cell_type": "code",
   "execution_count": 6,
   "id": "300fe916-8766-4107-930a-c1f259bd6db5",
   "metadata": {},
   "outputs": [
    {
     "data": {
      "text/plain": [
       "(('a', 1, 2), (1, 2, 1, 2, 1, 2))"
      ]
     },
     "execution_count": 6,
     "metadata": {},
     "output_type": "execute_result"
    }
   ],
   "source": [
    "# 연산\n",
    "('a',) + (1, 2), (1, 2) * 3"
   ]
  },
  {
   "cell_type": "code",
   "execution_count": 10,
   "id": "cff8ef6e-d746-4288-90a8-2ee2e135b2dc",
   "metadata": {},
   "outputs": [
    {
     "data": {
      "text/plain": [
       "(1667240172800, 1667235711488)"
      ]
     },
     "execution_count": 10,
     "metadata": {},
     "output_type": "execute_result"
    }
   ],
   "source": [
    "x = ('a',)\n",
    "y = (1, 2)\n",
    "id(x), id(x + y) # 튜플은 불변객체. 따라서 x, y가 바뀌는 것이 아닌 새로운 변수에 할당하는 것임. 따라서 id도 다름."
   ]
  },
  {
   "cell_type": "code",
   "execution_count": 11,
   "id": "d2bcda95-ffd0-4fc5-8156-82f4fab6ae12",
   "metadata": {},
   "outputs": [
    {
     "data": {
      "text/plain": [
       "True"
      ]
     },
     "execution_count": 11,
     "metadata": {},
     "output_type": "execute_result"
    }
   ],
   "source": [
    "# 비교. 첫 인자부터 비교한다.\n",
    "x = 1, 2\n",
    "y = 1, 6\n",
    "\n",
    "x < y"
   ]
  },
  {
   "cell_type": "code",
   "execution_count": 12,
   "id": "82eded9b-15b9-434b-ab6e-e432c4cc16e9",
   "metadata": {},
   "outputs": [
    {
     "name": "stdout",
     "output_type": "stream",
     "text": [
      "(1, 2)\n",
      "(1, 2)\n"
     ]
    }
   ],
   "source": [
    "# 순회\n",
    "for i in x:\n",
    "    print(x)"
   ]
  },
  {
   "cell_type": "code",
   "execution_count": 13,
   "id": "ad667482-e4fd-443e-83af-5db6078269df",
   "metadata": {},
   "outputs": [
    {
     "data": {
      "text/plain": [
       "[1, 2]"
      ]
     },
     "execution_count": 13,
     "metadata": {},
     "output_type": "execute_result"
    }
   ],
   "source": [
    "# 리스트 컴프리헨션에서도 사용 가능. but 리스트로 바뀌는 것임.\n",
    "[i for i in x] #1"
   ]
  },
  {
   "cell_type": "code",
   "execution_count": null,
   "id": "8b30ad18-147a-43b6-9c6f-e153e9ead7c4",
   "metadata": {},
   "outputs": [],
   "source": [
    "# tuple comprehension?? 없음. but 튜플로 변경은 가능.\n",
    "tuple([i for i in x]) #2\n",
    "*[i for i in x], # 느림 #3\n",
    "# 웬만하면 그냥 리스트 컴프리헨션 사용."
   ]
  },
  {
   "cell_type": "code",
   "execution_count": 9,
   "id": "84d64b11-5b81-44a4-a423-9c7476bdb977",
   "metadata": {},
   "outputs": [],
   "source": [
    "# 형변환\n",
    "dog = 'dog'\n",
    "dogT = tuple(dog)"
   ]
  },
  {
   "cell_type": "code",
   "execution_count": 8,
   "id": "6fb07d20-337a-4de4-9d99-e192e2337771",
   "metadata": {},
   "outputs": [
    {
     "data": {
      "text/plain": [
       "('dog',)"
      ]
     },
     "execution_count": 8,
     "metadata": {},
     "output_type": "execute_result"
    }
   ],
   "source": [
    "(dog,)"
   ]
  },
  {
   "cell_type": "code",
   "execution_count": 10,
   "id": "9d1e9a9c-e6ce-430a-a9c0-0c8523539097",
   "metadata": {},
   "outputs": [
    {
     "data": {
      "text/plain": [
       "['d', 'o', 'g']"
      ]
     },
     "execution_count": 10,
     "metadata": {},
     "output_type": "execute_result"
    }
   ],
   "source": [
    "list(dog)"
   ]
  },
  {
   "cell_type": "code",
   "execution_count": 19,
   "id": "af471049-8a27-44d1-8a46-901c7b5842eb",
   "metadata": {},
   "outputs": [
    {
     "data": {
      "text/plain": [
       "'d'"
      ]
     },
     "execution_count": 19,
     "metadata": {},
     "output_type": "execute_result"
    }
   ],
   "source": [
    "# slicing\n",
    "dogT[0]"
   ]
  },
  {
   "cell_type": "markdown",
   "id": "b0d62ff5-72fe-4756-9383-fd603fd4db4b",
   "metadata": {},
   "source": [
    "[정리]\n",
    "- tuple 장점\n",
    "    - 변하지 않는 데이터 시퀀스를 만들 수 있다. 타인의 접근을 막는다.\n",
    "        - blue=1, white=2, ...\n",
    "    - 메모리 사용 적다.\n",
    "    \n",
    "- list 장점\n",
    "    - 튜플 장점 필요 없을 때 전부 리스트 사용\n",
    "    - 데이터를 순차적으로 파악할 때\n",
    "    - 중복 데이터를 쓸 수 있다는 점 vs. set"
   ]
  },
  {
   "cell_type": "markdown",
   "id": "272e7b84-fdb2-4e92-bc76-573935907c15",
   "metadata": {},
   "source": [
    "### 리스트의 유용한 함수들\n",
    "- 변경, 삭제, 추가,\n",
    "- 리스트컴프리헨션 업그레이드"
   ]
  },
  {
   "cell_type": "code",
   "execution_count": 20,
   "id": "ed6a2931-6bfe-4953-82bc-6f44aba9b807",
   "metadata": {},
   "outputs": [
    {
     "data": {
      "text/plain": [
       "[0, 1, 2, 3, 4]"
      ]
     },
     "execution_count": 20,
     "metadata": {},
     "output_type": "execute_result"
    }
   ],
   "source": [
    "num = list(range(5))\n",
    "num"
   ]
  },
  {
   "cell_type": "code",
   "execution_count": 21,
   "id": "39e3f6e3-07a9-44c8-be95-eb64ec78c261",
   "metadata": {},
   "outputs": [],
   "source": [
    "# 추가\n",
    "# append()\n",
    "num.append(6) # 맨 뒤에 요소 1개만 추가"
   ]
  },
  {
   "cell_type": "code",
   "execution_count": 22,
   "id": "3a2719fe-2fbb-460b-bc46-726746e11763",
   "metadata": {},
   "outputs": [
    {
     "data": {
      "text/plain": [
       "[0, 1, 2, 3, 4, 6]"
      ]
     },
     "execution_count": 22,
     "metadata": {},
     "output_type": "execute_result"
    }
   ],
   "source": [
    "num"
   ]
  },
  {
   "cell_type": "code",
   "execution_count": 23,
   "id": "cc1be7b9-4f73-449b-8aac-441deea4284e",
   "metadata": {},
   "outputs": [
    {
     "data": {
      "text/plain": [
       "[8, 0, 1, 2, 3, 4, 6]"
      ]
     },
     "execution_count": 23,
     "metadata": {},
     "output_type": "execute_result"
    }
   ],
   "source": [
    "# 추가\n",
    "# insert(index, item). index위치에 item추가.\n",
    "num.insert(0, 8)\n",
    "num"
   ]
  },
  {
   "cell_type": "code",
   "execution_count": 24,
   "id": "8acaa602-1e92-4aa7-ad4d-b8b07b85d000",
   "metadata": {},
   "outputs": [
    {
     "data": {
      "text/plain": [
       "[8, 0, 1, 2, 3, 4, 6, 6, 6, 6]"
      ]
     },
     "execution_count": 24,
     "metadata": {},
     "output_type": "execute_result"
    }
   ],
   "source": [
    "# 추가\n",
    "# 여러 개 추가. extend(list)\n",
    "x = [6, 6, 6]\n",
    "num.extend(x) # 리스트를 리스트로 \n",
    "num"
   ]
  },
  {
   "cell_type": "code",
   "execution_count": 25,
   "id": "55483642-7721-4534-975d-2e47485ae7df",
   "metadata": {},
   "outputs": [
    {
     "data": {
      "text/plain": [
       "[8, 0, 1, 2, 3, 4, 6, 6, 6, 6, 1, 2]"
      ]
     },
     "execution_count": 25,
     "metadata": {},
     "output_type": "execute_result"
    }
   ],
   "source": [
    "num += x # 튜플은 안됨. # extend = +\n",
    "num"
   ]
  },
  {
   "cell_type": "code",
   "execution_count": 26,
   "id": "a8acf25f-8452-4191-9ccb-fbdff63b8811",
   "metadata": {},
   "outputs": [
    {
     "data": {
      "text/plain": [
       "[9, 0, 1, 2, 3, 4, 6, 6, 6, 6, 1, 2]"
      ]
     },
     "execution_count": 26,
     "metadata": {},
     "output_type": "execute_result"
    }
   ],
   "source": [
    "# offset\n",
    "num[0] = 9\n",
    "num"
   ]
  },
  {
   "cell_type": "code",
   "execution_count": 27,
   "id": "108bd428-8a13-4e1e-8f58-5ee343d40ecc",
   "metadata": {},
   "outputs": [
    {
     "data": {
      "text/plain": [
       "[2, 2, 2, 2, 3, 4, 6, 6, 6, 6, 1, 2]"
      ]
     },
     "execution_count": 27,
     "metadata": {},
     "output_type": "execute_result"
    }
   ],
   "source": [
    "# slice\n",
    "num[:3] = 2, 2, 2\n",
    "num"
   ]
  },
  {
   "cell_type": "code",
   "execution_count": 15,
   "id": "1c20ae41-d413-4048-a365-33e593a105c9",
   "metadata": {},
   "outputs": [
    {
     "data": {
      "text/plain": [
       "['c', 'a', 't', 3, 4, 6, 6, 6, 6, 1, 2]"
      ]
     },
     "execution_count": 15,
     "metadata": {},
     "output_type": "execute_result"
    }
   ],
   "source": [
    "# str 넣으면 unpacking. 그리고 밑의 예 처럼 [3]까지 cat으로 바꾸면 [3]은 없어진다.\n",
    "num = [2, 2, 2, 2, 3, 4, 6, 6, 6, 6, 1, 2]\n",
    "num[:4] = 'cat'\n",
    "num"
   ]
  },
  {
   "cell_type": "code",
   "execution_count": 29,
   "id": "1ac0d6f5-5b3d-49ca-bb00-cc1e270c0e8f",
   "metadata": {},
   "outputs": [
    {
     "data": {
      "text/plain": [
       "[2, 3, 4, 6, 6, 6, 6, 1, 2]"
      ]
     },
     "execution_count": 29,
     "metadata": {},
     "output_type": "execute_result"
    }
   ],
   "source": [
    "# 삭제\n",
    "# del list[index]\n",
    "del num[:3]\n",
    "num"
   ]
  },
  {
   "cell_type": "code",
   "execution_count": 17,
   "id": "a523b2e5-185d-4b60-acb0-09de2e8232a1",
   "metadata": {},
   "outputs": [
    {
     "data": {
      "text/plain": [
       "[2, 3, 4, 6, 1, 2]"
      ]
     },
     "execution_count": 17,
     "metadata": {},
     "output_type": "execute_result"
    }
   ],
   "source": [
    "# 삭제\n",
    "# remove(value)\n",
    "num = [2, 3, 4, [6, 6, 6], 6, 1, 2]\n",
    "num.remove([6, 6, 6])\n",
    "num"
   ]
  },
  {
   "cell_type": "code",
   "execution_count": 31,
   "id": "c7bb6d24-2e18-42cd-8bf9-f4bdc9f2c34e",
   "metadata": {},
   "outputs": [
    {
     "data": {
      "text/plain": [
       "[2, 3, 4, 6, 6, 6, 6, 1]"
      ]
     },
     "execution_count": 31,
     "metadata": {},
     "output_type": "execute_result"
    }
   ],
   "source": [
    "# 삭제\n",
    "# pop(index) 기본값=-1. 따라서 맨뒤 없어짐. \n",
    "num.pop()\n",
    "num"
   ]
  },
  {
   "cell_type": "code",
   "execution_count": 32,
   "id": "46d629a0-177b-4e63-9bec-fb162d0e777e",
   "metadata": {},
   "outputs": [
    {
     "data": {
      "text/plain": [
       "[3, 4, 6, 6, 6, 6, 1]"
      ]
     },
     "execution_count": 32,
     "metadata": {},
     "output_type": "execute_result"
    }
   ],
   "source": [
    "num.pop(0)\n",
    "num"
   ]
  },
  {
   "cell_type": "code",
   "execution_count": 34,
   "id": "3a013dfa-0547-47ef-9884-bebbc05bb212",
   "metadata": {},
   "outputs": [
    {
     "data": {
      "text/plain": [
       "[]"
      ]
     },
     "execution_count": 34,
     "metadata": {},
     "output_type": "execute_result"
    }
   ],
   "source": [
    "# clear: 다 지움.\n",
    "num.clear()\n",
    "num"
   ]
  },
  {
   "cell_type": "code",
   "execution_count": 35,
   "id": "155c503f-955c-43d5-a58c-1195e8d012be",
   "metadata": {},
   "outputs": [
    {
     "data": {
      "text/plain": [
       "4"
      ]
     },
     "execution_count": 35,
     "metadata": {},
     "output_type": "execute_result"
    }
   ],
   "source": [
    "# 인덱스\n",
    "num = list(range(5))\n",
    "num.index(4)"
   ]
  },
  {
   "cell_type": "code",
   "execution_count": 36,
   "id": "c1e80527-fc12-44fe-a95b-f60ed8fb43e1",
   "metadata": {},
   "outputs": [
    {
     "data": {
      "text/plain": [
       "True"
      ]
     },
     "execution_count": 36,
     "metadata": {},
     "output_type": "execute_result"
    }
   ],
   "source": [
    "0 in num"
   ]
  },
  {
   "cell_type": "code",
   "execution_count": 38,
   "id": "62040f8a-aeb6-441e-92dd-1e2c20f57b2a",
   "metadata": {},
   "outputs": [
    {
     "data": {
      "text/plain": [
       "[4, 3, 2, 1, 0]"
      ]
     },
     "execution_count": 38,
     "metadata": {},
     "output_type": "execute_result"
    }
   ],
   "source": [
    "# 정렬: sort(), sorted()\n",
    "sorted(num, reverse=True) # 변한 값만 복사해서 출력. 안변함."
   ]
  },
  {
   "cell_type": "code",
   "execution_count": 40,
   "id": "3925c0c4-cb99-4990-a3f3-a27b3f0669a0",
   "metadata": {},
   "outputs": [],
   "source": [
    "num.sort(reverse=True) # 리스트.sort(), 값을 할당하지 않아도 된다. 변함."
   ]
  },
  {
   "cell_type": "code",
   "execution_count": 41,
   "id": "50cf4ec1-4c0e-4bd6-8b28-b4f285f3a4c3",
   "metadata": {},
   "outputs": [
    {
     "data": {
      "text/plain": [
       "[4, 3, 2, 1, 0]"
      ]
     },
     "execution_count": 41,
     "metadata": {},
     "output_type": "execute_result"
    }
   ],
   "source": [
    "num"
   ]
  },
  {
   "cell_type": "code",
   "execution_count": 42,
   "id": "02c63309-fdb3-47e2-b758-a725ffc29aab",
   "metadata": {},
   "outputs": [
    {
     "data": {
      "text/plain": [
       "<list_reverseiterator at 0x1842f51d4f0>"
      ]
     },
     "execution_count": 42,
     "metadata": {},
     "output_type": "execute_result"
    }
   ],
   "source": [
    "# reverse(), reversed()\n",
    "num.reverse() # 값 반환 o\n",
    "reversed(num) # 값 반환 x"
   ]
  },
  {
   "cell_type": "code",
   "execution_count": 43,
   "id": "402eae04-de05-4587-8793-6978f8647f25",
   "metadata": {},
   "outputs": [
    {
     "data": {
      "text/plain": [
       "[1, 2, 3, 4]"
      ]
     },
     "execution_count": 43,
     "metadata": {},
     "output_type": "execute_result"
    }
   ],
   "source": [
    "# 할당\n",
    "a = list(range(1, 5))\n",
    "a"
   ]
  },
  {
   "cell_type": "code",
   "execution_count": 44,
   "id": "d9e060b6-33dc-4861-9f20-8189330ebc93",
   "metadata": {},
   "outputs": [
    {
     "data": {
      "text/plain": [
       "([6, 2, 3, 4], [6, 2, 3, 4])"
      ]
     },
     "execution_count": 44,
     "metadata": {},
     "output_type": "execute_result"
    }
   ],
   "source": [
    "b = a # = -> 메모리주소를 참조하는 것. 따라서 b가 바뀌면 a도 바뀜.\n",
    "b[0] = 6\n",
    "a, b"
   ]
  },
  {
   "cell_type": "code",
   "execution_count": 45,
   "id": "ac5fbedf-deb3-4b51-ade5-1f5b49bf0998",
   "metadata": {},
   "outputs": [
    {
     "data": {
      "text/plain": [
       "(1667241214016, 1667241214016)"
      ]
     },
     "execution_count": 45,
     "metadata": {},
     "output_type": "execute_result"
    }
   ],
   "source": [
    "id(a), id(b) # 메모리주소를 참조했기 때문에 같음."
   ]
  },
  {
   "cell_type": "code",
   "execution_count": 46,
   "id": "656604f8-3899-41c8-853b-48b00b2ebd96",
   "metadata": {},
   "outputs": [
    {
     "data": {
      "text/plain": [
       "(1667241214016, 1667239476864, 1667241216448, 1667240222208)"
      ]
     },
     "execution_count": 46,
     "metadata": {},
     "output_type": "execute_result"
    }
   ],
   "source": [
    "# shallow copy: 참조하지 않고 새로운 객체에 할당하는 방법. 얕은 복사\n",
    "c = a.copy()\n",
    "d = list(a)\n",
    "e = a[:]\n",
    "\n",
    "id(a), id(c), id(d), id(e)"
   ]
  },
  {
   "cell_type": "code",
   "execution_count": 47,
   "id": "7b4ce827-5f14-495c-9785-f7239bca477b",
   "metadata": {},
   "outputs": [
    {
     "data": {
      "text/plain": [
       "[6, 2, 3, 4, [1, 2, 3]]"
      ]
     },
     "execution_count": 47,
     "metadata": {},
     "output_type": "execute_result"
    }
   ],
   "source": [
    "# deep copy: 깊은 복사, 하위에 중첩된 리스트 요소가 안 바뀌도록\n",
    "a.append([1, 2, 3])\n",
    "a"
   ]
  },
  {
   "cell_type": "code",
   "execution_count": 48,
   "id": "f0e9163b-8d58-4def-8aae-bc2b4ac0e9c0",
   "metadata": {},
   "outputs": [
    {
     "data": {
      "text/plain": [
       "(1667241214016, 1667240429760)"
      ]
     },
     "execution_count": 48,
     "metadata": {},
     "output_type": "execute_result"
    }
   ],
   "source": [
    "f = a.copy()\n",
    "id(a), id(f) # "
   ]
  },
  {
   "cell_type": "code",
   "execution_count": 49,
   "id": "8d30845f-5350-444f-be87-8763afcb1730",
   "metadata": {},
   "outputs": [
    {
     "data": {
      "text/plain": [
       "([6, 2, 3, 4, [9, 2, 3]], [6, 2, 3, 4, [9, 2, 3]])"
      ]
     },
     "execution_count": 49,
     "metadata": {},
     "output_type": "execute_result"
    }
   ],
   "source": [
    "f[-1][0] = 9\n",
    "a, f"
   ]
  },
  {
   "cell_type": "code",
   "execution_count": 50,
   "id": "5e328fe9-96a7-4ca9-92bd-952e6de78923",
   "metadata": {},
   "outputs": [
    {
     "data": {
      "text/plain": [
       "[6, 2, 3, 4, [9, 2, 3]]"
      ]
     },
     "execution_count": 50,
     "metadata": {},
     "output_type": "execute_result"
    }
   ],
   "source": [
    "import copy\n",
    "g = copy.deepcopy(a)\n",
    "g"
   ]
  },
  {
   "cell_type": "code",
   "execution_count": 51,
   "id": "76afa205-90f3-4c07-8117-31324c8cccb0",
   "metadata": {},
   "outputs": [
    {
     "data": {
      "text/plain": [
       "([6, 2, 3, 4, [9, 2, 3]], [6, 2, 3, 4, [10, 2, 3]])"
      ]
     },
     "execution_count": 51,
     "metadata": {},
     "output_type": "execute_result"
    }
   ],
   "source": [
    "g[-1][0] = 10\n",
    "a, g"
   ]
  },
  {
   "cell_type": "code",
   "execution_count": 55,
   "id": "00812f41-c19f-4892-b481-0f604e989611",
   "metadata": {},
   "outputs": [
    {
     "name": "stdout",
     "output_type": "stream",
     "text": [
      "('kate', 77)\n",
      "('royce', 44)\n",
      "('phill', 54)\n"
     ]
    }
   ],
   "source": [
    "# 순회: zip, enumerate\n",
    "name = ['kate', 'royce', 'phill']\n",
    "age = [77, 44, 54, 99]\n",
    "\n",
    "# (name, age)\n",
    "for item1, item2 in zip(name, age): # 여러 리스트를 동시에 순회\n",
    "    print((item1, item2))"
   ]
  },
  {
   "cell_type": "code",
   "execution_count": 56,
   "id": "6092da06-8fe7-4c59-b931-78152678855a",
   "metadata": {},
   "outputs": [
    {
     "data": {
      "text/plain": [
       "[('kate', 77), ('royce', 44), ('phill', 54)]"
      ]
     },
     "execution_count": 56,
     "metadata": {},
     "output_type": "execute_result"
    }
   ],
   "source": [
    "list(zip(name, age))"
   ]
  },
  {
   "cell_type": "code",
   "execution_count": 57,
   "id": "c88facf1-e00b-4315-894c-abc7d77daae2",
   "metadata": {},
   "outputs": [
    {
     "name": "stdout",
     "output_type": "stream",
     "text": [
      "0 kate\n",
      "1 royce\n",
      "2 phill\n"
     ]
    }
   ],
   "source": [
    "# 리스트 + 인덱스 enumerate\n",
    "for idx, item in enumerate(name):\n",
    "    print(idx, item)"
   ]
  },
  {
   "cell_type": "code",
   "execution_count": 58,
   "id": "a56e91fc-94b0-4ee6-a472-68b74e2ffcb1",
   "metadata": {},
   "outputs": [
    {
     "data": {
      "text/plain": [
       "[('kate', 77), ('royce', 44), ('phill', 54)]"
      ]
     },
     "execution_count": 58,
     "metadata": {},
     "output_type": "execute_result"
    }
   ],
   "source": [
    "# 리스트컴프리헨션으로 바꾸기.\n",
    "[(i, j) for i, j in zip(name, age)]"
   ]
  },
  {
   "cell_type": "code",
   "execution_count": 62,
   "id": "6241c723-13c9-41e8-9ac3-0c3ace9463e8",
   "metadata": {},
   "outputs": [
    {
     "name": "stdout",
     "output_type": "stream",
     "text": [
      "[('kate', 77), ('royce', 44), ('phill', 54)]\n"
     ]
    }
   ],
   "source": [
    "# name, age를 이용해서 새로운 리스트를 생성하는데 (이름, 나이), for문 사용!\n",
    "new_list = []\n",
    "for i, j in zip(name, age):\n",
    "    new_list.append((i, j))\n",
    "print(new_list)"
   ]
  },
  {
   "cell_type": "code",
   "execution_count": 66,
   "id": "e238ac54-8b02-4fa9-91e7-d82ffbb9c4f2",
   "metadata": {},
   "outputs": [
    {
     "data": {
      "text/plain": [
       "[('kate', 77),\n",
       " ('royce', 77),\n",
       " ('phill', 77),\n",
       " ('kate', 44),\n",
       " ('royce', 44),\n",
       " ('phill', 44),\n",
       " ('kate', 54),\n",
       " ('royce', 54),\n",
       " ('phill', 54),\n",
       " ('kate', 99),\n",
       " ('royce', 99),\n",
       " ('phill', 99)]"
      ]
     },
     "execution_count": 66,
     "metadata": {},
     "output_type": "execute_result"
    }
   ],
   "source": [
    "[(i, j) for i, j in zip(name, age)]\n",
    "\n",
    "#1. for문의 리.컴으로 바꿔보기\n",
    "\"\"\"\n",
    "for i in name:\n",
    "    for j in age:\n",
    "        print(i, j)\n",
    "\"\"\"        \n",
    "[(i, j) for j in age for i in name]"
   ]
  },
  {
   "cell_type": "code",
   "execution_count": 70,
   "id": "3ab919af-8612-465d-8756-4beb8da8a8f7",
   "metadata": {},
   "outputs": [
    {
     "data": {
      "text/plain": [
       "[[('kate', 77), ('kate', 44), ('kate', 54), ('kate', 99)],\n",
       " [('royce', 77), ('royce', 44), ('royce', 54), ('royce', 99)],\n",
       " [('phill', 77), ('phill', 44), ('phill', 54), ('phill', 99)]]"
      ]
     },
     "execution_count": 70,
     "metadata": {},
     "output_type": "execute_result"
    }
   ],
   "source": [
    "#2. [i, j] 리스트의 리스트로 바꿔보기 (리.컴)\n",
    "\"\"\"\n",
    "for i in name:\n",
    "    empty = []\n",
    "    for j in age:\n",
    "        print(i, j)\n",
    "        empty.append((i, j))\n",
    "    output.append(empty)\n",
    "\"\"\"\n",
    "[[(i, j) for j in age] for i in name]"
   ]
  },
  {
   "cell_type": "code",
   "execution_count": 77,
   "id": "0165bfbf-81d6-4801-8c13-2cd2bc8efeb9",
   "metadata": {},
   "outputs": [
    {
     "data": {
      "text/plain": [
       "[('DO', 'Do', 2),\n",
       " ('NOT', 'Not', 3),\n",
       " ('JUDGE', 'Judge', 5),\n",
       " ('A', 'A', 1),\n",
       " ('BOOK', 'Book', 4),\n",
       " ('BY', 'By', 2),\n",
       " ('ITS', 'Its', 3),\n",
       " ('COVER', 'Cover', 5)]"
      ]
     },
     "execution_count": 77,
     "metadata": {},
     "output_type": "execute_result"
    }
   ],
   "source": [
    "sentence = \"do not judge a book by its cover\"\n",
    "[(word.upper(), word.title(), len(word)) for word in sentence.split()]\n",
    "\n",
    "# [(대문자, 첫글자대문자, 글자수), ...]의 리스트 만들기"
   ]
  },
  {
   "cell_type": "code",
   "execution_count": 85,
   "id": "45a642f9-192d-4c0d-8197-eb555c67edd3",
   "metadata": {},
   "outputs": [
    {
     "data": {
      "text/plain": [
       "['Sunja',\n",
       " 'said',\n",
       " 'goodniight',\n",
       " 'to',\n",
       " 'her',\n",
       " 'mother',\n",
       " 'Hansu',\n",
       " 'was',\n",
       " 'no',\n",
       " 'longer',\n",
       " 'in',\n",
       " 'Busan']"
      ]
     },
     "execution_count": 85,
     "metadata": {},
     "output_type": "execute_result"
    }
   ],
   "source": [
    "text = [\n",
    "    ['Sunja', 'said', 'goodniight', 'to', 'her', 'mother'],\n",
    "    ['Hansu', 'was', 'no', 'longer', 'in', 'Busan'],\n",
    "]\n",
    "#1. 문장마다 스트링으로 변환해서 리스트로 변환\n",
    "    # ['문장1', '문장2']\n",
    "[' '.join(sent) for sent in text]\n",
    "#2. 전체를 스트링으로 변환\n",
    "    # '문장1 문장2'\n",
    "' '.join([' '.join(sent) for sent in text])\n",
    "#3. 전체 단어 리스트 가져오기\n",
    "    #\n",
    "([word for sent in text for word in sent])"
   ]
  },
  {
   "cell_type": "code",
   "execution_count": 86,
   "id": "deb59d5b-5f86-44af-818e-54209537d971",
   "metadata": {},
   "outputs": [
    {
     "data": {
      "text/plain": [
       "[0, 1, 2, 3, 4, 5, 6, 7, 8, 9]"
      ]
     },
     "execution_count": 86,
     "metadata": {},
     "output_type": "execute_result"
    }
   ],
   "source": [
    "# if문 - else\n",
    "[i for i in range(10)] # 짝수면 가져오고, 홀수면 '홀수'"
   ]
  },
  {
   "cell_type": "code",
   "execution_count": 87,
   "id": "229074b0-0abd-4e5a-bcf5-32f2e37a3e47",
   "metadata": {},
   "outputs": [
    {
     "data": {
      "text/plain": [
       "[0, '홀수', 2, '홀수', 4, '홀수', 6, '홀수', 8, '홀수']"
      ]
     },
     "execution_count": 87,
     "metadata": {},
     "output_type": "execute_result"
    }
   ],
   "source": [
    "[i if i%2 == 0 else '홀수' for i in range(10)]"
   ]
  }
 ],
 "metadata": {
  "kernelspec": {
   "display_name": "Python 3 (ipykernel)",
   "language": "python",
   "name": "python3"
  },
  "language_info": {
   "codemirror_mode": {
    "name": "ipython",
    "version": 3
   },
   "file_extension": ".py",
   "mimetype": "text/x-python",
   "name": "python",
   "nbconvert_exporter": "python",
   "pygments_lexer": "ipython3",
   "version": "3.9.7"
  }
 },
 "nbformat": 4,
 "nbformat_minor": 5
}
